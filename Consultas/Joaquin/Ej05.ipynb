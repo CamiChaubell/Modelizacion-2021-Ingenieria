{
 "cells": [
  {
   "cell_type": "markdown",
   "metadata": {},
   "source": [
    "EJERCICIO 05\n"
   ]
  },
  {
   "cell_type": "code",
   "execution_count": 20,
   "metadata": {},
   "outputs": [],
   "source": [
    "import numpy as np\n",
    "import matplotlib.pyplot as plt\n",
    "import copy"
   ]
  },
  {
   "cell_type": "code",
   "execution_count": 2,
   "metadata": {},
   "outputs": [],
   "source": [
    "z, T = np.loadtxt('DATA.txt', unpack = True)\n",
    "n = len(T)"
   ]
  },
  {
   "cell_type": "code",
   "execution_count": 3,
   "metadata": {},
   "outputs": [
    {
     "data": {
      "text/plain": [
       "array([0. , 0.5, 1. , 1.5, 2. , 2.5, 3. ])"
      ]
     },
     "execution_count": 3,
     "metadata": {},
     "output_type": "execute_result"
    }
   ],
   "source": [
    "z"
   ]
  },
  {
   "cell_type": "code",
   "execution_count": 4,
   "metadata": {},
   "outputs": [
    {
     "data": {
      "text/plain": [
       "array([70., 68., 55., 22., 13., 11., 10.])"
      ]
     },
     "execution_count": 4,
     "metadata": {},
     "output_type": "execute_result"
    }
   ],
   "source": [
    "T"
   ]
  },
  {
   "cell_type": "code",
   "execution_count": 5,
   "metadata": {},
   "outputs": [
    {
     "data": {
      "text/plain": [
       "Text(0, 0.5, 'T')"
      ]
     },
     "execution_count": 5,
     "metadata": {},
     "output_type": "execute_result"
    },
    {
     "data": {
      "image/png": "[encoded data removed]",
      "text/plain": [
       "<Figure size 432x288 with 1 Axes>"
      ]
     },
     "metadata": {
      "needs_background": "light"
     },
     "output_type": "display_data"
    }
   ],
   "source": [
    "plt.plot(z,T,'o', ms = 10)\n",
    "plt.xlabel('z')\n",
    "plt.ylabel('T')"
   ]
  },
  {
   "cell_type": "markdown",
   "metadata": {},
   "source": [
    "(Xi, Yi)i=1...N \n",
    "\n",
    "Ii = [Xi, Xi+1]\n",
    "\n",
    "fi = ai(x - Xi)^3 + bi(x - Xi)^2 + ci(x - Xi) + di\n",
    "\n",
    "Si tengo N puntos necesito N-1 polinomios de grado 3 para que sean dos veces derivables y continuos.\n",
    "Sistema de ecuaciones que resuelvo de manera recursiva. La condicion es que los polinomios tienen el mismo valor en los puntos compartidos.\n",
    "\n",
    "Condiciones de contorno:\n",
    "-definir un valor a las derivadas segundas en los extremos, por ejemplo cero.\n",
    "\n",
    "Referencia: apunte Interpolacion"
   ]
  },
  {
   "cell_type": "code",
   "execution_count": 6,
   "metadata": {},
   "outputs": [],
   "source": [
    "H = []     #Defino el espaciado H\n",
    "\n",
    "for i in range(n-1):\n",
    "    H.append(z[i+1] - z[i])\n",
    "    "
   ]
  },
  {
   "cell_type": "code",
   "execution_count": 7,
   "metadata": {},
   "outputs": [
    {
     "data": {
      "text/plain": [
       "[0.5, 0.5, 0.5, 0.5, 0.5, 0.5]"
      ]
     },
     "execution_count": 7,
     "metadata": {},
     "output_type": "execute_result"
    }
   ],
   "source": [
    "H"
   ]
  },
  {
   "cell_type": "code",
   "execution_count": 132,
   "metadata": {},
   "outputs": [],
   "source": [
    "#Defino la matriz\n",
    "#excluye fila 1 y n+1\n",
    "matriz = np.zeros([n, n])\n",
    "D = np.zeros((n,))     #Vector de cargas Y\n",
    "\n",
    "for i in range(1, n-1):\n",
    "    matriz[i, i-1] = H[i-1]\n",
    "    matriz[i, i] = 2*(H[1] + H[i-1])\n",
    "    matriz[i, i+1] = H[i]\n",
    "    D[i] = ((T[i+1]-T[i])/H[i] - (T[i]-T[i-1])/H[i-1])   #Ojo que no arranque en cero #Escribir el vector de cargas\n",
    "matriz[0][0] = 1\n",
    "matriz[n-1][n-1] = 1\n",
    "D = 3*np.array(D)"
   ]
  },
  {
   "cell_type": "code",
   "execution_count": 133,
   "metadata": {},
   "outputs": [
    {
     "data": {
      "text/plain": [
       "array([   0.,  -66., -120.,  144.,   42.,    6.,    0.])"
      ]
     },
     "execution_count": 133,
     "metadata": {},
     "output_type": "execute_result"
    }
   ],
   "source": [
    "D\n"
   ]
  },
  {
   "cell_type": "code",
   "execution_count": 143,
   "metadata": {},
   "outputs": [],
   "source": [
    "#Encontrar vector b: Invertir la matriz y multiplicar por D o directamente usar linalg.solve\n",
    "\n",
    "b = np.linalg.solve(matriz, D)"
   ]
  },
  {
   "cell_type": "code",
   "execution_count": 144,
   "metadata": {},
   "outputs": [
    {
     "data": {
      "text/plain": [
       "array([  0.        , -13.01538462, -79.93846154,  92.76923077,\n",
       "        -3.13846154,   3.78461538,  -0.        ])"
      ]
     },
     "execution_count": 144,
     "metadata": {},
     "output_type": "execute_result"
    }
   ],
   "source": [
    "b"
   ]
  },
  {
   "cell_type": "markdown",
   "metadata": {},
   "source": [
    "#Ahora calcular los coeficientes del polinomio que faltan (a y c).. di = yi\n",
    "#4 coeficientes por intervalo, 4(N-1) incognitas\n",
    "\n",
    "Las condiciones de contorno agregan 2 ecuaciones para resolver el sistema:\n"
   ]
  },
  {
   "cell_type": "code",
   "execution_count": 145,
   "metadata": {},
   "outputs": [],
   "source": [
    "\n",
    "a = np.zeros((n-1,))\n",
    "c = np.zeros((n-1,))\n",
    "d= np.zeros((n-1,))\n",
    "\n",
    "for i in range(len(b)-1):\n",
    "    a[i] = ((b[i+1] - b[i])/(3*H[i]))\n",
    "    c[i] = ((T[i+1] - T[i])/H[i]) - (b[i]*H[i]) - (a[i]*H[i]**2)\n",
    "    d[i] = T[i]"
   ]
  },
  {
   "cell_type": "code",
   "execution_count": 146,
   "metadata": {},
   "outputs": [
    {
     "data": {
      "text/plain": [
       "array([  0.        , -13.01538462, -79.93846154,  92.76923077,\n",
       "        -3.13846154,   3.78461538,  -0.        ])"
      ]
     },
     "execution_count": 146,
     "metadata": {},
     "output_type": "execute_result"
    }
   ],
   "source": [
    "b\n",
    "\n"
   ]
  },
  {
   "cell_type": "code",
   "execution_count": 155,
   "metadata": {},
   "outputs": [],
   "source": [
    "b1 = b[:len(b)-1]\n",
    "P = [a, b1, c, d]\n",
    "p=np.zeros([len(P[0]), 4])\n",
    "for i in range(4):\n",
    "    p[:, i] = P[i]      #coeficientes de los polinomios para cada intervalo H. (en cada fila)"
   ]
  },
  {
   "cell_type": "code",
   "execution_count": 166,
   "metadata": {},
   "outputs": [
    {
     "data": {
      "text/plain": [
       "array([[ -8.67692308,   0.        ,  -1.83076923],\n",
       "       [-44.61538462, -13.01538462,  -8.33846154],\n",
       "       [115.13846154, -79.93846154, -54.81538462],\n",
       "       [-63.93846154,  92.76923077, -48.4       ],\n",
       "       [  4.61538462,  -3.13846154,  -3.58461538],\n",
       "       [ -2.52307692,   3.78461538,  -3.26153846]])"
      ]
     },
     "execution_count": 166,
     "metadata": {},
     "output_type": "execute_result"
    }
   ],
   "source": [
    " p[:, :3] "
   ]
  },
  {
   "cell_type": "markdown",
   "metadata": {},
   "source": [
    "\n",
    "P(z-z[i]):"
   ]
  },
  {
   "cell_type": "code",
   "execution_count": 165,
   "metadata": {},
   "outputs": [
    {
     "data": {
      "text/plain": [
       "[<matplotlib.lines.Line2D at 0x175395954f0>]"
      ]
     },
     "execution_count": 165,
     "metadata": {},
     "output_type": "execute_result"
    },
    {
     "data": {
      "image/png": "[encoded data removed]",
      "text/plain": [
       "<Figure size 432x288 with 1 Axes>"
      ]
     },
     "metadata": {
      "needs_background": "light"
     },
     "output_type": "display_data"
    }
   ],
   "source": [
    "for i in range(n-1):\n",
    "    x = np.linspace(z[i], z[i+1], 80)\n",
    "    plt.plot(x, np.polyval(p[i], x-z[i]))\n",
    "plt.plot(z, T, '*')"
   ]
  },
  {
   "cell_type": "code",
   "execution_count": 170,
   "metadata": {},
   "outputs": [],
   "source": [
    "#Derivadas\n",
    "p_der = copy.copy(p[:, :3])\n",
    "p_der[:,0] = 3*p_der[:,0]\n",
    "p_der[:,1] = 2*p_der[:,1]"
   ]
  },
  {
   "cell_type": "code",
   "execution_count": 177,
   "metadata": {},
   "outputs": [
    {
     "data": {
      "text/plain": [
       "[<matplotlib.lines.Line2D at 0x1753a816520>]"
      ]
     },
     "execution_count": 177,
     "metadata": {},
     "output_type": "execute_result"
    },
    {
     "data": {
      "image/png": "[encoded data removed]",
      "text/plain": [
       "<Figure size 432x288 with 1 Axes>"
      ]
     },
     "metadata": {
      "needs_background": "light"
     },
     "output_type": "display_data"
    }
   ],
   "source": [
    "pol_der = []\n",
    "xx = []\n",
    "for i in range(n-1):\n",
    "    x = np.linspace(z[i], z[i+1], 100)\n",
    "    pol1 = np.polyval(p_der[i], x-z[i])\n",
    "    plt.plot(x, pol1)\n",
    "    plt.plot(x, np.polyval(p[i], x-z[i]))\n",
    "    pol_der.append(pol1)\n",
    "    xx.append(x)\n",
    "plt.plot(z, T, '*')"
   ]
  },
  {
   "cell_type": "code",
   "execution_count": 186,
   "metadata": {},
   "outputs": [],
   "source": [
    "der = np.array(pol_der).ravel()     #funcion derivada en un unico array\n",
    "minimo = min(der)                   #Derivada segunda nula --> capa thermocline\n",
    "pos = np.array(xx).ravel()\n"
   ]
  },
  {
   "cell_type": "code",
   "execution_count": 196,
   "metadata": {},
   "outputs": [
    {
     "data": {
      "text/plain": [
       "-73.31502907866545"
      ]
     },
     "execution_count": 196,
     "metadata": {},
     "output_type": "execute_result"
    }
   ],
   "source": [
    "minimo"
   ]
  },
  {
   "cell_type": "code",
   "execution_count": 195,
   "metadata": {},
   "outputs": [
    {
     "data": {
      "text/plain": [
       "1.2323232323232323"
      ]
     },
     "execution_count": 195,
     "metadata": {},
     "output_type": "execute_result"
    }
   ],
   "source": [
    "#np.where(der == minimo)\n",
    "pos[der.argmin()]                   #Profundidad a la cual se encuentra la capa thermocline [m]"
   ]
  }
 ],
 "metadata": {
  "kernelspec": {
   "display_name": "Python 3",
   "language": "python",
   "name": "python3"
  },
  "language_info": {
   "codemirror_mode": {
    "name": "ipython",
    "version": 3
   },
   "file_extension": ".py",
   "mimetype": "text/x-python",
   "name": "python",
   "nbconvert_exporter": "python",
   "pygments_lexer": "ipython3",
   "version": "3.8.5"
  }
 },
 "nbformat": 4,
 "nbformat_minor": 4
}
