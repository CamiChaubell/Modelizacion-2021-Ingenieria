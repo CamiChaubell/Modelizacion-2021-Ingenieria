{
 "cells": [
  {
   "cell_type": "markdown",
   "id": "twelve-clerk",
   "metadata": {},
   "source": [
    "# Problema 2:\n",
    "Determine la deformación y los esfuerzos principales en función de la posición para una chapa con\n",
    "un agujero en el centro sujeta a tracción por sus extremos, como se muestra en la figura. Las\n",
    "dimensiones de la chapa son de 20 x 10 pulgadas y su espesor de una pulgada. El radio del agujero\n",
    "central es también de 1 pulgada. Tome E = 30 x 106\n",
    " psi y n = 0.30.\n",
    "Analice el problema con número creciente de elementos y estudie su convergencia\n",
    "\n",
    "Aprovechando la simetría del ejercicio, se simula un cuarto de la pieza:\n",
    "\n",
    "                                           l2\n",
    "                                  p4------------------p3\n",
    "                                   l                   l\n",
    "                               l1  l           S       l\n",
    "            Empotrado              l                   l    l3     Traccionado\n",
    "                                   p5-----\\            l\n",
    "                                   l      l            l\n",
    "                                   p1----p6------------p2 \n",
    "                                               l4\n"
   ]
  },
  {
   "cell_type": "code",
   "execution_count": 1,
   "id": "prepared-nevada",
   "metadata": {},
   "outputs": [],
   "source": [
    "import gmsh\n",
    "import numpy as np\n",
    "import copy\n",
    "\n",
    "GL = 2     # Grados de libertad\n",
    "E = 30e6   # psi Modulo de elasticidad\n",
    "v = 0.3    # Módulo de Poisson\n",
    "T = 1000   # Tensión de tracción"
   ]
  },
  {
   "cell_type": "code",
   "execution_count": 2,
   "id": "infrared-sweet",
   "metadata": {},
   "outputs": [],
   "source": [
    "gmsh.initialize()\n",
    "gmsh.model.add('ej2')"
   ]
  },
  {
   "cell_type": "markdown",
   "id": "solved-allergy",
   "metadata": {},
   "source": [
    "Definición de puntos"
   ]
  },
  {
   "cell_type": "code",
   "execution_count": 3,
   "id": "usual-pointer",
   "metadata": {},
   "outputs": [],
   "source": [
    "# Sección rectangular\n",
    "\n",
    "lc = 4                                       # Refinamiento del mallado\n",
    "H = 5                                        # Alto en pulgadas\n",
    "L = 10                                       # Largo en pulgadas\n",
    "Es = 1                                       # Espesor en pulgadas\n",
    "p1 = gmsh.model.geo.addPoint(0, 0, 0, lc)\n",
    "p2 = gmsh.model.geo.addPoint(L, 0, 0, lc) \n",
    "p3 = gmsh.model.geo.addPoint(L, H, 0, lc) \n",
    "p4 = gmsh.model.geo.addPoint(0, H, 0, lc) \n",
    "\n",
    "# Sección circular central (Agujero)\n",
    "\n",
    "r = 1                                        # Radio en pulgadas\n",
    "la = 0.1                                     # Refinamiento del mallado cerca del círculo\n",
    "p5 = gmsh.model.geo.addPoint(0, r, 0, la)\n",
    "p6 = gmsh.model.geo.addPoint(r, 0, 0, la)"
   ]
  },
  {
   "cell_type": "markdown",
   "id": "instrumental-concentration",
   "metadata": {},
   "source": [
    "Definición de lineas entre los puntos y las uno para formar las curvas"
   ]
  },
  {
   "cell_type": "code",
   "execution_count": 4,
   "id": "indonesian-creek",
   "metadata": {},
   "outputs": [],
   "source": [
    "# Sección llena\n",
    "\n",
    "l1 = gmsh.model.geo.addLine(p5, p4)\n",
    "l2 = gmsh.model.geo.addLine(p4, p3)\n",
    "l3 = gmsh.model.geo.addLine(p3, p2)\n",
    "l4 = gmsh.model.geo.addLine(p2, p6)\n",
    "\n",
    "Rect = gmsh.model.geo.addCurveLoop([l1, l2, l3, l4])\n",
    "\n",
    "# Semicírculo en una esquina\n",
    "\n",
    "semi = gmsh.model.geo.addCircleArc(p5,p1,p6)\n",
    "\n",
    "Circ = gmsh.model.geo.addCurveLoop([semi])"
   ]
  },
  {
   "cell_type": "markdown",
   "id": "aerial-lighter",
   "metadata": {},
   "source": [
    "* Determino la superficie rectancular descontando el círculo\n",
    "* Sincronizo los elementos geométricos"
   ]
  },
  {
   "cell_type": "code",
   "execution_count": 5,
   "id": "persistent-store",
   "metadata": {},
   "outputs": [],
   "source": [
    "S = gmsh.model.geo.addPlaneSurface([Rect, Circ])\n",
    "\n",
    "gmsh.model.geo.synchronize()"
   ]
  },
  {
   "cell_type": "markdown",
   "id": "noted-encounter",
   "metadata": {},
   "source": [
    "Condiciones de contorno: defino los grupos físicos"
   ]
  },
  {
   "cell_type": "code",
   "execution_count": 6,
   "id": "iraqi-wings",
   "metadata": {},
   "outputs": [],
   "source": [
    "# Empotramientos (cortes de simetría)\n",
    "\n",
    "EmpX = gmsh.model.addPhysicalGroup(1, [l4])\n",
    "gmsh.model.setPhysicalName(1,EmpX, \"EmpX\")\n",
    "\n",
    "EmpY = gmsh.model.addPhysicalGroup(1, [l1])\n",
    "gmsh.model.setPhysicalName(1,EmpY, \"EmpY\")"
   ]
  },
  {
   "cell_type": "code",
   "execution_count": 7,
   "id": "exterior-evanescence",
   "metadata": {},
   "outputs": [],
   "source": [
    "# Contornos traccionados\n",
    "\n",
    "Trac = gmsh.model.addPhysicalGroup(1, [l3])\n",
    "gmsh.model.setPhysicalName(1,Trac,'Trac')"
   ]
  },
  {
   "cell_type": "code",
   "execution_count": 8,
   "id": "animal-graham",
   "metadata": {},
   "outputs": [],
   "source": [
    "# Superficie \n",
    "\n",
    "Sup = gmsh.model.addPhysicalGroup(2,[S])\n",
    "gmsh.model.setPhysicalName(2, Sup, 'Sup')"
   ]
  },
  {
   "cell_type": "code",
   "execution_count": 9,
   "id": "featured-controversy",
   "metadata": {},
   "outputs": [],
   "source": [
    "# Eliminación del punto 1 auxiliar\n",
    "\n",
    "trash = gmsh.model.addPhysicalGroup(0, [p1])\n",
    "gmsh.model.setPhysicalName(0,trash, \"trash\")"
   ]
  },
  {
   "cell_type": "markdown",
   "id": "northern-monitor",
   "metadata": {},
   "source": [
    "Generación del mallado indicando su dimensión"
   ]
  },
  {
   "cell_type": "code",
   "execution_count": 10,
   "id": "associate-paragraph",
   "metadata": {},
   "outputs": [],
   "source": [
    "gmsh.model.geo.synchronize()"
   ]
  },
  {
   "cell_type": "code",
   "execution_count": 11,
   "id": "unsigned-founder",
   "metadata": {},
   "outputs": [],
   "source": [
    "gmsh.model.mesh.generate(2)   # hay que correrlo dos veces, sino no funciona, pq?"
   ]
  },
  {
   "cell_type": "markdown",
   "id": "front-train",
   "metadata": {},
   "source": [
    "Extracción de datos de mallado generado"
   ]
  },
  {
   "cell_type": "code",
   "execution_count": 12,
   "id": "south-market",
   "metadata": {},
   "outputs": [],
   "source": [
    "# Nodos\n",
    "\n",
    "nodos = gmsh.model.mesh.get_nodes()      # Información de los nodos del mallado\n",
    "#nodos[1].shape\n",
    "N = nodos[0].shape[0]                    # Número de nodos\n",
    "MN = nodos[1].reshape(N , 3)             # Matriz de nodos\n",
    "\n",
    "# Elementos\n",
    "\n",
    "e_tags, e = gmsh.model.mesh.get_elements_by_type(2)  # Información de los elementos tipo 2 (triangulares)\n",
    "MC = e.reshape([e_tags.shape[0],3])      # Matriz de conectividad\n",
    "\n",
    "# Traccionados\n",
    "\n",
    "ent_trac = gmsh.model.getEntitiesForPhysicalGroup(1, Trac)      # Entidad de elementos traccionados\n",
    "t1, t2, long_trac = gmsh.model.mesh.getElements(1, ent_trac[0]) \n",
    "Long_trac = long_trac[0].reshape(t2[0].shape[0],2)  # Nodos de cada elemento de la entidad"
   ]
  },
  {
   "cell_type": "markdown",
   "id": "static-milan",
   "metadata": {},
   "source": [
    "Calculo las fuerzas"
   ]
  },
  {
   "cell_type": "code",
   "execution_count": 13,
   "id": "weekly-calgary",
   "metadata": {},
   "outputs": [],
   "source": [
    "F = np.zeros((2*N, 1))\n",
    "\n",
    "for i, line in enumerate(Long_trac):\n",
    "    n1 = int(line[0]-1)\n",
    "    n2 = int(line[1]-1)\n",
    "    long = np.abs(MN[n1,1]-MN[n2,1])\n",
    "    Floc = (T * long * Es)/2 * np.array([[1],[1]])\n",
    "    F[ np.array([2*n1, 2*n2]) ] += Floc\n"
   ]
  },
  {
   "cell_type": "markdown",
   "id": "ongoing-corps",
   "metadata": {},
   "source": [
    "Saco datos del mallado"
   ]
  },
  {
   "cell_type": "code",
   "execution_count": 18,
   "id": "adjusted-tourism",
   "metadata": {},
   "outputs": [],
   "source": [
    "Nx_emp = gmsh.model.mesh.get_nodes_for_physical_group(1,EmpX)\n",
    "Ny_emp = gmsh.model.mesh.get_nodes_for_physical_group(1,EmpY)"
   ]
  },
  {
   "cell_type": "code",
   "execution_count": 19,
   "id": "christian-adjustment",
   "metadata": {},
   "outputs": [],
   "source": [
    "s= []\n",
    "for n, nod in enumerate(Nx_emp[0]):\n",
    "    s.append(2*nod)\n",
    "    s.append(2*nod+1)\n",
    "for n, nod in enumerate(Ny_emp[0]):\n",
    "    s.append(2*nod)\n",
    "    s.append(2*nod+1)\n",
    "\n",
    "s = np.array(s).astype(int)\n",
    "\n",
    "r = np.delete( np.arange(2*N) , s )"
   ]
  },
  {
   "cell_type": "markdown",
   "id": "detected-audio",
   "metadata": {},
   "source": [
    "luego saco de r todo lo que puse en s:"
   ]
  },
  {
   "cell_type": "code",
   "execution_count": 16,
   "id": "heard-ferry",
   "metadata": {},
   "outputs": [],
   "source": [
    "el = len(MC)      # cantidad de elementos\n",
    "K = np.zeros([N*GL, N*GL])\n",
    "Esf= []\n",
    "Bs=[]\n",
    "for a in range(el):\n",
    "    B = np.zeros([3,6])\n",
    "    c = []              #coordenadas de los nodos del elemento\n",
    "    for i in MC[a]:\n",
    "        aux=MN[int(i-1)].copy()\n",
    "        aux[2]=1\n",
    "        c.append(aux)\n",
    "        b=[0,0,0]\n",
    "        g=[0,0,0]\n",
    "    A = np.linalg.det(c)/2\n",
    "    for d in range(3): \n",
    "        b[d] = c[d-2][1]- c[d-1][1]\n",
    "        g[d] = c[d-1][0]- c[d-2][0]\n",
    "    for j in range(3):\n",
    "        B0=[[b[j],0],[0, g[j]], [g[j], b[j]]]\n",
    "        B[0][j*2]=b[j]\n",
    "        B[1][2*j+1]=g[j]\n",
    "        B[2][j*2]=g[j]\n",
    "        B[2][j*2+1]=b[j]\n",
    "    B = B/(2*A)\n",
    "    Bs.append(B)\n",
    "    D = (E/(1-(v**2)))*np.array([[1,v,0],[v,1,0],[0,0,(1-v)/2]])\n",
    "    k = Es*abs(A)*np.dot(B.transpose(), np.dot(D,B) )\n",
    "    K0 = np.zeros([N*2, N*2])\n",
    "    for i in range(3):\n",
    "        nx=int(MC[a][i]-1)\n",
    "        for j in range(3):\n",
    "            ny=int(MC[a][j]-1)\n",
    "            K0[np.ix_([nx*2,nx*2+1], [ny*2,ny*2+1])]+=k[i*2:i*2+2, j*2:j*2+2]\n",
    "    K+=K0"
   ]
  },
  {
   "cell_type": "code",
   "execution_count": 17,
   "id": "hungarian-party",
   "metadata": {},
   "outputs": [
    {
     "ename": "LinAlgError",
     "evalue": "Singular matrix",
     "output_type": "error",
     "traceback": [
      "\u001b[1;31m---------------------------------------------------------------------------\u001b[0m",
      "\u001b[1;31mLinAlgError\u001b[0m                               Traceback (most recent call last)",
      "\u001b[1;32m<ipython-input-17-7e9fd0b1c1a8>\u001b[0m in \u001b[0;36m<module>\u001b[1;34m\u001b[0m\n\u001b[0;32m      2\u001b[0m \u001b[0mf\u001b[0m \u001b[1;33m=\u001b[0m \u001b[0mnp\u001b[0m\u001b[1;33m.\u001b[0m\u001b[0mzeros\u001b[0m\u001b[1;33m(\u001b[0m\u001b[0mN\u001b[0m\u001b[1;33m*\u001b[0m\u001b[0mGL\u001b[0m\u001b[1;33m)\u001b[0m\u001b[1;33m\u001b[0m\u001b[1;33m\u001b[0m\u001b[0m\n\u001b[0;32m      3\u001b[0m \u001b[1;33m\u001b[0m\u001b[0m\n\u001b[1;32m----> 4\u001b[1;33m \u001b[0mdd\u001b[0m \u001b[1;33m=\u001b[0m \u001b[0mnp\u001b[0m\u001b[1;33m.\u001b[0m\u001b[0mlinalg\u001b[0m\u001b[1;33m.\u001b[0m\u001b[0msolve\u001b[0m\u001b[1;33m(\u001b[0m\u001b[0mK\u001b[0m\u001b[1;33m[\u001b[0m\u001b[0mnp\u001b[0m\u001b[1;33m.\u001b[0m\u001b[0mix_\u001b[0m\u001b[1;33m(\u001b[0m\u001b[0mr\u001b[0m\u001b[1;33m,\u001b[0m\u001b[0mr\u001b[0m\u001b[1;33m)\u001b[0m\u001b[1;33m]\u001b[0m\u001b[1;33m,\u001b[0m \u001b[0mF\u001b[0m\u001b[1;33m[\u001b[0m\u001b[0mr\u001b[0m\u001b[1;33m]\u001b[0m\u001b[1;33m)\u001b[0m\u001b[1;33m\u001b[0m\u001b[1;33m\u001b[0m\u001b[0m\n\u001b[0m\u001b[0;32m      5\u001b[0m \u001b[1;33m\u001b[0m\u001b[0m\n\u001b[0;32m      6\u001b[0m \u001b[1;32mfor\u001b[0m \u001b[0mi\u001b[0m \u001b[1;32min\u001b[0m \u001b[0mrange\u001b[0m\u001b[1;33m(\u001b[0m\u001b[0mlen\u001b[0m\u001b[1;33m(\u001b[0m\u001b[0mr\u001b[0m\u001b[1;33m)\u001b[0m\u001b[1;33m)\u001b[0m\u001b[1;33m:\u001b[0m\u001b[1;33m\u001b[0m\u001b[1;33m\u001b[0m\u001b[0m\n",
      "\u001b[1;32m<__array_function__ internals>\u001b[0m in \u001b[0;36msolve\u001b[1;34m(*args, **kwargs)\u001b[0m\n",
      "\u001b[1;32mC:\\WPy64-3920\\python-3.9.2.amd64\\lib\\site-packages\\numpy\\linalg\\linalg.py\u001b[0m in \u001b[0;36msolve\u001b[1;34m(a, b)\u001b[0m\n\u001b[0;32m    391\u001b[0m     \u001b[0msignature\u001b[0m \u001b[1;33m=\u001b[0m \u001b[1;34m'DD->D'\u001b[0m \u001b[1;32mif\u001b[0m \u001b[0misComplexType\u001b[0m\u001b[1;33m(\u001b[0m\u001b[0mt\u001b[0m\u001b[1;33m)\u001b[0m \u001b[1;32melse\u001b[0m \u001b[1;34m'dd->d'\u001b[0m\u001b[1;33m\u001b[0m\u001b[1;33m\u001b[0m\u001b[0m\n\u001b[0;32m    392\u001b[0m     \u001b[0mextobj\u001b[0m \u001b[1;33m=\u001b[0m \u001b[0mget_linalg_error_extobj\u001b[0m\u001b[1;33m(\u001b[0m\u001b[0m_raise_linalgerror_singular\u001b[0m\u001b[1;33m)\u001b[0m\u001b[1;33m\u001b[0m\u001b[1;33m\u001b[0m\u001b[0m\n\u001b[1;32m--> 393\u001b[1;33m     \u001b[0mr\u001b[0m \u001b[1;33m=\u001b[0m \u001b[0mgufunc\u001b[0m\u001b[1;33m(\u001b[0m\u001b[0ma\u001b[0m\u001b[1;33m,\u001b[0m \u001b[0mb\u001b[0m\u001b[1;33m,\u001b[0m \u001b[0msignature\u001b[0m\u001b[1;33m=\u001b[0m\u001b[0msignature\u001b[0m\u001b[1;33m,\u001b[0m \u001b[0mextobj\u001b[0m\u001b[1;33m=\u001b[0m\u001b[0mextobj\u001b[0m\u001b[1;33m)\u001b[0m\u001b[1;33m\u001b[0m\u001b[1;33m\u001b[0m\u001b[0m\n\u001b[0m\u001b[0;32m    394\u001b[0m \u001b[1;33m\u001b[0m\u001b[0m\n\u001b[0;32m    395\u001b[0m     \u001b[1;32mreturn\u001b[0m \u001b[0mwrap\u001b[0m\u001b[1;33m(\u001b[0m\u001b[0mr\u001b[0m\u001b[1;33m.\u001b[0m\u001b[0mastype\u001b[0m\u001b[1;33m(\u001b[0m\u001b[0mresult_t\u001b[0m\u001b[1;33m,\u001b[0m \u001b[0mcopy\u001b[0m\u001b[1;33m=\u001b[0m\u001b[1;32mFalse\u001b[0m\u001b[1;33m)\u001b[0m\u001b[1;33m)\u001b[0m\u001b[1;33m\u001b[0m\u001b[1;33m\u001b[0m\u001b[0m\n",
      "\u001b[1;32mC:\\WPy64-3920\\python-3.9.2.amd64\\lib\\site-packages\\numpy\\linalg\\linalg.py\u001b[0m in \u001b[0;36m_raise_linalgerror_singular\u001b[1;34m(err, flag)\u001b[0m\n\u001b[0;32m     86\u001b[0m \u001b[1;33m\u001b[0m\u001b[0m\n\u001b[0;32m     87\u001b[0m \u001b[1;32mdef\u001b[0m \u001b[0m_raise_linalgerror_singular\u001b[0m\u001b[1;33m(\u001b[0m\u001b[0merr\u001b[0m\u001b[1;33m,\u001b[0m \u001b[0mflag\u001b[0m\u001b[1;33m)\u001b[0m\u001b[1;33m:\u001b[0m\u001b[1;33m\u001b[0m\u001b[1;33m\u001b[0m\u001b[0m\n\u001b[1;32m---> 88\u001b[1;33m     \u001b[1;32mraise\u001b[0m \u001b[0mLinAlgError\u001b[0m\u001b[1;33m(\u001b[0m\u001b[1;34m\"Singular matrix\"\u001b[0m\u001b[1;33m)\u001b[0m\u001b[1;33m\u001b[0m\u001b[1;33m\u001b[0m\u001b[0m\n\u001b[0m\u001b[0;32m     89\u001b[0m \u001b[1;33m\u001b[0m\u001b[0m\n\u001b[0;32m     90\u001b[0m \u001b[1;32mdef\u001b[0m \u001b[0m_raise_linalgerror_nonposdef\u001b[0m\u001b[1;33m(\u001b[0m\u001b[0merr\u001b[0m\u001b[1;33m,\u001b[0m \u001b[0mflag\u001b[0m\u001b[1;33m)\u001b[0m\u001b[1;33m:\u001b[0m\u001b[1;33m\u001b[0m\u001b[1;33m\u001b[0m\u001b[0m\n",
      "\u001b[1;31mLinAlgError\u001b[0m: Singular matrix"
     ]
    }
   ],
   "source": [
    "d = np.zeros(N*GL)\n",
    "f = np.zeros(N*GL)\n",
    "\n",
    "dd = np.linalg.solve(K[np.ix_(r,r)], F[r])\n",
    "\n",
    "for i in range(len(r)):\n",
    "    d[r[i]]=dd[i]\n",
    "\n",
    "F=K.dot(d)\n",
    "B=np.array(B)\n",
    "D=np.array(D)\n",
    "\n",
    "for i in range(e):\n",
    "    j=np.array(MC[i])*2 \n",
    "    Esf.append( np.dot( np.dot(D,Bs[i]), d[[j[0],j[0]+1,j[1],j[1]+1,j[2],j[2]+1]] ) ) \n",
    "    \n"
   ]
  },
  {
   "cell_type": "code",
   "execution_count": null,
   "id": "checked-heaven",
   "metadata": {},
   "outputs": [],
   "source": []
  }
 ],
 "metadata": {
  "kernelspec": {
   "display_name": "Python 3",
   "language": "python",
   "name": "python3"
  },
  "language_info": {
   "codemirror_mode": {
    "name": "ipython",
    "version": 3
   },
   "file_extension": ".py",
   "mimetype": "text/x-python",
   "name": "python",
   "nbconvert_exporter": "python",
   "pygments_lexer": "ipython3",
   "version": "3.9.2"
  }
 },
 "nbformat": 4,
 "nbformat_minor": 5
}
