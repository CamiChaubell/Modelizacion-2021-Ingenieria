{
 "cells": [
  {
   "cell_type": "markdown",
   "id": "turned-spare",
   "metadata": {},
   "source": [
    "# Problema 6\n",
    "La fuerza efectiva que realiza el viento sobre el mástil de un bote de velas puede aproximarse por la siguiente\n",
    "expresión:\n",
    "\n",
    "$ F = \\int^{30}_{0} 200 \\frac{z}{z+5} e^{\\frac{-2z}{300}} dz $\n",
    "\n",
    "(donde F está dada en lbs y las distancias en pies).\n",
    "Estime, utilizando los métodos de trapecios y de Simpson 1/3, cuánto vale la fuerza total y dónde será el punto\n",
    "de acción efectiva de esta fuerza ( $ d = \\frac{1}{F} \\int^{30}_{0} z f(z) dz$ ).\n",
    "\n",
    "Utilice varios tamaños de paso de integración, entre 5 y 0.05 pies, y estudie la convergencia de cada método"
   ]
  },
  {
   "cell_type": "code",
   "execution_count": 83,
   "id": "sudden-swing",
   "metadata": {},
   "outputs": [],
   "source": [
    "import numpy as np\n",
    "import matplotlib.pyplot as plt\n",
    "a=0 ; b=30; h=0.5; I=0\n",
    "f = lambda z: 200 * (z/(5+z)) * np.exp((-2*z)/300)"
   ]
  },
  {
   "cell_type": "markdown",
   "id": "confirmed-twenty",
   "metadata": {},
   "source": [
    "# Trapecios"
   ]
  },
  {
   "cell_type": "code",
   "execution_count": 84,
   "id": "concrete-position",
   "metadata": {},
   "outputs": [],
   "source": [
    "def trapecios(a,b,h,f):\n",
    "    \"\"\"[a,b]: intervalo de integración\n",
    "        h: step\n",
    "        f: funcion a integrar \"\"\"\n",
    "    n=(b-a)/h\n",
    "    x=np.linspace(a, b, int(n))\n",
    "    F=np.array([f(x[i]) for i in range(len(x))])\n",
    "    I=-h*(F[0]+F[len(F)-1])/2\n",
    "    for i in range(len(x)):\n",
    "        I+= h* F[i]\n",
    "    return I\n"
   ]
  },
  {
   "cell_type": "code",
   "execution_count": 85,
   "id": "polyphonic-register",
   "metadata": {},
   "outputs": [
    {
     "data": {
      "text/plain": [
       "3558.717064341175"
      ]
     },
     "execution_count": 85,
     "metadata": {},
     "output_type": "execute_result"
    }
   ],
   "source": [
    "trapecios(a,b,h,f)"
   ]
  },
  {
   "cell_type": "code",
   "execution_count": 86,
   "id": "prompt-basin",
   "metadata": {},
   "outputs": [
    {
     "data": {
      "text/plain": [
       "array([     10,      35,     129,     464,    1668,    5994,   21544,\n",
       "         77426,  278255, 1000000])"
      ]
     },
     "execution_count": 86,
     "metadata": {},
     "output_type": "execute_result"
    }
   ],
   "source": [
    "n=(b-a)/h; x=np.linspace(a, b, int(n)+1)\n",
    "n, len(x)\n",
    "np.logspace(1,6,10).astype(int)"
   ]
  },
  {
   "cell_type": "markdown",
   "id": "uniform-leonard",
   "metadata": {},
   "source": [
    "# Simpson 1/3"
   ]
  },
  {
   "cell_type": "code",
   "execution_count": 143,
   "id": "desperate-burke",
   "metadata": {},
   "outputs": [],
   "source": [
    "def simpson(a,b,h,f):\n",
    "    n=(b-a)/h\n",
    "    x=np.linspace(a, b, int(n))\n",
    "    H=(f(x[0])+f(x[-1]))\n",
    "    for i in range(1,int(n)):    # si pongo range(1,len(x)) me da igual a xavi,\n",
    "        H+=(2*f(x[i]))                      # pero estaria sumando el f(x_n) multiplicado *2/3\n",
    "        if i%2==0:                 # y ya lo tenia sumado cuando definí I\n",
    "            H+=(4*f(x[i]))\n",
    "    I= ((b-a)/(n-1))* H/3\n",
    "    return I"
   ]
  },
  {
   "cell_type": "code",
   "execution_count": 144,
   "id": "attractive-influence",
   "metadata": {},
   "outputs": [
    {
     "data": {
      "text/plain": [
       "4826.539301659632"
      ]
     },
     "execution_count": 144,
     "metadata": {},
     "output_type": "execute_result"
    }
   ],
   "source": [
    "simpson(a,b,0.00005,f)"
   ]
  },
  {
   "cell_type": "markdown",
   "id": "banned-grammar",
   "metadata": {},
   "source": [
    "# Punto de acción efectivo"
   ]
  },
  {
   "cell_type": "code",
   "execution_count": 97,
   "id": "comic-casting",
   "metadata": {},
   "outputs": [
    {
     "name": "stdout",
     "output_type": "stream",
     "text": [
      "El punto de acción efectivo es: \n",
      "  simpson 16.921985054677673\n",
      "  trapecios 16.788256224071183\n"
     ]
    }
   ],
   "source": [
    "d1 = lambda z:  (1/trapecios(a,b,h,f)) * z * 200 * (z/(5+z)) * np.exp((-2*z)/300)\n",
    "d = lambda z:  (1/simpson(a,b,h,f)) * z * 200 * (z/(5+z)) * np.exp((-2*z)/300)\n",
    "p = simpson(a,b,h,d)\n",
    "k = trapecios(a,b,h,d1)\n",
    "print(f'El punto de acción efectivo es: \\n  simpson {p}\\n  trapecios {k}')"
   ]
  },
  {
   "cell_type": "markdown",
   "id": "colonial-better",
   "metadata": {},
   "source": [
    "# Estudio de convergencia"
   ]
  },
  {
   "cell_type": "code",
   "execution_count": 77,
   "id": "bacterial-killing",
   "metadata": {},
   "outputs": [],
   "source": [
    "met = [trapecios,simpson]"
   ]
  },
  {
   "cell_type": "code",
   "execution_count": 78,
   "id": "accompanied-canada",
   "metadata": {},
   "outputs": [
    {
     "name": "stdout",
     "output_type": "stream",
     "text": [
      "[3225.652391718398, 3513.945364852469, 3591.6568604700255, 3604.2838580868197, 3617.7296768661836, 3619.29696259255, 3619.732937281986, 3619.854213868527, 3619.887958081024, 3619.8973475094867]\n"
     ]
    },
    {
     "data": {
      "image/png": "[encoded data removed]",
      "text/plain": [
       "<Figure size 432x288 with 1 Axes>"
      ]
     },
     "metadata": {
      "needs_background": "light"
     },
     "output_type": "display_data"
    },
    {
     "name": "stdout",
     "output_type": "stream",
     "text": [
      "[3775.743291796279, 4652.664865586095, 4782.0504721131165, 4803.9367350289585, 4821.4791285388355, 4825.129153962153, 4826.143697325435, 4826.425855174106, 4826.514446722753, 4826.526201968422]\n"
     ]
    },
    {
     "data": {
      "image/png": "[encoded data removed]",
      "text/plain": [
       "<Figure size 432x288 with 1 Axes>"
      ]
     },
     "metadata": {
      "needs_background": "light"
     },
     "output_type": "display_data"
    }
   ],
   "source": [
    "t=np.logspace(1,6,10).astype(int)\n",
    "for j in met:\n",
    "    H=[]\n",
    "    for i in t:\n",
    "        x=np.linspace(a, b, i)\n",
    "        H.append(j(a,b,(b-a)/i, f))\n",
    "    print(H)\n",
    "    plt.semilogx(t,H, label=str(j))\n",
    "    plt.legend()\n",
    "    plt.show()\n",
    "    "
   ]
  },
  {
   "cell_type": "code",
   "execution_count": 123,
   "id": "bridal-bruce",
   "metadata": {},
   "outputs": [
    {
     "data": {
      "text/plain": [
       "1000000"
      ]
     },
     "execution_count": 123,
     "metadata": {},
     "output_type": "execute_result"
    }
   ],
   "source": [
    "len(x)"
   ]
  },
  {
   "cell_type": "code",
   "execution_count": 124,
   "id": "portable-stage",
   "metadata": {},
   "outputs": [
    {
     "data": {
      "text/plain": [
       "array([ 0., 30.])"
      ]
     },
     "execution_count": 124,
     "metadata": {},
     "output_type": "execute_result"
    }
   ],
   "source": [
    "x=np.linspace(a, b, 2)\n",
    "x"
   ]
  },
  {
   "cell_type": "code",
   "execution_count": 187,
   "id": "gorgeous-creature",
   "metadata": {},
   "outputs": [
    {
     "data": {
      "text/plain": [
       "[3617.442956788917,\n",
       " 3619.7195251611834,\n",
       " 3612.0853992188636,\n",
       " 3619.8998819342496,\n",
       " 3619.9008833552207,\n",
       " 3619.9009609068253,\n",
       " 3619.90096690978,\n",
       " 3619.9009673745063,\n",
       " 3619.9009674106605]"
      ]
     },
     "execution_count": 187,
     "metadata": {},
     "output_type": "execute_result"
    }
   ],
   "source": [
    "trap= [trapecios(a,b,(b-a)/t[i], f) for i in range(1,10)]\n",
    "trap"
   ]
  },
  {
   "cell_type": "code",
   "execution_count": 171,
   "id": "polar-priority",
   "metadata": {},
   "outputs": [
    {
     "data": {
      "text/plain": [
       "129"
      ]
     },
     "execution_count": 171,
     "metadata": {},
     "output_type": "execute_result"
    }
   ],
   "source": [
    "t[2]"
   ]
  },
  {
   "cell_type": "code",
   "execution_count": 165,
   "id": "honey-method",
   "metadata": {},
   "outputs": [
    {
     "data": {
      "text/plain": [
       "0.06465517241379311"
      ]
     },
     "execution_count": 165,
     "metadata": {},
     "output_type": "execute_result"
    }
   ],
   "source": [
    "(b-a)/464"
   ]
  },
  {
   "cell_type": "code",
   "execution_count": null,
   "id": "vocal-beatles",
   "metadata": {},
   "outputs": [],
   "source": []
  }
 ],
 "metadata": {
  "kernelspec": {
   "display_name": "Python 3",
   "language": "python",
   "name": "python3"
  },
  "language_info": {
   "codemirror_mode": {
    "name": "ipython",
    "version": 3
   },
   "file_extension": ".py",
   "mimetype": "text/x-python",
   "name": "python",
   "nbconvert_exporter": "python",
   "pygments_lexer": "ipython3",
   "version": "3.9.2"
  }
 },
 "nbformat": 4,
 "nbformat_minor": 5
}
