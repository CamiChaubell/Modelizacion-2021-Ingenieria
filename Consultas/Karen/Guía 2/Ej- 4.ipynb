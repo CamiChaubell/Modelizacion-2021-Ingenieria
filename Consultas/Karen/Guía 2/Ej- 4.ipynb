{
 "cells": [
  {
   "cell_type": "markdown",
   "id": "swiss-accused",
   "metadata": {},
   "source": [
    "# Problema 4\n",
    "\n",
    "Determine los desplazamientos y rotaciones y fuerzas y torques de vínculos para el sistema de lafigura. Tome E = 210 GPa e I = 2 x 10–4 m4. "
   ]
  },
  {
   "cell_type": "code",
   "execution_count": 1,
   "id": "fossil-train",
   "metadata": {},
   "outputs": [],
   "source": [
    "import numpy as np\n",
    "import matplotlib.pyplot as plt\n",
    "import copy\n",
    "GL = 2             # Grados de libertad \n",
    "E = 210e9          # GPa\n",
    "L = 300            # cm  (por elemento)\n",
    "I = 2e-4           # m^4\n",
    "e = 2              # elementos  → → # nodos =e+1"
   ]
  },
  {
   "cell_type": "code",
   "execution_count": 79,
   "id": "invalid-pattern",
   "metadata": {},
   "outputs": [],
   "source": [
    "D = np.zeros((e+1)*GL)     # (d, fi, d, fi, ...) desplazamientos, angulos\n",
    "F = np.zeros((e+1)*GL)     # (F, M, F, M, ...) fuerzas, momentos\n",
    "KG = np.zeros(((e+1)*GL,(e+1)*GL))\n",
    "d=[]\n",
    "f=[]\n",
    "\n",
    "for i in range(e):\n",
    "    KL=(E*I)/(L**3)* np.array( [[12, 6*L, -12, 6*L], [6*L, 4*(L**2), -6*L, 2*(L**2)],\n",
    "                     [-12, -6*L, 12, -6*L], [6*L, 2*(L**2), -6*L, 4*(L**2)]])\n",
    "    KG[2*i:2*i+GL*2, 2*i:2*i+GL*2]+= KL\n",
    "    \n",
    "CC = [[1,0], [1,0], [1,0], [2,0], [2,-50000], [1,0]] # por nodo consecutivamete: [1=d o 2=D, valor conocido], [1=fi, 2=M, valor conocido]\n",
    "\n",
    "j=-1\n",
    "for i in CC:\n",
    "    j+=1\n",
    "    if i[0]==1:\n",
    "        D[CC.index(i)]=i[1]\n",
    "        f.append(j)   # f/M desconocidos\n",
    "    else:\n",
    "        F[CC.index(i)]=i[1]\n",
    "        d.append(j)  # d/fi desconocidos\n",
    "        \n",
    "dd=np.linalg.solve(KG[np.ix_(d, d)], F[d] )\n",
    "\n",
    "D[d]=dd  # desplazamientos finales\n",
    "\n",
    "FF=np.dot(KG, D)  # fuerzas finales."
   ]
  },
  {
   "cell_type": "code",
   "execution_count": null,
   "id": "internal-brief",
   "metadata": {},
   "outputs": [],
   "source": []
  }
 ],
 "metadata": {
  "kernelspec": {
   "display_name": "Python 3",
   "language": "python",
   "name": "python3"
  },
  "language_info": {
   "codemirror_mode": {
    "name": "ipython",
    "version": 3
   },
   "file_extension": ".py",
   "mimetype": "text/x-python",
   "name": "python",
   "nbconvert_exporter": "python",
   "pygments_lexer": "ipython3",
   "version": "3.9.2"
  }
 },
 "nbformat": 4,
 "nbformat_minor": 5
}
