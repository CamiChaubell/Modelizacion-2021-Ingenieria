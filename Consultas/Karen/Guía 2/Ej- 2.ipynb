{
 "cells": [
  {
   "cell_type": "markdown",
   "id": "popular-staff",
   "metadata": {},
   "source": [
    "# Problema 2:\n",
    "Considere el entramado mostrado en la figura, con una fuerza aplicada de 20 kN. Calcule los desplazamientos de cada uno de los nodos y las tensiones que sufre cada elemento. Todos los elementos tienen E = 210 GPa y una sección de 10 cm2, excepto el elemento 3, que tiene una sección de 20 cm2. Los elementos 2 y 5 tienen una longitud de 8 metros y el elemento 3 de 4 metros."
   ]
  },
  {
   "cell_type": "code",
   "execution_count": 1,
   "id": "lyric-batman",
   "metadata": {},
   "outputs": [],
   "source": [
    "import numpy as np\n",
    "import matplotlib.pyplot as plt\n",
    "import copy\n",
    "\n",
    "def loc_a_glob (z):\n",
    "    z=z*np.pi/180\n",
    "    c=np.cos(z)\n",
    "    s=np.sin(z)\n",
    "    K=[[ c**2,    c*s ,   -c**2, -c*s] , \n",
    "       [ c*s,      s**2,   -c*s, -s**2] , \n",
    "       [-c**2,    -c*s,    c**2,  c*s], \n",
    "       [-c*s,     -s**2,    c*s,   s**2]]\n",
    "    return np.array(K)"
   ]
  },
  {
   "cell_type": "code",
   "execution_count": 47,
   "id": "designing-writer",
   "metadata": {},
   "outputs": [
    {
     "data": {
      "image/png": "[encoded data removed]",
      "text/plain": [
       "<Figure size 432x288 with 1 Axes>"
      ]
     },
     "metadata": {
      "needs_background": "light"
     },
     "output_type": "display_data"
    }
   ],
   "source": [
    "N = 4                      # cantidad de nodos = cantidad de elementos -1\n",
    "E = np.ones(N+1)*210e9           # Módulo elástico de cada elemento GPa\n",
    "A = np.ones(N+1)*10e-4          # Area de cada elementos cm2\n",
    "A[2] = 20e-4\n",
    "L = np.array([0, 8, 4, 0, 8])  # Longitud de cada elemento cm\n",
    "GL = 2                               # Grados de libertad\n",
    "\n",
    "MN = [[0,0] , [L[1],L[2]] , [L[1]+L[4],0] , [L[1],0]]  # MAtriz de nodos (posiciones de los nodos) (ejercicio)\n",
    "\n",
    "MC = [ [0,1] , [3,0] , [3,1] , [1,2], [2, 3]  ]      # Matriz de conectividad de elementos (el  elemento 0: entre nodo 0: MN[0] y nodo 1 MN[1])  ) (ejercicio)\n",
    "\n",
    "\n",
    "ff=np.array([[2,0], [4,0], [7,-20000], [6,0]]) # columnas: nodo y eje - filas: valor de fuerza conocido\n",
    "\n",
    "# no hice una matriz de datos desplazamientos pq son todos ceros, cuando el codigo funcione, lo generalizo.\n",
    "\n",
    "u = np.zeros(N*GL)\n",
    "\n",
    "\n",
    "K = np.zeros([N*GL,N*GL])     # Matriz rigidez GLOBAL kN/m\n",
    "\n",
    "\n",
    "\n",
    "for i in range(len(MC)):\n",
    "    dx= MN[MC[i][0]][0] - MN[MC[i][1]][0]\n",
    "    dy = MN[MC[i][0]][1] - MN[MC[i][1]][1]\n",
    "    dL=np.sqrt( dx ** 2 + dy ** 2 )\n",
    "    k=E[i]*A[i]/dL    \n",
    "    z=np.arctan2(dy,dx)          # Creo que el error esta acá o en R\n",
    "    R=k*loc_a_glob(z)  # Matriz de rigidez local rotada\n",
    "    #R[np.abs(R/np.max(R)) < 1e-12] =0\n",
    "    n1=MC[i][0]*2                #index nodo 1 en x del elemento i\n",
    "    n2=MC[i][1]*2                #index nodo 2 en x del elemento i\n",
    "    for j in MC[i]:\n",
    "        for l in MC[i]:    \n",
    "            n1=j*GL\n",
    "            n2=l*GL\n",
    "            p=MC[i].index(j)\n",
    "            t=MC[i].index(l)\n",
    "            K[n1:n1+GL,n2:n2+GL]+=R[p:p+GL,t:t+GL]\n",
    "\n",
    "\n",
    "'''\n",
    "    n1=MC[i][0]*2                #index nodo 1 en x del elemento i\n",
    "    n2=MC[i][1]*2                #index nodo 2 en x del elemento i\n",
    "    K[n1:n1+2,n1:n1+2]+=R[0:2,0:2]\n",
    "    K[n1:n1+2,n2:n2+2]+=R[0:2,2:4]\n",
    "    K[n2:n2+2,n1:n1+2]+=R[2:4,0:2]\n",
    "    K[n2:n2+2,n2:n2+2]+=R[2:4,2:4] '''\n",
    "\n",
    "\n",
    "\n",
    "#Condiciones de contorno:\n",
    "'''\n",
    "kk=np.zeros((len(ff),len(ff)))   #Matriz reducida para calcular desplazamientos desconocidos\n",
    "for i in range(len(ff)):\n",
    "    for j in range(len(ff)):\n",
    "        kk[i, j]=K[ff[i,0], ff[j,0]]\n",
    "uu=np.linalg.solve(kk, ff[:,1]) '''\n",
    "\n",
    "I = np.linspace(0,7,8).astype(int) \n",
    "s = np.delete( I , ff[:,0] )\n",
    "\n",
    "uu = np.linalg.solve(K[np.ix_(ff[:,0], ff[:,0])], ff[:,1]-K[np.ix_(ff[:,0], s)].dot(u[s]) )\n",
    "\n",
    "for i in range(len(ff)):\n",
    "    u[ff[i,0]]=uu[i]\n",
    "\n",
    "\n",
    "F=K.dot(u)\n",
    "F[np.abs(F) < 1e-8 ]  = 0\n",
    "u[np.abs(u) < 1e-8 ]  = 0\n",
    "\n",
    "for i in MC:    \n",
    "    plt.plot([MN[i[0]][0], MN[i[1]][0]], [MN[i[0]][1], MN[i[1]][1]], \"b\")\n",
    "\n",
    "MNfinal=copy.copy(MN)\n",
    "for i in range(len(MN)-1):  \n",
    "    MNfinal[i][0]+=u[i*2]\n",
    "    MNfinal[i][1]+=u[i*2+1]\n",
    "\n",
    "for i in MC:    \n",
    "    plt.plot([MNfinal[i[0]][0], MNfinal[i[1]][0]], [MNfinal[i[0]][1], MNfinal[i[1]][1]], \"r\")\n"
   ]
  },
  {
   "cell_type": "code",
   "execution_count": 51,
   "id": "charming-construction",
   "metadata": {},
   "outputs": [
    {
     "data": {
      "text/plain": [
       "(array([ -71745.27972878,  762467.73137221,       0.        ,\n",
       "        -686550.00629492,       0.        ,  -17460.958225  ,\n",
       "              0.        ,  -20000.        ]),\n",
       " array([ 0.        ,  0.        ,  0.06547457,  0.        , -1.38390144,\n",
       "         0.        , -0.02891855, -1.38387033]),\n",
       " array([0, 1, 3, 5]),\n",
       " array([2, 4, 7, 6]))"
      ]
     },
     "execution_count": 51,
     "metadata": {},
     "output_type": "execute_result"
    }
   ],
   "source": [
    "F,u,s, ff[:,0]"
   ]
  },
  {
   "cell_type": "markdown",
   "id": "communist-replica",
   "metadata": {},
   "source": [
    "Fuerzas  \n",
    "1.455191522836685181e-11\n",
    "9.999999999999978172e+03\n",
    "0.000000000000000000e+00\n",
    "0.000000000000000000e+00\n",
    "0.000000000000000000e+00\n",
    "9.999999999999978172e+03\n",
    "0.000000000000000000e+00\n",
    "-2.000000000000000000e+04\n",
    "\n",
    "Desplazamientos\n",
    "0.000000000000000000e+00\n",
    "0.000000000000000000e+00\n",
    "7.619047619047598658e-04\n",
    "-3.653398073809314972e-03\n",
    "1.523809523809519732e-03\n",
    "0.000000000000000000e+00\n",
    "7.619047619047598658e-04\n",
    "-3.843874264285505535e-03"
   ]
  },
  {
   "cell_type": "code",
   "execution_count": 56,
   "id": "naval-patrol",
   "metadata": {},
   "outputs": [
    {
     "data": {
      "text/plain": [
       "array([0., 0., 0., 0.])"
      ]
     },
     "execution_count": 56,
     "metadata": {},
     "output_type": "execute_result"
    }
   ],
   "source": [
    "K[np.ix_(ff[:,0], s)].dot(u[s])"
   ]
  },
  {
   "cell_type": "markdown",
   "id": "flying-modification",
   "metadata": {},
   "source": [
    "# Confirmación de suma de rigidez local en la global:\n",
    "\n",
    "x=np.array([[1,1,1,1], [2,2,2,2],[3,3,3,3],[4,4,4,4]])\n",
    "y=np.array([[5,5,5,5], [6,6,6,6],[7,7,7,7],[8,8,8,8]])\n",
    "z=np.array([[9,9,9,9], [10,10,10,10],[12,12,26,26],[13,13,25,25]])\n",
    "\n",
    "K = np.zeros([6,6])  \n",
    "e=[x,y,z]\n",
    "MC=[[0,1],[1,2],[2,0]]\n",
    "for i in range(len(MC)): \n",
    "    K0=copy.copy(K)\n",
    "    n1=MC[i][0]*2\n",
    "    n2=MC[i][1]*2\n",
    "    if i==0:\n",
    "        kLoc=x\n",
    "    elif i==1:\n",
    "        kLoc=y\n",
    "    else:\n",
    "        kLoc=z\n",
    "    K[n1:n1+2,n1:n1+2]+=kLoc[0:2,0:2]\n",
    "    K[n1:n1+2,n2:n2+2]+=kLoc[0:2,2:4]\n",
    "    K[n2:n2+2,n1:n1+2]+=kLoc[2:4,0:2]\n",
    "    K[n2:n2+2,n2:n2+2]+=kLoc[2:4,2:4]\n",
    "    print(K-K0)"
   ]
  }
 ],
 "metadata": {
  "kernelspec": {
   "display_name": "Python 3",
   "language": "python",
   "name": "python3"
  },
  "language_info": {
   "codemirror_mode": {
    "name": "ipython",
    "version": 3
   },
   "file_extension": ".py",
   "mimetype": "text/x-python",
   "name": "python",
   "nbconvert_exporter": "python",
   "pygments_lexer": "ipython3",
   "version": "3.9.2"
  }
 },
 "nbformat": 4,
 "nbformat_minor": 5
}
