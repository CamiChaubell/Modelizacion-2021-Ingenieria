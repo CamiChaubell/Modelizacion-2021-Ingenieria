{
 "cells": [
  {
   "cell_type": "code",
   "execution_count": 31,
   "metadata": {},
   "outputs": [],
   "source": [
    "import numpy as np\n"
   ]
  },
  {
   "cell_type": "code",
   "execution_count": 32,
   "metadata": {},
   "outputs": [],
   "source": [
    "def calculos(MN, MC, K, s, r, U, F):\n",
    "\n",
    "    n = len(MN) #numero de nodos\n",
    "    gl = 2 # grados de libertad\n",
    "    MR_global = np.zeros([gl*n,gl*n])\n",
    "    # un 0 en la matriz F significa que al moverse en esa direccion no hay resistencia\n",
    "\n",
    "    for e in range(n):\n",
    "        # este if es para el ultimo elemento, le resta al ultimo elemento el primer elemento\n",
    "        if e==(n-1):\n",
    "            delta_x = MN[0][0] - MN[e][0]\n",
    "            delta_y = MN[0][1] - MN[e][1]\n",
    "            angulo = np.arctan2(delta_x, delta_y) # para ver en que cuadrante estoy y no tener problemas de signo\n",
    "            C = np.cos(angulo)\n",
    "            S = np.sin(angulo)\n",
    "            MR_local = np.array([(C**2,C*S,-C**2,-C*S),(C*S,S**2,-C*S,-S**2),(-C**2,-C*S,C**2,C*S),(-C*S,-S**2, C*S,S**2)])\n",
    "            for i in MC[e]:\n",
    "                for j in MC[e]:\n",
    "                    columna_i = list(MC[e]).index(i) # identifico en que columna de MC esta el elemento i\n",
    "                    columna_j = list(MC[e]).index(j) # # identifico en que columna de MC esta el elemento i\n",
    "                    MR_global[i*gl:(i+1)*gl , j*gl:(j+1)*gl] += K[e] * (MR_local[columna_i*gl:(columna_i+1)*gl , columna_j*gl:(columna_j+1)*gl])\n",
    "\n",
    "\n",
    "        else:\n",
    "            delta_x = MN[e+1][0] - MN[e][0]\n",
    "            delta_y = MN[e+1][1] - MN[e][1]\n",
    "            angulo = np.arctan2(delta_y, delta_x) # para ver en que cuadrante estoy y no tener problemas de signo\n",
    "            C = np.cos(angulo)\n",
    "            S = np.sin(angulo)\n",
    "            MR_local = np.array([(C**2,C*S,-C**2,-C*S),(C*S,S**2,-C*S,-S**2),(-C**2,-C*S,C**2,C*S),(-C*S,-S**2, C*S,S**2)])\n",
    "\n",
    "            for i in MC[e]:\n",
    "                columna_i = list(MC[e]).index(i) # identifico en que columna de MC esta el elemento i\n",
    "                for j in MC[e]:\n",
    "                    columna_j = list(MC[e]).index(j) # # identifico en que columna de MC esta el elemento i\n",
    "                    MR_global[i*gl:(i+1)*gl , j*gl:(j+1)*gl] += K[e] *(MR_local[columna_i*gl:(columna_i+1)*gl , columna_j*gl:(columna_j+1)*gl])\n",
    "                    \n",
    "\n",
    "    scale = np.max(np.max(MR_global))\n",
    "    #            MR_global[abs(MR_global[i][j]/scale) < 1e-9] = 0\n",
    "    # esta linea de arriba no me funciona, por eso hago el doble for\n",
    "    for i in range(len(MR_global)):\n",
    "        for j in range(len(MR_global)):\n",
    "            if abs(MR_global[i][j]) < 1e-9:\n",
    "                MR_global[i][j] = 0\n",
    "\n",
    "\n",
    "    # determinante = 0, deja de ser 0 cuando se usa la matriz reducida\n",
    "    MR_reducida = MR_global.copy()\n",
    "    # borro filas y columnas de las posiciones de U que ya tengo\n",
    "    MR_reducida = np.delete(MR_reducida, s, axis=0)\n",
    "    MR_reducida = np.delete(MR_reducida, s, axis=1)\n",
    "\n",
    "    nuevas_U = np.linalg.solve(MR_reducida, F) # obtengo las U que no conozco\n",
    "\n",
    "\n",
    "    # armo el vector U completo\n",
    "    U_global = np.zeros(n*gl)\n",
    "    k=0\n",
    "    z=0\n",
    "    # k y z son contadores que van recorriendo en orden los vectores U y nuevas_U\n",
    "\n",
    "    for i in range(len(U_global)):\n",
    "        if i in s:\n",
    "            U_global[i] = U[k]\n",
    "            k += 1\n",
    "\n",
    "        if i in r:\n",
    "            U_global[i] = nuevas_U[z]\n",
    "            z += 1\n",
    "\n",
    "    # ahora obtengo el vector F completo\n",
    "    F = np.matmul(MR_global,U_global)\n",
    "\n",
    "    return(F, U_global, MR_global)\n"
   ]
  },
  {
   "cell_type": "code",
   "execution_count": 33,
   "metadata": {},
   "outputs": [],
   "source": [
    "## EJEMPLO MENSULA\n",
    "MN = np.array([(0,0), (1,0), (1,1)])# matriz_nodos: matriz con las posiciones, en cada fila estan los nodos y cada columna las coordenadas x,y,z, etc\n",
    "MC = np.array([(0,1), (1,2), (2,0)]) # matriz_conectividad: fila cada element, columna cada nodo que forman ese elemento\n",
    "K = [10,5,20] # vector con las constantes elasticas de cada elemento\n",
    "s = [0,1,3] # posiciones de los desplazamientos que conozco\n",
    "r = [2,4,5] # posiciones de las fuerzas que conozco\n",
    "U = [0,0,0] # valores de los desplazamientos, respectivamente a s\n",
    "F = [0,2,1] # valores de las fuerzas, respectivamente a r"
   ]
  },
  {
   "cell_type": "code",
   "execution_count": 34,
   "metadata": {},
   "outputs": [
    {
     "name": "stdout",
     "output_type": "stream",
     "text": [
      "Fuerzas = [-2. -2.  0.  1.  2.  1.]\n",
      "Desplazamientos = [ 0.   0.   0.   0.   0.4 -0.2]\n"
     ]
    }
   ],
   "source": [
    "F, U, matriz_rigidez = calculos(MN, MC, K, s, r, U, F)\n",
    "\n",
    "print('Fuerzas =', F)\n",
    "print('Desplazamientos =', U)"
   ]
  },
  {
   "cell_type": "code",
   "execution_count": 35,
   "metadata": {},
   "outputs": [],
   "source": [
    "# EJERCICIO 2 GUIA\n",
    "MN = [[0,0] , [800,400] , [1600,0] , [800,0]] # en mm\n",
    "MC = [[0,1] , [3,0] , [3,1] , [1,2], [2, 3]]\n",
    "\n",
    "\n",
    "A = [1000, 1000, 2000, 1000, 1000] # area en mm2\n",
    "E = 210 * np.ones(len(MC)) # Gpa = N/mm2\n",
    "l0 = np.sqrt(800**2 + 400**2)\n",
    "l3 = np.sqrt(800**2 + 400**2)\n",
    "L = [l0,800,400,l3,800 ]\n",
    "\n",
    "K = np.zeros(len(MC))\n",
    "for i in range(len(K)):\n",
    "    K[i] = (E[i]*A[i])/L[i]\n",
    "\n",
    "U = [0,0,0]\n",
    "s = [0,1,5]\n",
    "\n",
    "F = [0,0,0,0,-20000] # en Newton\n",
    "r = [2,3,4,6,7]"
   ]
  },
  {
   "cell_type": "code",
   "execution_count": 36,
   "metadata": {},
   "outputs": [
    {
     "ename": "LinAlgError",
     "evalue": "Singular matrix",
     "output_type": "error",
     "traceback": [
      "\u001b[1;31m---------------------------------------------------------------------------\u001b[0m",
      "\u001b[1;31mLinAlgError\u001b[0m                               Traceback (most recent call last)",
      "\u001b[1;32m<ipython-input-36-b7a357b48293>\u001b[0m in \u001b[0;36m<module>\u001b[1;34m\u001b[0m\n\u001b[1;32m----> 1\u001b[1;33m \u001b[0mF\u001b[0m\u001b[1;33m,\u001b[0m \u001b[0mU\u001b[0m\u001b[1;33m,\u001b[0m \u001b[0mmatriz_rigidez\u001b[0m \u001b[1;33m=\u001b[0m \u001b[0mcalculos\u001b[0m\u001b[1;33m(\u001b[0m\u001b[0mMN\u001b[0m\u001b[1;33m,\u001b[0m \u001b[0mMC\u001b[0m\u001b[1;33m,\u001b[0m \u001b[0mK\u001b[0m\u001b[1;33m,\u001b[0m \u001b[0ms\u001b[0m\u001b[1;33m,\u001b[0m \u001b[0mr\u001b[0m\u001b[1;33m,\u001b[0m \u001b[0mU\u001b[0m\u001b[1;33m,\u001b[0m \u001b[0mF\u001b[0m\u001b[1;33m)\u001b[0m\u001b[1;33m\u001b[0m\u001b[1;33m\u001b[0m\u001b[0m\n\u001b[0m\u001b[0;32m      2\u001b[0m \u001b[1;33m\u001b[0m\u001b[0m\n\u001b[0;32m      3\u001b[0m \u001b[0mprint\u001b[0m\u001b[1;33m(\u001b[0m\u001b[1;34m'Fuerzas ='\u001b[0m\u001b[1;33m,\u001b[0m \u001b[0mF\u001b[0m\u001b[1;33m)\u001b[0m\u001b[1;33m\u001b[0m\u001b[1;33m\u001b[0m\u001b[0m\n\u001b[0;32m      4\u001b[0m \u001b[0mprint\u001b[0m\u001b[1;33m(\u001b[0m\u001b[1;34m'Desplazamientos ='\u001b[0m\u001b[1;33m,\u001b[0m \u001b[0mU\u001b[0m\u001b[1;33m)\u001b[0m\u001b[1;33m\u001b[0m\u001b[1;33m\u001b[0m\u001b[0m\n",
      "\u001b[1;32m<ipython-input-32-962dfd543078>\u001b[0m in \u001b[0;36mcalculos\u001b[1;34m(MN, MC, K, s, r, U, F)\u001b[0m\n\u001b[0;32m     52\u001b[0m     \u001b[0mMR_reducida\u001b[0m \u001b[1;33m=\u001b[0m \u001b[0mnp\u001b[0m\u001b[1;33m.\u001b[0m\u001b[0mdelete\u001b[0m\u001b[1;33m(\u001b[0m\u001b[0mMR_reducida\u001b[0m\u001b[1;33m,\u001b[0m \u001b[0ms\u001b[0m\u001b[1;33m,\u001b[0m \u001b[0maxis\u001b[0m\u001b[1;33m=\u001b[0m\u001b[1;36m1\u001b[0m\u001b[1;33m)\u001b[0m\u001b[1;33m\u001b[0m\u001b[1;33m\u001b[0m\u001b[0m\n\u001b[0;32m     53\u001b[0m \u001b[1;33m\u001b[0m\u001b[0m\n\u001b[1;32m---> 54\u001b[1;33m     \u001b[0mnuevas_U\u001b[0m \u001b[1;33m=\u001b[0m \u001b[0mnp\u001b[0m\u001b[1;33m.\u001b[0m\u001b[0mlinalg\u001b[0m\u001b[1;33m.\u001b[0m\u001b[0msolve\u001b[0m\u001b[1;33m(\u001b[0m\u001b[0mMR_reducida\u001b[0m\u001b[1;33m,\u001b[0m \u001b[0mF\u001b[0m\u001b[1;33m)\u001b[0m \u001b[1;31m# obtengo las U que no conozco\u001b[0m\u001b[1;33m\u001b[0m\u001b[1;33m\u001b[0m\u001b[0m\n\u001b[0m\u001b[0;32m     55\u001b[0m \u001b[1;33m\u001b[0m\u001b[0m\n\u001b[0;32m     56\u001b[0m \u001b[1;33m\u001b[0m\u001b[0m\n",
      "\u001b[1;32mC:\\ProgramData\\Anaconda3\\lib\\site-packages\\numpy\\linalg\\linalg.py\u001b[0m in \u001b[0;36msolve\u001b[1;34m(a, b)\u001b[0m\n\u001b[0;32m    401\u001b[0m     \u001b[0msignature\u001b[0m \u001b[1;33m=\u001b[0m \u001b[1;34m'DD->D'\u001b[0m \u001b[1;32mif\u001b[0m \u001b[0misComplexType\u001b[0m\u001b[1;33m(\u001b[0m\u001b[0mt\u001b[0m\u001b[1;33m)\u001b[0m \u001b[1;32melse\u001b[0m \u001b[1;34m'dd->d'\u001b[0m\u001b[1;33m\u001b[0m\u001b[1;33m\u001b[0m\u001b[0m\n\u001b[0;32m    402\u001b[0m     \u001b[0mextobj\u001b[0m \u001b[1;33m=\u001b[0m \u001b[0mget_linalg_error_extobj\u001b[0m\u001b[1;33m(\u001b[0m\u001b[0m_raise_linalgerror_singular\u001b[0m\u001b[1;33m)\u001b[0m\u001b[1;33m\u001b[0m\u001b[1;33m\u001b[0m\u001b[0m\n\u001b[1;32m--> 403\u001b[1;33m     \u001b[0mr\u001b[0m \u001b[1;33m=\u001b[0m \u001b[0mgufunc\u001b[0m\u001b[1;33m(\u001b[0m\u001b[0ma\u001b[0m\u001b[1;33m,\u001b[0m \u001b[0mb\u001b[0m\u001b[1;33m,\u001b[0m \u001b[0msignature\u001b[0m\u001b[1;33m=\u001b[0m\u001b[0msignature\u001b[0m\u001b[1;33m,\u001b[0m \u001b[0mextobj\u001b[0m\u001b[1;33m=\u001b[0m\u001b[0mextobj\u001b[0m\u001b[1;33m)\u001b[0m\u001b[1;33m\u001b[0m\u001b[1;33m\u001b[0m\u001b[0m\n\u001b[0m\u001b[0;32m    404\u001b[0m \u001b[1;33m\u001b[0m\u001b[0m\n\u001b[0;32m    405\u001b[0m     \u001b[1;32mreturn\u001b[0m \u001b[0mwrap\u001b[0m\u001b[1;33m(\u001b[0m\u001b[0mr\u001b[0m\u001b[1;33m.\u001b[0m\u001b[0mastype\u001b[0m\u001b[1;33m(\u001b[0m\u001b[0mresult_t\u001b[0m\u001b[1;33m,\u001b[0m \u001b[0mcopy\u001b[0m\u001b[1;33m=\u001b[0m\u001b[1;32mFalse\u001b[0m\u001b[1;33m)\u001b[0m\u001b[1;33m)\u001b[0m\u001b[1;33m\u001b[0m\u001b[1;33m\u001b[0m\u001b[0m\n",
      "\u001b[1;32mC:\\ProgramData\\Anaconda3\\lib\\site-packages\\numpy\\linalg\\linalg.py\u001b[0m in \u001b[0;36m_raise_linalgerror_singular\u001b[1;34m(err, flag)\u001b[0m\n\u001b[0;32m     95\u001b[0m \u001b[1;33m\u001b[0m\u001b[0m\n\u001b[0;32m     96\u001b[0m \u001b[1;32mdef\u001b[0m \u001b[0m_raise_linalgerror_singular\u001b[0m\u001b[1;33m(\u001b[0m\u001b[0merr\u001b[0m\u001b[1;33m,\u001b[0m \u001b[0mflag\u001b[0m\u001b[1;33m)\u001b[0m\u001b[1;33m:\u001b[0m\u001b[1;33m\u001b[0m\u001b[1;33m\u001b[0m\u001b[0m\n\u001b[1;32m---> 97\u001b[1;33m     \u001b[1;32mraise\u001b[0m \u001b[0mLinAlgError\u001b[0m\u001b[1;33m(\u001b[0m\u001b[1;34m\"Singular matrix\"\u001b[0m\u001b[1;33m)\u001b[0m\u001b[1;33m\u001b[0m\u001b[1;33m\u001b[0m\u001b[0m\n\u001b[0m\u001b[0;32m     98\u001b[0m \u001b[1;33m\u001b[0m\u001b[0m\n\u001b[0;32m     99\u001b[0m \u001b[1;32mdef\u001b[0m \u001b[0m_raise_linalgerror_nonposdef\u001b[0m\u001b[1;33m(\u001b[0m\u001b[0merr\u001b[0m\u001b[1;33m,\u001b[0m \u001b[0mflag\u001b[0m\u001b[1;33m)\u001b[0m\u001b[1;33m:\u001b[0m\u001b[1;33m\u001b[0m\u001b[1;33m\u001b[0m\u001b[0m\n",
      "\u001b[1;31mLinAlgError\u001b[0m: Singular matrix"
     ]
    }
   ],
   "source": [
    "F, U, matriz_rigidez = calculos(MN, MC, K, s, r, U, F)\n",
    "\n",
    "print('Fuerzas =', F)\n",
    "print('Desplazamientos =', U)"
   ]
  },
  {
   "cell_type": "code",
   "execution_count": null,
   "metadata": {},
   "outputs": [],
   "source": []
  }
 ],
 "metadata": {
  "kernelspec": {
   "display_name": "Python 3",
   "language": "python",
   "name": "python3"
  },
  "language_info": {
   "codemirror_mode": {
    "name": "ipython",
    "version": 3
   },
   "file_extension": ".py",
   "mimetype": "text/x-python",
   "name": "python",
   "nbconvert_exporter": "python",
   "pygments_lexer": "ipython3",
   "version": "3.7.4"
  }
 },
 "nbformat": 4,
 "nbformat_minor": 4
}
