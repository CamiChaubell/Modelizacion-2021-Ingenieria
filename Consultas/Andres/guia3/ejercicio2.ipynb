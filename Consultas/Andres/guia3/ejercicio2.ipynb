{
 "cells": [
  {
   "cell_type": "code",
   "execution_count": 25,
   "id": "distinguished-deadline",
   "metadata": {},
   "outputs": [],
   "source": [
    "import gmsh \n",
    "import numpy as np\n",
    "\n",
    "gmsh.initialize()    # esto es como abrir un programa \n",
    "gmsh.model.add('testeo') #creo el modelo que modificare\n",
    "lc=1\n",
    "L=10\n",
    "p1=gmsh.model.geo.addPoint(0,0,0,lc)\n",
    "p2=gmsh.model.geo.addPoint(2*L,0,0,lc)\n",
    "p3=gmsh.model.geo.addPoint(2*L,L,0,lc)\n",
    "p4=gmsh.model.geo.addPoint(0,L,0,lc)\n",
    "l1=gmsh.model.geo.addLine(p1,p2)\n",
    "l2=gmsh.model.geo.addLine(p2,p3)\n",
    "l3=gmsh.model.geo.addLine(p3,p4)\n",
    "l4=gmsh.model.geo.addLine(p4,p1)\n",
    "c1=gmsh.model.geo.addCurveLoop([l1,l2,l3,l4])\n",
    "s1=gmsh.model.geo.addPlaneSurface([c1])\n",
    "gmsh.model.geo.synchronize()\n",
    "\n",
    "Empotrado=gmsh.model.addPhysicalGroup(1,[l4])\n",
    "gmsh.model.setPhysicalName(1,Empotrado,'Empotrado')\n",
    "\n",
    "Traccionado=gmsh.model.addPhysicalGroup(1,[l2])\n",
    "gmsh.model.setPhysicalName(1,Traccionado,'Traccionado')\n",
    "\n",
    "Superficie = gmsh.model.addPhysicalGroup(2,[s1])\n",
    "gmsh.model.setPhysicalName(2,Superficie, 'Superficie')\n",
    "\n",
    "\n",
    "gmsh.model.mesh.generate(2)\n",
    "\n",
    "\n",
    "NodeInfo = gmsh.model.mesh.get_nodes()\n",
    "NumeroNodos=NodeInfo[0].shape[0]\n",
    "\n",
    "MN=NodeInfo[1].reshape(NumeroNodos,3)\n",
    "\n",
    "ETAGS,ELEMENTS=gmsh.model.mesh.get_elements_by_type(2)\n",
    "\n",
    "MC=ELEMENTS.reshape([ETAGS.shape[0],3])\n",
    "\n",
    "MC=(MC-1).astype(int) # etiquetas de los nodos con notacion python\n",
    "\n",
    "\n",
    "NodosEmpotrados=gmsh.model.mesh.get_nodes_for_physical_group(1,Empotrado)\n",
    "CE=NodosEmpotrados[1].reshape(NodosEmpotrados[0].shape[0],3) # son las coordenadas.\n",
    "\n",
    "s=NodosEmpotrados[0].reshape(len(NodosEmpotrados[0]),1) # etiquetas de los nodos empotrados\n",
    "z=np.zeros([len(NodosEmpotrados[0]),2])\n",
    "MNE=np.concatenate((s-1,z),axis=1)  # etiquetas de los nodos con notacion python\n",
    "MNE=MNE.astype(int)\n",
    "\n",
    "\n",
    "NodosTraccionados=gmsh.model.mesh.get_nodes_for_physical_group(1,Traccionado)\n",
    "\n",
    "\n",
    "s=NodosTraccionados[0].reshape(len(NodosTraccionados[0]),1).astype(int) # etiquetas de los nodos traccionados\n",
    "z=np.zeros([len(NodosTraccionados[0]),2]).astype(int)\n",
    "MNT=np.concatenate((s-1,z),axis=1) # etiquetas de los nodos con notacion python\n",
    "\n",
    "\n",
    "# encuentro las fuerzas ejercidas en cada nodo del extremo empotrado\n",
    "entityTraccionada=gmsh.model.getEntitiesForPhysicalGroup(1,Traccionado)\n",
    "Tgroup,Ttraccionada,Ltraccionada=gmsh.model.mesh.getElements(1,entityTraccionada[0])\n",
    "Ltraccionada=Ltraccionada[0].reshape(Ttraccionada[0].shape[0],2) #es la matriz de conectividad de los elementos linea del extremo traccionado \n",
    "Longitudes=np.abs(MN[Ltraccionada[:,0]-1,1]-MN[Ltraccionada[:,1]-1,1])\n",
    "\n",
    "t=1 #[inch]\n",
    "Tension_ext=10000/L\n",
    "for s in range(len(Ltraccionada)):\n",
    "    flocal=Tension_ext*Longitudes[s]*t/2\n",
    "    flocal=round(flocal)\n",
    "    MNT[s,1]+=flocal\n",
    "    MNT[s+1,1]+=flocal\n"
   ]
  },
  {
   "cell_type": "code",
   "execution_count": 26,
   "id": "romance-minister",
   "metadata": {},
   "outputs": [
    {
     "data": {
      "text/plain": [
       "array([[   1,  500,    0],\n",
       "       [   2, 1000,    0],\n",
       "       [  23, 1000,    0],\n",
       "       [  24, 1000,    0],\n",
       "       [  25, 1000,    0],\n",
       "       [  26, 1000,    0],\n",
       "       [  27, 1000,    0],\n",
       "       [  28, 1000,    0],\n",
       "       [  29, 1000,    0],\n",
       "       [  30, 1000,    0],\n",
       "       [  31,  500,    0]])"
      ]
     },
     "execution_count": 26,
     "metadata": {},
     "output_type": "execute_result"
    }
   ],
   "source": [
    "MNT"
   ]
  },
  {
   "cell_type": "code",
   "execution_count": 30,
   "id": "greater-alabama",
   "metadata": {},
   "outputs": [
    {
     "data": {
      "text/plain": [
       "array([1., 1., 1., 1., 1., 1., 1., 1., 1., 1.])"
      ]
     },
     "execution_count": 30,
     "metadata": {},
     "output_type": "execute_result"
    }
   ],
   "source": [
    "Longitudes"
   ]
  },
  {
   "cell_type": "code",
   "execution_count": 31,
   "id": "polished-raising",
   "metadata": {},
   "outputs": [
    {
     "data": {
      "text/plain": [
       "array([[ 0,  0,  0],\n",
       "       [ 3,  0,  0],\n",
       "       [51,  0,  0],\n",
       "       [52,  0,  0],\n",
       "       [53,  0,  0],\n",
       "       [54,  0,  0],\n",
       "       [55,  0,  0],\n",
       "       [56,  0,  0],\n",
       "       [57,  0,  0],\n",
       "       [58,  0,  0],\n",
       "       [59,  0,  0]])"
      ]
     },
     "execution_count": 31,
     "metadata": {},
     "output_type": "execute_result"
    }
   ],
   "source": [
    "MNE"
   ]
  },
  {
   "cell_type": "code",
   "execution_count": 32,
   "id": "floating-setting",
   "metadata": {},
   "outputs": [],
   "source": [
    "gmsh.fltk.run() # notese que los nodos en MNT, MNE estan retrasados en 1 respecto al mesh "
   ]
  },
  {
   "cell_type": "code",
   "execution_count": 6,
   "id": "continental-bearing",
   "metadata": {},
   "outputs": [],
   "source": [
    "np.set_printoptions(precision = 4, linewidth = 132)\n",
    "cp=0.3\n",
    "E=30000000 #[Psi]\n",
    "\n",
    "nb=len(MNE)\n",
    "nc=len(MNT)\n",
    "\n",
    "D=np.array([[1,cp,0],\n",
    "            [cp,1,0],\n",
    "            [0,0,0.5*(1-cp)]] )*E/(1-cp**2)\n",
    "n=len(MN)\n",
    "x=np.arange(n) \n",
    "x=np.delete(x,[np.concatenate((MNE[:,0].astype(int),MNT[:,0].astype(int)))]) #tiene adentro los nodos en los que no se pusieron condiciones\n",
    "\n"
   ]
  },
  {
   "cell_type": "code",
   "execution_count": 8,
   "id": "advisory-orleans",
   "metadata": {},
   "outputs": [],
   "source": [
    "kglobal=np.zeros([len(MN)*2,len(MN)*2])\n",
    "B=[]\n",
    "for i in range (len(MC)):\n",
    "    A=np.linalg.det([[1,MN[MC[i,0],0],MN[MC[i,0],1]],\n",
    "                    [1,MN[MC[i,2],0],MN[MC[i,2],1]],\n",
    "                    [1,MN[MC[i,1],0],MN[MC[i,1],1]]])/2\n",
    "    \n",
    "    \n",
    "    bi=MN[MC[i,2],1]-MN[MC[i,1],1]\n",
    "    gi=MN[MC[i,1],0]-MN[MC[i,2],0]\n",
    "    \n",
    "    bj=MN[MC[i,1],1]-MN[MC[i,0],1]\n",
    "    gj=MN[MC[i,0],0]-MN[MC[i,1],0]\n",
    "    \n",
    "    bm=MN[MC[i,0],1]-MN[MC[i,2],1]\n",
    "    gm=MN[MC[i,2],0]-MN[MC[i,0],0]\n",
    "    \n",
    "    B.append(np.array([[bi,0,bj,0,bm,0],\n",
    "                       [0,gi,0,gj,0,gm],\n",
    "                       [gi,bi,gj,bj,gm,bm]])*(1/(2*A)))\n",
    "    \n",
    "\n",
    "    k= t * abs(A) * (np.dot(np.transpose(B[i]), np.dot(D,B[i])))\n",
    "    \n",
    "    i,m,j = MC[i,:]    \n",
    "    index=np.array([i*2,i*2+1,j*2,j*2+1,m*2,m*2+1])\n",
    "    kglobal[np.ix_(index,index)]+=k\n",
    "\n",
    "    #print(B/(1/(2*A)))\n",
    "    #print(A)\n",
    "    #print(k/(75000/0.91))\n",
    "    #print(kglobal*(0.91/375000))"
   ]
  },
  {
   "cell_type": "code",
   "execution_count": 9,
   "id": "alert-roberts",
   "metadata": {},
   "outputs": [],
   "source": [
    "#creo matriz de fuerzas \n",
    "#f[i,0]=1 se conoce la fuerza\n",
    "#f[i,0]=0 no se conoce la fuerza\n",
    "#f[i,1]=valor ,si la fuerza se conoce su valor estara en la segunda columna.\n",
    "f=np.zeros([2*n,2])\n",
    "# introduzco a la matriz f las fuerzas conocidas\n",
    "for i in range (nc):\n",
    "    s=MNT[i,0]\n",
    "    f[2*s,0]=1\n",
    "    f[2*s,1]=MNT[i,1]\n",
    "    f[2*s+1,0]=1\n",
    "    f[2*s+1,1]=MNT[i,2]\n",
    "    \n",
    "# introduzco al vector f las fuerzas que son 0 porque no conozco su desplazamiento\n",
    "for j in range (nb):\n",
    "    if MNE[j,1]==1:\n",
    "        s=MNE[j,0]\n",
    "        f[2*s,0]=1\n",
    "        f[2*s,1]=0\n",
    "    if MNE[j,2]==1:\n",
    "        s=MNE[j,0]\n",
    "        f[2*s+1,0]=1\n",
    "        f[2*s+1,1]=0\n",
    "if nb+nc <n:\n",
    "    f[2*x,0]=1\n",
    "    f[2*x,1]=0\n",
    "    f[2*x+1,0]=1\n",
    "    f[2*x+1,1]=0\n"
   ]
  },
  {
   "cell_type": "code",
   "execution_count": 12,
   "id": "worldwide-recommendation",
   "metadata": {},
   "outputs": [],
   "source": [
    "# Busco los indices para seleccionar las componentes de la matriz Kglobal\n",
    "indexf=[]  # indices de fuerzas conocidas \n",
    "indexd=[]  # indices de desplazamientos conocidos  \n",
    "contador=0\n",
    "for k in range(2*n):\n",
    "    if f[k,0]==1 :\n",
    "        indexf.append(k)\n",
    "        contador+=1\n",
    "    else:\n",
    "        indexd.append(k)"
   ]
  },
  {
   "cell_type": "code",
   "execution_count": 13,
   "id": "economic-austria",
   "metadata": {},
   "outputs": [],
   "source": [
    "# selecciono las componentes de Kglobal y resuelvo [F]=[K'][u] como [K']^-1[F]=[u] teniendo K' las componentes seleccionadas \n",
    "#segun las fuerzas conocidas desde un principio:\n",
    "\n",
    "desplazamientos=np.dot(np.linalg.inv(kglobal[np.ix_(indexf,indexf)]),f[indexf,1])\n",
    "\n",
    "#creo el vector desplazamientos, la notacion es igual que en el vetor fuerzas:\n",
    "d=np.zeros([2*n,2])\n",
    "d[indexd,0]=1 \n",
    "d[indexf,1]=desplazamientos\n",
    "f[:,1]=np.dot(kglobal,d[:,1]) # obtuve las fuerzas faltantes, paso demas "
   ]
  },
  {
   "cell_type": "code",
   "execution_count": 14,
   "id": "conventional-background",
   "metadata": {},
   "outputs": [],
   "source": [
    "tension=[0,0,0]\n",
    "for s in range (len(MC)) :\n",
    "    i,m,j = MC[s,:]    \n",
    "    index=np.array([i*2,i*2+1,j*2,j*2+1,m*2,m*2+1])\n",
    "    valor=np.dot(np.dot(B[s],d[index,1]),D)\n",
    "    tension=np.vstack((tension,valor))\n",
    "    \n",
    "tension=np.delete(tension,0,axis=0)"
   ]
  },
  {
   "cell_type": "code",
   "execution_count": null,
   "id": "eight-product",
   "metadata": {},
   "outputs": [],
   "source": []
  },
  {
   "cell_type": "code",
   "execution_count": 15,
   "id": "oriental-watershed",
   "metadata": {},
   "outputs": [],
   "source": [
    "tensionmax=[0]\n",
    "for p in range (len(tension)):\n",
    "    valor=(tension[p,0]+tension[p,1])/2+np.sqrt((tension[p,0]-tension[p,1])/2+tension[p,2]**2)\n",
    "    tensionmax=np.vstack((tensionmax,valor))\n",
    "tensionmax=np.delete(tensionmax,0,axis=0)\n",
    "\n"
   ]
  },
  {
   "cell_type": "code",
   "execution_count": 16,
   "id": "nearby-browse",
   "metadata": {},
   "outputs": [],
   "source": [
    "# separo las componente \"x\" e \"y\" del vector deplazamiento \n",
    "ip=[]\n",
    "ii=[]\n",
    "desplazamiento=[]\n",
    "for q in range(len(d)):\n",
    "    if q%2==0:\n",
    "        ip.append(q)\n",
    "    else:\n",
    "        ii.append(q)\n",
    "a=d[ip,1].reshape(len(ip),1)\n",
    "\n",
    "b=d[ii,1].reshape(len(ii),1)\n",
    "\n"
   ]
  },
  {
   "cell_type": "code",
   "execution_count": 17,
   "id": "terminal-services",
   "metadata": {},
   "outputs": [],
   "source": [
    "\n",
    "DESP=np.hstack((a,b,np.zeros([len(a),1])))"
   ]
  },
  {
   "cell_type": "code",
   "execution_count": 18,
   "id": "instant-owner",
   "metadata": {},
   "outputs": [],
   "source": [
    "\n",
    "desps = gmsh.view.add(\"desplazamientos\")\n",
    "\n"
   ]
  },
  {
   "cell_type": "code",
   "execution_count": 19,
   "id": "continental-persian",
   "metadata": {},
   "outputs": [],
   "source": [
    "\n",
    "Desps = gmsh.view.addModelData(desps, 0, 'testeo', 'NodeData', NodeInfo[0], DESP, numComponents=3)\n",
    "#en orden del argumento anterior: \n",
    "#view donde guardo los datos\n",
    "#0(hace algo con el tiempo)\n",
    "#nombre del modelo del mesh)\n",
    "#NodeData implica que el valor que que estoy guardando esta relacionado a los nodos , puede ser NodeData,ElemenData.\n",
    "#etiquetas de los nodos/elementos a los que se le asigna \"desps\" \n",
    "#Valores de lo que asigno\n",
    "#dimension de aquello que le estoy dando como valores \n",
    "\n",
    "# hay una forma de poner un \"video\" en la visualizacion del mesh , ver script de Mariano \n",
    "# tambien hay maneras de como exportar los resultados, ver script de Mariano  "
   ]
  },
  {
   "cell_type": "code",
   "execution_count": 20,
   "id": "tutorial-shift",
   "metadata": {},
   "outputs": [],
   "source": [
    "Tensiones=gmsh.view.add('Tensiones principales')"
   ]
  },
  {
   "cell_type": "code",
   "execution_count": 21,
   "id": "opposite-disney",
   "metadata": {},
   "outputs": [],
   "source": [
    "Tensiones = gmsh.view.addModelData(Tensiones, 0, 'testeo', 'ElementData', ETAGS, tensionmax , numComponents=1 )"
   ]
  },
  {
   "cell_type": "code",
   "execution_count": 22,
   "id": "sound-brake",
   "metadata": {},
   "outputs": [],
   "source": [
    "gmsh.fltk.run()\n"
   ]
  },
  {
   "cell_type": "code",
   "execution_count": null,
   "id": "loving-disclaimer",
   "metadata": {},
   "outputs": [],
   "source": []
  }
 ],
 "metadata": {
  "kernelspec": {
   "display_name": "Python 3",
   "language": "python",
   "name": "python3"
  },
  "language_info": {
   "codemirror_mode": {
    "name": "ipython",
    "version": 3
   },
   "file_extension": ".py",
   "mimetype": "text/x-python",
   "name": "python",
   "nbconvert_exporter": "python",
   "pygments_lexer": "ipython3",
   "version": "3.9.2"
  }
 },
 "nbformat": 4,
 "nbformat_minor": 5
}
