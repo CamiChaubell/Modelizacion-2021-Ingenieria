{
 "cells": [
  {
   "cell_type": "code",
   "execution_count": 1,
   "id": "banner-secondary",
   "metadata": {
    "id": "lovely-opportunity",
    "outputId": "4dd75a63-20dc-4a97-8374-8ce500c419b6"
   },
   "outputs": [
    {
     "name": "stdout",
     "output_type": "stream",
     "text": [
      "1.6484375\n"
     ]
    }
   ],
   "source": [
    "x = 0.5 \n",
    "Sout = 0.5 ; t = 0 ; n = 1 ; exponencial = 1\n",
    "tol = 0.01 #con esta tolerancia ya da\n",
    "# elegi Sout = 0.5 para que siempre entre al while\n",
    "\n",
    "while exponencial - Sout > tol:\n",
    "    Sout = exponencial\n",
    "    t += 1\n",
    "    #mdf_comment n = n * t\n",
    "    n *= t\n",
    "    exponencial += (x**t)/n\n",
    "    \n",
    "print(exponencial)"
   ]
  },
  {
   "cell_type": "markdown",
   "id": "split-coupon",
   "metadata": {
    "id": "looking-spectacular"
   },
   "source": [
    "Pregunta:\n",
    "1. ¿ podés determinar cómo evoluciona el error ?\n",
    "2. ¿ Y el grafiquito ?\n",
    "3. ¿ cuántas iteraciones necesitas para converger ?\n",
    "4. ¿ qué pasa si exponencial - sount  < 0 ?"
   ]
  },
  {
   "cell_type": "code",
   "execution_count": null,
   "id": "foster-eclipse",
   "metadata": {},
   "outputs": [],
   "source": []
  }
 ],
 "metadata": {
  "colab": {
   "name": "Ejer2.ipynb",
   "provenance": []
  },
  "kernelspec": {
   "display_name": "Python 3",
   "language": "python",
   "name": "python3"
  },
  "language_info": {
   "codemirror_mode": {
    "name": "ipython",
    "version": 3
   },
   "file_extension": ".py",
   "mimetype": "text/x-python",
   "name": "python",
   "nbconvert_exporter": "python",
   "pygments_lexer": "ipython3",
   "version": "3.9.2"
  }
 },
 "nbformat": 4,
 "nbformat_minor": 5
}
