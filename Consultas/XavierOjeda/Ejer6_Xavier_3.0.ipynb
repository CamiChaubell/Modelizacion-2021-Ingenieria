{
 "cells": [
  {
   "cell_type": "code",
   "execution_count": 1,
   "id": "military-quick",
   "metadata": {},
   "outputs": [],
   "source": [
    "import numpy as np\n",
    "import matplotlib.pyplot as plt\n",
    "import copy \n",
    "\n",
    "rdi = [0,30]\n",
    "# rdi = rango de integracion\n",
    "f = lambda z: 200 * (z/(5+z)) * np.exp((-2*z)/300)\n"
   ]
  },
  {
   "cell_type": "code",
   "execution_count": 2,
   "id": "afraid-power",
   "metadata": {},
   "outputs": [],
   "source": [
    "def funcion_pesos (n):\n",
    "    \n",
    "    X = np.zeros((7,7))\n",
    "    X[1:7,0] = [-1/np.sqrt(3),-np.sqrt(0.6),-0.861136311594953,-0.906179845938664,-0.932469514203152,-0.949107912342759]\n",
    "    X[2:6,1] = [-0.339981043584856,-0.538469310105683,-0.661209386466265,-0.741531185599394]\n",
    "    X[3:5,2] = [-0.238619186083197,-0.405845151377397]\n",
    "    X1 = copy.copy(X)\n",
    "    X1 = -np.transpose(X1)\n",
    "    X = X1 + X\n",
    "\n",
    "    Pesos = np.zeros((7,7))\n",
    "    Pesos[1:7,0] = [1,5/9,0.347854845137454,0.236926885056189,0.171324492379170,0.129484966168870]\n",
    "    Pesos[2:6,1] = [0.652145154862546,0.478628670499366,0.360761573048139,0.279705391489277]\n",
    "    Pesos[3:5,2] = [0.467913934572691,0.381830050505119]\n",
    "    Pesos1 = copy.copy(Pesos)\n",
    "    Pesos1 = np.transpose(Pesos1)\n",
    "    Pesos = Pesos1 + Pesos\n",
    "    Pesos[0,0] = 2\n",
    "    Pesos[1,1] = 8/9\n",
    "    Pesos[2,2] = 0.568888888888889\n",
    "    Pesos[3,3] = 0.417959183673469\n",
    "\n",
    "    X_salida = []\n",
    "    Pesos_salida = []\n",
    "    for i in range(n):\n",
    "        X_salida.append(X[n-i-1,i])\n",
    "        Pesos_salida.append(Pesos[n-i-1,i])\n",
    "\n",
    "    return X_salida, Pesos_salida\n"
   ]
  },
  {
   "cell_type": "code",
   "execution_count": 3,
   "id": "enabling-nitrogen",
   "metadata": {},
   "outputs": [],
   "source": [
    "'''Metodo de trapecios'''\n",
    "\n",
    "def trapecios (rdi,f,x):\n",
    "    #x = np.linspace (int(rdi[0]),int(rdi[1]),300)\n",
    "    #x = np.arange(0,30.5,0.5)\n",
    "    n = len(x)\n",
    "    alfa = f(rdi[1]) + f(rdi[0])\n",
    "    for i in range (1,n-1):    \n",
    "        alfa += 2 * f(x[i])\n",
    "    \n",
    "    I = ((rdi[1]-rdi[0])/(n))*((alfa)/2)\n",
    "\n",
    "    return I"
   ]
  },
  {
   "cell_type": "code",
   "execution_count": 4,
   "id": "excessive-despite",
   "metadata": {},
   "outputs": [],
   "source": [
    "'''Metodo de simpson'''\n",
    "\n",
    "def Simpson (rdi,f,x):\n",
    "    #x = np.linspace (int(rdi[0]),int(rdi[1]),300)\n",
    "    #x = np.arange(0,30.5,0.5)\n",
    "    n = len(x)\n",
    "    alfa = f(rdi[1]) + f(rdi[0])\n",
    "\n",
    "    for i in range (1,n-1):    \n",
    "        if (i % 2 == 0):  #verifico si el x esta en una posicion par \n",
    "             alfa += 4 * f(x[i])\n",
    "        else:\n",
    "             alfa += 2 * f(x[i])\n",
    "    \n",
    "    I = ((rdi[1]-rdi[0])/(n-1))*((alfa)/3)\n",
    "    \n",
    "    return I\n",
    "\n"
   ]
  },
  {
   "cell_type": "code",
   "execution_count": 5,
   "id": "revised-topic",
   "metadata": {},
   "outputs": [],
   "source": [
    "'''Cuadratura de gauss'''\n",
    "\n",
    "def cuadratura (rdi,f,n):\n",
    "    lineal = lambda x,m,b: m*x+b \n",
    "    \n",
    "    m = (rdi[1]-rdi[0])/2\n",
    "    b = (rdi[1]+rdi[0])/2\n",
    "    I = 0\n",
    "    X,peso = funcion_pesos(n)\n",
    "    \n",
    "    for i in range(len(X)):  \n",
    "        I += f(lineal(m,X[i],b))*peso[i]\n",
    "        \n",
    "    Int = m*I\n",
    "\n",
    "    return Int"
   ]
  },
  {
   "cell_type": "code",
   "execution_count": 27,
   "id": "advanced-hygiene",
   "metadata": {},
   "outputs": [
    {
     "data": {
      "image/png": "[encoded data removed]",
      "text/plain": [
       "<Figure size 432x288 with 1 Axes>"
      ]
     },
     "metadata": {
      "needs_background": "light"
     },
     "output_type": "display_data"
    }
   ],
   "source": [
    "simpson = []\n",
    "Trapecios = []\n",
    "gauss = []\n",
    "t = np.logspace(0.5,4,20).astype(int)*2-1 #\"solo tomo intervalos impares\"\n",
    "Zeta = np.arange(1,8)\n",
    "for i in range(1,8):\n",
    "    gauss.append(cuadratura(rdi,f,i))\n",
    "    \n",
    "for i in t:\n",
    "    x = np.linspace(rdi[0],rdi[1],i)\n",
    "    simpson.append(Simpson(rdi,f,x))\n",
    "    Trapecios.append(trapecios(rdi,f,x))\n",
    "\n",
    "plt.semilogx(t,simpson,'r', label ='Metodo de Simpson')\n",
    "plt.semilogx(t,Trapecios,'b', label = 'Metodo de trapecios')\n",
    "plt.semilogx(Zeta,gauss,'g', label ='Metodo de Gauss')\n",
    "plt.legend(loc = 'center right')\n",
    "plt.ylabel('Valor de la integral')\n",
    "plt.xlabel('numero de intervalos')\n",
    "plt.show()\n",
    "\n",
    "\n"
   ]
  },
  {
   "cell_type": "code",
   "execution_count": null,
   "id": "reliable-alfred",
   "metadata": {},
   "outputs": [],
   "source": [
    "# punto efectivo \n",
    "x = np.linspace (int(rdi[0]),int(rdi[1]),300)\n",
    "I = Simpson(rdi,f,x)\n",
    "J = lambda z: (1/I) * z * 200 * (z/(5+z)) * np.exp((-2*z)/300)\n",
    "Fuerza = Simpson(rdi,J,x)\n",
    "print(Fuerza)"
   ]
  },
  {
   "cell_type": "code",
   "execution_count": null,
   "id": "cubic-monday",
   "metadata": {},
   "outputs": [],
   "source": []
  }
 ],
 "metadata": {
  "kernelspec": {
   "display_name": "Python 3",
   "language": "python",
   "name": "python3"
  },
  "language_info": {
   "codemirror_mode": {
    "name": "ipython",
    "version": 3
   },
   "file_extension": ".py",
   "mimetype": "text/x-python",
   "name": "python",
   "nbconvert_exporter": "python",
   "pygments_lexer": "ipython3",
   "version": "3.9.2"
  }
 },
 "nbformat": 4,
 "nbformat_minor": 5
}
