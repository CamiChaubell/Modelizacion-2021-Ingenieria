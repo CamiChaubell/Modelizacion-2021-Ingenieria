{
 "cells": [
  {
   "cell_type": "code",
   "execution_count": 1,
   "id": "prescribed-mattress",
   "metadata": {},
   "outputs": [],
   "source": [
    "import numpy as np\n",
    "import matplotlib.pyplot as plt\n",
    "\n",
    "E = 210E9 \n",
    "A = 10 # cm^2\n",
    "L = 150\n",
    "T = -20 # N/cm^2\n",
    "Particion = 8\n",
    "\n",
    "# E = 30E6 \n",
    "# A = 2 # cm^2\n",
    "# L = 60\n",
    "# T = -10 # N/cm^2\n",
    "# Particion = 4\n",
    "\n"
   ]
  },
  {
   "cell_type": "code",
   "execution_count": 2,
   "id": "decimal-toddler",
   "metadata": {},
   "outputs": [],
   "source": [
    "Matriz_global = np.zeros([Particion+1,Particion+1])\n",
    "F = np.zeros (Particion+1)\n",
    "\n",
    "matriz = np.array([[1,-1],[-1,1]])\n",
    "K = (E*A*Particion)/L\n",
    "\n",
    "Ft = (1/2)*T*(L/Particion)**2   \n",
    "f1 =  Ft/3  \n",
    "f2 = (2*Ft)/3      \n",
    "\n",
    "\n",
    "empotramiento = np.array([[0]])"
   ]
  },
  {
   "cell_type": "code",
   "execution_count": 3,
   "id": "returning-password",
   "metadata": {},
   "outputs": [],
   "source": [
    "# Matriz de rigidez\n",
    "for i in range(Particion):\n",
    "\n",
    "    #matriz global\n",
    "    \n",
    "     Matriz_local = K*matriz         \n",
    "     A_G = np.array([i,i+1],dtype = int)\n",
    "     Matriz_global[np.ix_(A_G,A_G)] +=  Matriz_local\n",
    "     \n",
    "     #Fuerzas    \n",
    "     Fu = Ft * i   \n",
    "     F[i] += (Fu + f1)\n",
    "     F[i+1] += (Fu + f2)\n",
    "\n",
    "\n",
    "F = np.array(F).reshape(-1,1)\n",
    "Desplazamientos = np.linalg.solve (Matriz_global[0:Particion,0:Particion],F[0:Particion])\n",
    "Desplazamientos = np.concatenate((Desplazamientos,empotramiento))\n",
    "Fuerzas = np.dot(Matriz_global,Desplazamientos)\n",
    "Reaccion = Fuerzas[Particion] - F[Particion]"
   ]
  },
  {
   "cell_type": "code",
   "execution_count": 4,
   "id": "gothic-polish",
   "metadata": {},
   "outputs": [
    {
     "name": "stdout",
     "output_type": "stream",
     "text": [
      "[[ 1.12e+11 -1.12e+11  0.00e+00  0.00e+00  0.00e+00  0.00e+00  0.00e+00\n",
      "   0.00e+00  0.00e+00]\n",
      " [-1.12e+11  2.24e+11 -1.12e+11  0.00e+00  0.00e+00  0.00e+00  0.00e+00\n",
      "   0.00e+00  0.00e+00]\n",
      " [ 0.00e+00 -1.12e+11  2.24e+11 -1.12e+11  0.00e+00  0.00e+00  0.00e+00\n",
      "   0.00e+00  0.00e+00]\n",
      " [ 0.00e+00  0.00e+00 -1.12e+11  2.24e+11 -1.12e+11  0.00e+00  0.00e+00\n",
      "   0.00e+00  0.00e+00]\n",
      " [ 0.00e+00  0.00e+00  0.00e+00 -1.12e+11  2.24e+11 -1.12e+11  0.00e+00\n",
      "   0.00e+00  0.00e+00]\n",
      " [ 0.00e+00  0.00e+00  0.00e+00  0.00e+00 -1.12e+11  2.24e+11 -1.12e+11\n",
      "   0.00e+00  0.00e+00]\n",
      " [ 0.00e+00  0.00e+00  0.00e+00  0.00e+00  0.00e+00 -1.12e+11  2.24e+11\n",
      "  -1.12e+11  0.00e+00]\n",
      " [ 0.00e+00  0.00e+00  0.00e+00  0.00e+00  0.00e+00  0.00e+00 -1.12e+11\n",
      "   2.24e+11 -1.12e+11]\n",
      " [ 0.00e+00  0.00e+00  0.00e+00  0.00e+00  0.00e+00  0.00e+00  0.00e+00\n",
      "  -1.12e+11  1.12e+11]]\n",
      "\n",
      "[[ -1171.875]\n",
      " [ -7031.25 ]\n",
      " [-14062.5  ]\n",
      " [-21093.75 ]\n",
      " [-28125.   ]\n",
      " [-35156.25 ]\n",
      " [-42187.5  ]\n",
      " [-49218.75 ]\n",
      " [-26953.125]]\n",
      "\n"
     ]
    }
   ],
   "source": [
    "print(Matriz_global)\n",
    "print()\n",
    "print(F)\n",
    "print()\n"
   ]
  },
  {
   "cell_type": "code",
   "execution_count": 5,
   "id": "julian-responsibility",
   "metadata": {},
   "outputs": [
    {
     "data": {
      "image/png": "[encoded data removed]",
      "text/plain": [
       "<Figure size 432x288 with 1 Axes>"
      ]
     },
     "metadata": {
      "needs_background": "light"
     },
     "output_type": "display_data"
    }
   ],
   "source": [
    "espacio = np.linspace(0,150,Particion+1)\n",
    "\n",
    "espacio2 = np.linspace(0,150,100)\n",
    "exacta = lambda x: (-T*(x**3-L**3))/(6*A*E)\n",
    "\n",
    "plt.plot(espacio2,exacta(espacio2),'b')\n",
    "plt.plot(espacio,Desplazamientos,'r')\n",
    "plt.show()"
   ]
  },
  {
   "cell_type": "code",
   "execution_count": null,
   "id": "bulgarian-paris",
   "metadata": {},
   "outputs": [],
   "source": [
    "#Fu = (T * ((L/Particion))**2)*i"
   ]
  },
  {
   "cell_type": "code",
   "execution_count": null,
   "id": "acting-house",
   "metadata": {},
   "outputs": [],
   "source": []
  }
 ],
 "metadata": {
  "kernelspec": {
   "display_name": "Python 3",
   "language": "python",
   "name": "python3"
  },
  "language_info": {
   "codemirror_mode": {
    "name": "ipython",
    "version": 3
   },
   "file_extension": ".py",
   "mimetype": "text/x-python",
   "name": "python",
   "nbconvert_exporter": "python",
   "pygments_lexer": "ipython3",
   "version": "3.9.2"
  }
 },
 "nbformat": 4,
 "nbformat_minor": 5
}
