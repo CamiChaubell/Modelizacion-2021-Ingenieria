{
 "cells": [
  {
   "cell_type": "code",
   "execution_count": 18,
   "id": "danish-wheat",
   "metadata": {
    "id": "lovely-opportunity",
    "outputId": "4dd75a63-20dc-4a97-8374-8ce500c419b6"
   },
   "outputs": [],
   "source": [
    "import matplotlib.pyplot as plt \n",
    "\n",
    "x = 0.5 \n",
    "Sout = 0.5 ; t = 0 ; n = 1 ; exponencial = 1\n",
    "tol = 0.01 #con esta tolerancia ya da\n",
    "# elegi Sout = 0.5 para que siempre entre al while\n",
    "Error = []\n",
    "Iteracion = []\n",
    "iteracion = 0\n",
    "\n",
    "while exponencial - Sout > tol:\n",
    "    Sout = exponencial\n",
    "    t += 1\n",
    "    n = n * t\n",
    "    exponencial += (x**t)/n\n",
    "    error = ((exponencial - Sout)/Sout) * 100\n",
    "    Error.append(error)\n",
    "    iteracion += 1\n",
    "    Iteracion.append(iteracion)"
   ]
  },
  {
   "cell_type": "markdown",
   "id": "prescribed-supplier",
   "metadata": {},
   "source": [
    "en general conviene hacer el gráfico aparte"
   ]
  },
  {
   "cell_type": "code",
   "execution_count": 20,
   "id": "bored-radius",
   "metadata": {
    "id": "lovely-opportunity",
    "outputId": "4dd75a63-20dc-4a97-8374-8ce500c419b6"
   },
   "outputs": [
    {
     "name": "stdout",
     "output_type": "stream",
     "text": [
      "1.6484375\n",
      "interaciones necesarias para convergencia 4\n"
     ]
    },
    {
     "data": {
      "text/plain": [
       "[]"
      ]
     },
     "execution_count": 20,
     "metadata": {},
     "output_type": "execute_result"
    },
    {
     "data": {
      "image/png": "[encoded data removed]",
      "text/plain": [
       "<Figure size 432x288 with 1 Axes>"
      ]
     },
     "metadata": {
      "needs_background": "light"
     },
     "output_type": "display_data"
    }
   ],
   "source": [
    "    \n",
    "print(exponencial)\n",
    "print('interaciones necesarias para convergencia', Iteracion[-1])\n",
    "plt.semilogy(Iteracion,Error, label='error')\n",
    "plt.ylabel('$ (S_{n+1}-S_n)/ S_n  $')\n",
    "plt.xlabel('n')\n",
    "plt.axhline(tol,ls = '--', label='lolerancia')\n",
    "plt.legend()\n",
    "\n",
    "plt.plot()"
   ]
  },
  {
   "cell_type": "markdown",
   "id": "bottom-waters",
   "metadata": {},
   "source": [
    "se ve que no está convergido. qué te está faltando ?"
   ]
  },
  {
   "cell_type": "markdown",
   "id": "uniform-thomson",
   "metadata": {
    "id": "looking-spectacular"
   },
   "source": [
    "1. ¿ podés determinar cómo evoluciona el error ?\n",
    "\n",
    "Defini el error relativo.\n",
    "\n",
    "\n",
    "2. ¿ Y el grafiquito ? \n",
    "\n",
    "Listo\n",
    "\n",
    "\n",
    "3. ¿ cuántas iteraciones necesitas para converger ?\n",
    "\n",
    "Ya agrege una forma de contar iteraciones y presentarlas\n",
    "\n",
    "\n",
    "3. ¿ qué pasa si exponencial - sount < 0 ?\n",
    "\n",
    "Esto nunca podria pasar, cada vez que entro escribo Sout = exponencial , y en el mismo for escribo \n",
    "```python\n",
    "exponencial +=  (x**t)/n\n",
    "``` \n",
    "por lo tanto la resta nunca puede dar un numero menor a 0."
   ]
  },
  {
   "cell_type": "markdown",
   "id": "therapeutic-keyboard",
   "metadata": {
    "id": "looking-spectacular"
   },
   "source": [
    "Sin embargo, siempre que definis un error conviene hacerlo con el módulo para sacarte de encima esa posibilidad. "
   ]
  },
  {
   "cell_type": "code",
   "execution_count": null,
   "id": "physical-pipeline",
   "metadata": {},
   "outputs": [],
   "source": []
  }
 ],
 "metadata": {
  "colab": {
   "name": "Ejer2.ipynb",
   "provenance": []
  },
  "kernelspec": {
   "display_name": "Python 3",
   "language": "python",
   "name": "python3"
  },
  "language_info": {
   "codemirror_mode": {
    "name": "ipython",
    "version": 3
   },
   "file_extension": ".py",
   "mimetype": "text/x-python",
   "name": "python",
   "nbconvert_exporter": "python",
   "pygments_lexer": "ipython3",
   "version": "3.9.2"
  }
 },
 "nbformat": 4,
 "nbformat_minor": 5
}
