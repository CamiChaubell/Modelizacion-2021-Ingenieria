{
 "cells": [
  {
   "cell_type": "code",
   "execution_count": 4,
   "id": "reported-refund",
   "metadata": {
    "id": "lovely-opportunity",
    "outputId": "4dd75a63-20dc-4a97-8374-8ce500c419b6"
   },
   "outputs": [
    {
     "name": "stdout",
     "output_type": "stream",
     "text": [
      "1.6484375\n",
      "interaciones necesarias para convergencia 4\n"
     ]
    },
    {
     "data": {
      "text/plain": [
       "[]"
      ]
     },
     "execution_count": 4,
     "metadata": {},
     "output_type": "execute_result"
    },
    {
     "data": {
      "image/png": "[encoded data removed]",
      "text/plain": [
       "<Figure size 432x288 with 1 Axes>"
      ]
     },
     "metadata": {
      "needs_background": "light"
     },
     "output_type": "display_data"
    }
   ],
   "source": [
    "import matplotlib.pyplot as plt \n",
    "\n",
    "x = 0.5 \n",
    "Sout = 0.5 ; t = 0 ; n = 1 ; exponencial = 1\n",
    "tol = 0.01 #con esta tolerancia ya da\n",
    "# elegi Sout = 0.5 para que siempre entre al while\n",
    "Error = []\n",
    "Iteracion = []\n",
    "iteracion = 0\n",
    "\n",
    "while exponencial - Sout > tol:\n",
    "    Sout = exponencial\n",
    "    t += 1\n",
    "    n = n * t\n",
    "    exponencial += (x**t)/n\n",
    "    error = ((exponencial - Sout)/Sout) * 100\n",
    "    Error.append(error)\n",
    "    iteracion += 1\n",
    "    Iteracion.append(iteracion)\n",
    "    \n",
    "print(exponencial)\n",
    "print('interaciones necesarias para convergencia', Iteracion[-1])\n",
    "plt.plot(Iteracion,Error)\n",
    "plt.plot()"
   ]
  },
  {
   "cell_type": "markdown",
   "id": "sensitive-motivation",
   "metadata": {
    "id": "looking-spectacular"
   },
   "source": [
    "¿ podés determinar cómo evoluciona el error ? Defini el error relativo.\n",
    "¿ Y el grafiquito ? Listo\n",
    "¿ cuántas iteraciones necesitas para converger ? Ya agrege una forma de contar iteraciones y presentarlas\n",
    "¿ qué pasa si exponencial - sount < 0 ? Esto nunca podria pasar, cada vez que entro escribo Sout = exponencial , y en el mismo for escribo exponencial +=  (x**t)/n por lo tanto la resta nunca puede dar un numero menor a 0."
   ]
  }
 ],
 "metadata": {
  "colab": {
   "name": "Ejer2.ipynb",
   "provenance": []
  },
  "kernelspec": {
   "display_name": "Python 3",
   "language": "python",
   "name": "python3"
  },
  "language_info": {
   "codemirror_mode": {
    "name": "ipython",
    "version": 3
   },
   "file_extension": ".py",
   "mimetype": "text/x-python",
   "name": "python",
   "nbconvert_exporter": "python",
   "pygments_lexer": "ipython3",
   "version": "3.9.2"
  }
 },
 "nbformat": 4,
 "nbformat_minor": 5
}
