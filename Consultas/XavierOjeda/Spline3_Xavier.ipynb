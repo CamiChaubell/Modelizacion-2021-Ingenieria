{
 "cells": [
  {
   "cell_type": "code",
   "execution_count": 18,
   "metadata": {
    "colab": {
     "base_uri": "https://localhost:8080/",
     "height": 652
    },
    "id": "0K3nQMVA71IZ",
    "outputId": "e3ec343c-8fbd-4b51-f0cc-139200e79db2"
   },
   "outputs": [
    {
     "name": "stdout",
     "output_type": "stream",
     "text": [
      "[ -8.67692308 -44.61538462 115.13846154 -63.93846154   4.61538462\n",
      "  -2.52307692] [  0.         -13.01538462 -79.93846154  92.76923077  -3.13846154\n",
      "   3.78461538   0.        ] [ -1.83076923  -8.33846154 -54.81538462 -48.4         -3.58461538\n",
      "  -3.26153846] [70. 68. 55. 22. 13. 11.]\n",
      "[[ -8.67692308   0.          -1.83076923  70.        ]\n",
      " [-44.61538462 -13.01538462  -8.33846154  68.        ]\n",
      " [115.13846154 -79.93846154 -54.81538462  55.        ]\n",
      " [-63.93846154  92.76923077 -48.4         22.        ]\n",
      " [  4.61538462  -3.13846154  -3.58461538  13.        ]\n",
      " [ -2.52307692   3.78461538  -3.26153846  11.        ]]\n"
     ]
    },
    {
     "data": {
      "image/png": "[encoded data removed]",
      "text/plain": [
       "<Figure size 432x288 with 1 Axes>"
      ]
     },
     "metadata": {
      "needs_background": "light"
     },
     "output_type": "display_data"
    }
   ],
   "source": [
    "import numpy as np\n",
    "import matplotlib.pyplot as plt\n",
    "import copy\n",
    "\n",
    "Z = np.array([0.0, 0.5, 1.0, 1.5, 2.0, 2.5, 3.0])\n",
    "T = np.array([70.0, 68.0, 55.0, 22.0,13.0,11.0,10.0])\n",
    "\n",
    "n = len(Z)\n",
    "H = [] \n",
    "D = np.zeros(n)\n",
    "\n",
    "\n",
    "for i in range (n-1):\n",
    "  H.append(Z[i+1]-Z[i])\n",
    "  \n",
    "matriz = np.zeros([n,n])\n",
    "\n",
    "for i in range (1,n-1):   #ojo que la posicion M[n] no existe \n",
    "  matriz[i,i-1] = H[i-1]\n",
    "  matriz[i,i] = 2 * (H[i] + H[i-1])\n",
    "  matriz[i,i+1] = H[i]\n",
    "  D[i] = (T[i+1]-T[i])/H[i]-(T[i]-T[i-1])/H[i-1] #Si arranca en 0 , cuenta desde atras los H[-1]  ,\n",
    "\n",
    "D[0] = 0\n",
    "D[n-1] = 0\n",
    "\n",
    "D = D * 3  \n",
    "matriz[0,0] = 1\n",
    "matriz[n-1,n-1] = 1\n",
    "\n",
    "b = np.linalg.solve(matriz,D)\n",
    "\n",
    "d = np.zeros(n-1)\n",
    "a = np.zeros(n-1)\n",
    "c = np.zeros(n-1)\n",
    "\n",
    "# Sol = d + a() + b() + c ()\n",
    "\n",
    "for i in range (n-1):\n",
    "    d[i] = T[i]\n",
    "    a[i] = (1/3) * (b[i+1]-b[i])/H[i]\n",
    "    c[i] = ((T[i+1]-T[i])/H[i]) - b[i] * H[i] - (H[i]**2) * a[i]\n",
    "\n",
    "print(a,b,c,d)\n",
    "P=np.append(a,b[0:n-1])\n",
    "P=np.append(P,c[0:n-1])\n",
    "P=np.append(P,d[0:n-1])\n",
    "PP=(P.reshape(4,n-1)).T\n",
    "print(PP)\n",
    "\n",
    "for i in range (n-1):\n",
    "    x = np.linspace(Z[i],Z[i+1],100)\n",
    "    y = np.polyval(PP[i] , x - Z[i])\n",
    "    plt.plot(x,y)\n",
    "\n",
    "plt.scatter(Z,T)\n",
    "plt.show()  \n",
    "\n"
   ]
  },
  {
   "cell_type": "code",
   "execution_count": null,
   "metadata": {
    "colab": {
     "base_uri": "https://localhost:8080/"
    },
    "id": "BtSnIFON8bVI",
    "outputId": "de550ad0-edbe-4805-db44-ad80ca99acae"
   },
   "outputs": [],
   "source": [
    "A = np.array([[1,0],[3,4]])\n",
    "print(A)\n",
    "L = np.transpose(A)\n",
    "print(L)"
   ]
  },
  {
   "cell_type": "code",
   "execution_count": null,
   "metadata": {
    "id": "A5PWikMIhL4b"
   },
   "outputs": [],
   "source": []
  }
 ],
 "metadata": {
  "colab": {
   "collapsed_sections": [],
   "name": "Spline3.ipynb",
   "provenance": []
  },
  "kernelspec": {
   "display_name": "Python 3",
   "language": "python",
   "name": "python3"
  },
  "language_info": {
   "codemirror_mode": {
    "name": "ipython",
    "version": 3
   },
   "file_extension": ".py",
   "mimetype": "text/x-python",
   "name": "python",
   "nbconvert_exporter": "python",
   "pygments_lexer": "ipython3",
   "version": "3.8.5"
  }
 },
 "nbformat": 4,
 "nbformat_minor": 4
}
