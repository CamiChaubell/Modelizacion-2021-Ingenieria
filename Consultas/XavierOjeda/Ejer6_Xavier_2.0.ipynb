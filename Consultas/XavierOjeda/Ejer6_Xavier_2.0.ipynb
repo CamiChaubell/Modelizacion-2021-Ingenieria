{
 "cells": [
  {
   "cell_type": "code",
   "execution_count": 1,
   "id": "trained-hopkins",
   "metadata": {},
   "outputs": [],
   "source": [
    "import numpy as np\n",
    "import matplotlib.pyplot as plt\n",
    "\n",
    "\n",
    "rdi = [0,30]\n",
    "# rdi = rango de integracion\n",
    "f = lambda z: 200 * (z/(5+z)) * np.exp((-2*z)/300)\n"
   ]
  },
  {
   "cell_type": "code",
   "execution_count": 2,
   "id": "attended-eugene",
   "metadata": {},
   "outputs": [],
   "source": [
    "def trapecios (rdi,f,x):\n",
    "    #x = np.linspace (int(rdi[0]),int(rdi[1]),300)\n",
    "    #x = np.arange(0,30.5,0.5)\n",
    "    n = len(x)\n",
    "    alfa = f(rdi[0])\n",
    "    for i in range (1,n):    \n",
    "        alfa += 2 * f(x[i])\n",
    "    \n",
    "    I = ((rdi[1]-rdi[0])/(n))*((f(rdi[1])+alfa)/2)\n",
    "\n",
    "    return I"
   ]
  },
  {
   "cell_type": "code",
   "execution_count": 3,
   "id": "mechanical-sleep",
   "metadata": {},
   "outputs": [],
   "source": [
    "\n",
    "def Simpson (rdi,f,x):\n",
    "    #x = np.linspace (int(rdi[0]),int(rdi[1]),300)\n",
    "    #x = np.arange(0,30.5,0.5)\n",
    "    n = len(x)\n",
    "    alfa = f(rdi[0])\n",
    "\n",
    "    for i in range (1,n):    \n",
    "        if (i % 2 == 0):  #verifico si el x esta en una posicion par \n",
    "             alfa += 4 * f(x[i])\n",
    "        else:\n",
    "             alfa += 2 * f(x[i])\n",
    "    \n",
    "    I = ((rdi[1]-rdi[0])/(n-1))*((f(rdi[1])+alfa)/3)\n",
    "    \n",
    "    return I\n",
    "\n"
   ]
  },
  {
   "cell_type": "code",
   "execution_count": 10,
   "id": "systematic-luxembourg",
   "metadata": {},
   "outputs": [
    {
     "data": {
      "image/png": "[encoded data removed]",
      "text/plain": [
       "<Figure size 432x288 with 1 Axes>"
      ]
     },
     "metadata": {
      "needs_background": "light"
     },
     "output_type": "display_data"
    }
   ],
   "source": [
    "h = []\n",
    "k = []\n",
    "t = np.logspace(1,4,10).astype(int)\n",
    "\n",
    "for i in t:\n",
    "    x = np.linspace(rdi[0],rdi[1],i)\n",
    "    h.append(Simpson(rdi,f,x))\n",
    "    k.append(trapecios(rdi,f,x))\n",
    "\n",
    "plt.semilogx(t,h,'r', label ='Metodo de Simpson')\n",
    "plt.semilogx(t,k,'b', label = 'Metodo de trapecios')\n",
    "plt.legend(loc = 'center right')\n",
    "plt.ylabel('Valor de la integral')\n",
    "plt.xlabel('numero de intervalos')\n",
    "plt.show()"
   ]
  },
  {
   "cell_type": "code",
   "execution_count": 7,
   "id": "charming-fluid",
   "metadata": {},
   "outputs": [
    {
     "name": "stdout",
     "output_type": "stream",
     "text": [
      "16.81794987276228\n"
     ]
    }
   ],
   "source": [
    "# punto efectivo \n",
    "\n",
    "x = np.linspace (int(rdi[0]),int(rdi[1]),300)\n",
    "I = Simpson(rdi,f,x)\n",
    "J = lambda z: (1/I) * z * 200 * (z/(5+z)) * np.exp((-2*z)/300)\n",
    "Fuerza = Simpson(rdi,J,x)\n",
    "print(Fuerza)"
   ]
  },
  {
   "cell_type": "code",
   "execution_count": null,
   "id": "directed-general",
   "metadata": {},
   "outputs": [],
   "source": []
  }
 ],
 "metadata": {
  "kernelspec": {
   "display_name": "Python 3",
   "language": "python",
   "name": "python3"
  },
  "language_info": {
   "codemirror_mode": {
    "name": "ipython",
    "version": 3
   },
   "file_extension": ".py",
   "mimetype": "text/x-python",
   "name": "python",
   "nbconvert_exporter": "python",
   "pygments_lexer": "ipython3",
   "version": "3.9.2"
  }
 },
 "nbformat": 4,
 "nbformat_minor": 5
}
