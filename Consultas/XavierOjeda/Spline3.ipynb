{
  "nbformat": 4,
  "nbformat_minor": 0,
  "metadata": {
    "colab": {
      "name": "Spline3.ipynb",
      "provenance": [],
      "collapsed_sections": []
    },
    "kernelspec": {
      "name": "python3",
      "display_name": "Python 3"
    },
    "language_info": {
      "name": "python"
    }
  },
  "cells": [
    {
      "cell_type": "code",
      "metadata": {
        "colab": {
          "base_uri": "https://localhost:8080/",
          "height": 652
        },
        "id": "0K3nQMVA71IZ",
        "outputId": "e3ec343c-8fbd-4b51-f0cc-139200e79db2"
      },
      "source": [
        "import numpy as np\n",
        "import matplotlib.pyplot as plt\n",
        "\n",
        "Z = np.array([0.0, 0.5, 1.0, 1.5, 2.0, 2.5, 3.0])\n",
        "T = np.array([70.0, 68.0, 55.0, 22.0,13.0,11.0,10.0])\n",
        "\n",
        "n = len(Z)\n",
        "H = [] \n",
        "D = np.zeros(n)\n",
        "\n",
        "\n",
        "for i in range (n-1):\n",
        "  H.append(Z[i+1]-Z[i])\n",
        "  \n",
        "\n",
        "\n",
        "matriz = np.zeros([n,n])\n",
        "\n",
        "for i in range (1,n-1):   #ojo que la posicion M[n] no existe \n",
        "  matriz[i,i-1] = H[i-1]\n",
        "  matriz[i,i] = 2 * (H[i] + H[i-1])\n",
        "  matriz[i,i+1] = H[i]\n",
        "  D[i] = (T[i+1]-T[i])/H[i]-(T[i]-T[i-1])/H[i-1] #Si arranca en 0 , cuenta desde atras los H[-1]  ,\n",
        "\n",
        "D[0] = 0\n",
        "D[n-1] = 0\n",
        "\n",
        "D = D * 3  \n",
        "matriz[0,0] = 1\n",
        "matriz[n-1,n-1] = 1\n",
        "\n",
        "b = np.linalg.solve(matriz,D)\n",
        "\n",
        "d = np.zeros(n-1)\n",
        "a = np.zeros(n-1)\n",
        "c = np.zeros(n-1)\n",
        "\n",
        "# Sol = d + a() + b() + c ()\n",
        "\n",
        "for i in range (n-1):\n",
        "    d[i] = T[i]\n",
        "    a[i] = (1/3) * (b[i+1]-b[i])/H[i]\n",
        "    c[i] = ((T[i+1]-T[i])/H[i]) - b[i] * H[i] - (H[i]**2) * a[i]\n",
        "\n",
        "\n",
        "T = (a,b,c,d)\n",
        "P = np.transpose(T) # no estan bien las dimensiones, transpose no esta funcionando pero no se porque y me devuelve una matriz con 4 filas de 6 columnas y no al revez\n",
        "\n",
        "print(T)\n",
        "print(P)\n",
        "\n",
        "for i in range (n-1):\n",
        "    x = np.linspace(Z[i],Z[i+1],100)\n",
        "    y = np.polyval(P[i] , x - Z[i])\n",
        "    plt.plot(x,y)\n",
        "\n",
        "\n",
        "plt.scatter(Z,T)\n",
        "plt.show()  \n",
        "\n"
      ],
      "execution_count": null,
      "outputs": [
        {
          "output_type": "stream",
          "text": [
            "[[array([ -8.67692308, -44.61538462, 115.13846154, -63.93846154,\n",
            "         4.61538462,  -2.52307692])]\n",
            " [array([  0.        , -13.01538462, -79.93846154,  92.76923077,\n",
            "        -3.13846154,   3.78461538,   0.        ])]\n",
            " [array([ -1.83076923,  -8.33846154, -54.81538462, -48.4       ,\n",
            "        -3.58461538,  -3.26153846])]\n",
            " [array([70., 68., 55., 22., 13., 11.])]]\n",
            "[[array([ -8.67692308, -44.61538462, 115.13846154, -63.93846154,\n",
            "         4.61538462,  -2.52307692])\n",
            "  array([  0.        , -13.01538462, -79.93846154,  92.76923077,\n",
            "        -3.13846154,   3.78461538,   0.        ])\n",
            "  array([ -1.83076923,  -8.33846154, -54.81538462, -48.4       ,\n",
            "        -3.58461538,  -3.26153846])\n",
            "  array([70., 68., 55., 22., 13., 11.])]]\n"
          ],
          "name": "stdout"
        },
        {
          "output_type": "stream",
          "text": [
            "/usr/local/lib/python3.7/dist-packages/ipykernel_launcher.py:46: VisibleDeprecationWarning: Creating an ndarray from ragged nested sequences (which is a list-or-tuple of lists-or-tuples-or ndarrays with different lengths or shapes) is deprecated. If you meant to do this, you must specify 'dtype=object' when creating the ndarray\n"
          ],
          "name": "stderr"
        },
        {
          "output_type": "error",
          "ename": "ValueError",
          "evalue": "ignored",
          "traceback": [
            "\u001b[0;31m---------------------------------------------------------------------------\u001b[0m",
            "\u001b[0;31mValueError\u001b[0m                                Traceback (most recent call last)",
            "\u001b[0;32m<ipython-input-6-f050e82de9b8>\u001b[0m in \u001b[0;36m<module>\u001b[0;34m()\u001b[0m\n\u001b[1;32m     52\u001b[0m \u001b[0;32mfor\u001b[0m \u001b[0mi\u001b[0m \u001b[0;32min\u001b[0m \u001b[0mrange\u001b[0m \u001b[0;34m(\u001b[0m\u001b[0mn\u001b[0m\u001b[0;34m-\u001b[0m\u001b[0;36m1\u001b[0m\u001b[0;34m)\u001b[0m\u001b[0;34m:\u001b[0m\u001b[0;34m\u001b[0m\u001b[0;34m\u001b[0m\u001b[0m\n\u001b[1;32m     53\u001b[0m     \u001b[0mx\u001b[0m \u001b[0;34m=\u001b[0m \u001b[0mnp\u001b[0m\u001b[0;34m.\u001b[0m\u001b[0mlinspace\u001b[0m\u001b[0;34m(\u001b[0m\u001b[0mZ\u001b[0m\u001b[0;34m[\u001b[0m\u001b[0mi\u001b[0m\u001b[0;34m]\u001b[0m\u001b[0;34m,\u001b[0m\u001b[0mZ\u001b[0m\u001b[0;34m[\u001b[0m\u001b[0mi\u001b[0m\u001b[0;34m+\u001b[0m\u001b[0;36m1\u001b[0m\u001b[0;34m]\u001b[0m\u001b[0;34m,\u001b[0m\u001b[0;36m100\u001b[0m\u001b[0;34m)\u001b[0m\u001b[0;34m\u001b[0m\u001b[0;34m\u001b[0m\u001b[0m\n\u001b[0;32m---> 54\u001b[0;31m     \u001b[0my\u001b[0m \u001b[0;34m=\u001b[0m \u001b[0mnp\u001b[0m\u001b[0;34m.\u001b[0m\u001b[0mpolyval\u001b[0m\u001b[0;34m(\u001b[0m\u001b[0mP\u001b[0m\u001b[0;34m[\u001b[0m\u001b[0mi\u001b[0m\u001b[0;34m]\u001b[0m \u001b[0;34m,\u001b[0m \u001b[0mx\u001b[0m \u001b[0;34m-\u001b[0m \u001b[0mZ\u001b[0m\u001b[0;34m[\u001b[0m\u001b[0mi\u001b[0m\u001b[0;34m]\u001b[0m\u001b[0;34m)\u001b[0m\u001b[0;34m\u001b[0m\u001b[0;34m\u001b[0m\u001b[0m\n\u001b[0m\u001b[1;32m     55\u001b[0m     \u001b[0mplt\u001b[0m\u001b[0;34m.\u001b[0m\u001b[0mplot\u001b[0m\u001b[0;34m(\u001b[0m\u001b[0mx\u001b[0m\u001b[0;34m,\u001b[0m\u001b[0my\u001b[0m\u001b[0;34m)\u001b[0m\u001b[0;34m\u001b[0m\u001b[0;34m\u001b[0m\u001b[0m\n\u001b[1;32m     56\u001b[0m \u001b[0;34m\u001b[0m\u001b[0m\n",
            "\u001b[0;32m<__array_function__ internals>\u001b[0m in \u001b[0;36mpolyval\u001b[0;34m(*args, **kwargs)\u001b[0m\n",
            "\u001b[0;32m/usr/local/lib/python3.7/dist-packages/numpy/lib/polynomial.py\u001b[0m in \u001b[0;36mpolyval\u001b[0;34m(p, x)\u001b[0m\n\u001b[1;32m    732\u001b[0m         \u001b[0my\u001b[0m \u001b[0;34m=\u001b[0m \u001b[0mNX\u001b[0m\u001b[0;34m.\u001b[0m\u001b[0mzeros_like\u001b[0m\u001b[0;34m(\u001b[0m\u001b[0mx\u001b[0m\u001b[0;34m)\u001b[0m\u001b[0;34m\u001b[0m\u001b[0;34m\u001b[0m\u001b[0m\n\u001b[1;32m    733\u001b[0m     \u001b[0;32mfor\u001b[0m \u001b[0mi\u001b[0m \u001b[0;32min\u001b[0m \u001b[0mrange\u001b[0m\u001b[0;34m(\u001b[0m\u001b[0mlen\u001b[0m\u001b[0;34m(\u001b[0m\u001b[0mp\u001b[0m\u001b[0;34m)\u001b[0m\u001b[0;34m)\u001b[0m\u001b[0;34m:\u001b[0m\u001b[0;34m\u001b[0m\u001b[0;34m\u001b[0m\u001b[0m\n\u001b[0;32m--> 734\u001b[0;31m         \u001b[0my\u001b[0m \u001b[0;34m=\u001b[0m \u001b[0my\u001b[0m \u001b[0;34m*\u001b[0m \u001b[0mx\u001b[0m \u001b[0;34m+\u001b[0m \u001b[0mp\u001b[0m\u001b[0;34m[\u001b[0m\u001b[0mi\u001b[0m\u001b[0;34m]\u001b[0m\u001b[0;34m\u001b[0m\u001b[0;34m\u001b[0m\u001b[0m\n\u001b[0m\u001b[1;32m    735\u001b[0m     \u001b[0;32mreturn\u001b[0m \u001b[0my\u001b[0m\u001b[0;34m\u001b[0m\u001b[0;34m\u001b[0m\u001b[0m\n\u001b[1;32m    736\u001b[0m \u001b[0;34m\u001b[0m\u001b[0m\n",
            "\u001b[0;31mValueError\u001b[0m: operands could not be broadcast together with shapes (100,) (6,) "
          ]
        }
      ]
    },
    {
      "cell_type": "code",
      "metadata": {
        "id": "BtSnIFON8bVI",
        "colab": {
          "base_uri": "https://localhost:8080/"
        },
        "outputId": "de550ad0-edbe-4805-db44-ad80ca99acae"
      },
      "source": [
        "A = np.array([[1,0],[3,4]])\n",
        "print(A)\n",
        "L = np.transpose(A)\n",
        "print(L)"
      ],
      "execution_count": null,
      "outputs": [
        {
          "output_type": "stream",
          "text": [
            "[[1 0]\n",
            " [3 4]]\n",
            "[[1 3]\n",
            " [0 4]]\n"
          ],
          "name": "stdout"
        }
      ]
    },
    {
      "cell_type": "code",
      "metadata": {
        "id": "A5PWikMIhL4b"
      },
      "source": [
        ""
      ],
      "execution_count": null,
      "outputs": []
    }
  ]
}