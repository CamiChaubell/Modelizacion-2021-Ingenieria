{
 "cells": [
  {
   "cell_type": "code",
   "execution_count": 1,
   "metadata": {
    "colab": {
     "base_uri": "https://localhost:8080/",
     "height": 652
    },
    "id": "0K3nQMVA71IZ",
    "outputId": "e3ec343c-8fbd-4b51-f0cc-139200e79db2"
   },
   "outputs": [],
   "source": [
    "#MDF_comment fijate que esta parte del código sí vale la pena ejecutarla en otra celda. cada vez que \n",
    "# ejecutes la celda volves a importar numpy y matplotlib. Esto te puede sacar algo de tiempo cada \n",
    "# vez que ejecutas el programa. Fijate que es una de las ventajas de la ejecucion por porción\n",
    "# del jupyter notebook: no neceitas volver a ejecutar partes que no son necesarias. \n",
    "import numpy as np\n",
    "import matplotlib.pyplot as plt\n",
    "# yo lo separo para que quede.\n",
    "\n",
    "#MDF la idea de esto era que los datos los leamos del archivo de datos.\n",
    "#MDF la definición tampoco necesitas ejecutarla cada vez que probas el código. \n",
    "Z = np.array([0.0, 0.5, 1.0, 1.5, 2.0, 2.5, 3.0])\n",
    "T = np.array([70.0, 68.0, 55.0, 22.0,13.0,11.0,10.0])\n",
    "#MDF_Comment lo mismo con esto.\n",
    "n = len(Z)\n",
    "H = [] \n",
    "D = np.zeros(n)\n",
    "#MDF_COMMENT esto también pasa lo mismo.\n",
    "for i in range (n-1):\n",
    "  H.append(Z[i+1]-Z[i])\n",
    "\n",
    "#MDF_comment y en realidad hasta acá, sólo tenes definiciones, puede estar separado de la parte de abajo\n",
    "#MDF_comment donde tenes el código que tenes que debuguear.\n",
    "matriz = np.zeros([n,n])"
   ]
  },
  {
   "cell_type": "markdown",
   "metadata": {},
   "source": [
    "Como te digo en los comentarios, las definiciones pueden estar separadas de lo que viene abajo, que es metodológico. cuando terminás todo podes volver a juntarlo."
   ]
  },
  {
   "cell_type": "code",
   "execution_count": 2,
   "metadata": {
    "colab": {
     "base_uri": "https://localhost:8080/",
     "height": 652
    },
    "id": "0K3nQMVA71IZ",
    "outputId": "e3ec343c-8fbd-4b51-f0cc-139200e79db2"
   },
   "outputs": [],
   "source": [
    "for i in range (1,n-1):   #ojo que la posicion M[n] no existe \n",
    "  matriz[i,i-1] = H[i-1]\n",
    "  matriz[i,i] = 2 * (H[i] + H[i-1])\n",
    "  matriz[i,i+1] = H[i]\n",
    "  D[i] = (T[i+1]-T[i])/H[i]-(T[i]-T[i-1])/H[i-1] #Si arranca en 0 , cuenta desde atras los H[-1]  ,\n",
    "#MDF_Comment y vamos a dejar esto separado que es lo que queremos revisar\n",
    "\n",
    "D[0] = 0\n",
    "D[n-1] = 0\n",
    "\n",
    "D = D * 3  \n",
    "matriz[0,0] = 1\n",
    "matriz[n-1,n-1] = 1"
   ]
  },
  {
   "cell_type": "code",
   "execution_count": 3,
   "metadata": {},
   "outputs": [
    {
     "data": {
      "text/plain": [
       "array([[1. , 0. , 0. , 0. , 0. , 0. , 0. ],\n",
       "       [0.5, 2. , 0.5, 0. , 0. , 0. , 0. ],\n",
       "       [0. , 0.5, 2. , 0.5, 0. , 0. , 0. ],\n",
       "       [0. , 0. , 0.5, 2. , 0.5, 0. , 0. ],\n",
       "       [0. , 0. , 0. , 0.5, 2. , 0.5, 0. ],\n",
       "       [0. , 0. , 0. , 0. , 0.5, 2. , 0.5],\n",
       "       [0. , 0. , 0. , 0. , 0. , 0. , 1. ]])"
      ]
     },
     "execution_count": 3,
     "metadata": {},
     "output_type": "execute_result"
    }
   ],
   "source": [
    "matriz"
   ]
  },
  {
   "cell_type": "code",
   "execution_count": 4,
   "metadata": {},
   "outputs": [
    {
     "data": {
      "text/plain": [
       "array([   0.,  -66., -120.,  144.,   42.,    6.,    0.])"
      ]
     },
     "execution_count": 4,
     "metadata": {},
     "output_type": "execute_result"
    }
   ],
   "source": [
    "D"
   ]
  },
  {
   "cell_type": "code",
   "execution_count": 5,
   "metadata": {
    "colab": {
     "base_uri": "https://localhost:8080/",
     "height": 652
    },
    "id": "0K3nQMVA71IZ",
    "outputId": "e3ec343c-8fbd-4b51-f0cc-139200e79db2"
   },
   "outputs": [],
   "source": [
    "b = np.linalg.solve(matriz,D)\n",
    "\n",
    "d = np.zeros(n-1)\n",
    "a = np.zeros(n-1)\n",
    "c = np.zeros(n-1)\n",
    "\n",
    "# Sol = d + a() + b() + c ()\n",
    "\n",
    "for i in range (n-1):\n",
    "    d[i] = T[i]\n",
    "    a[i] = (1/3) * (b[i+1]-b[i])/H[i]\n",
    "    c[i] = ((T[i+1]-T[i])/H[i]) - b[i] * H[i] - (H[i]**2) * a[i]"
   ]
  },
  {
   "cell_type": "markdown",
   "metadata": {},
   "source": [
    "``` python\n",
    "T = (a,b,c,d)\n",
    "P = np.transpose(T) # no estan bien las dimensiones, transpose no esta funcionando pero no se porque \n",
    "                    #y me devuelve una matriz con 4 filas de 6 columnas y no al revez\n",
    "```\n",
    "\n",
    "### Primer problema\n",
    "La variable T está pisando tu variable T original con los valores de temperatura\n",
    "\n",
    "### segundo problema\n",
    "estas definiendo T como un _tuple_ y no como una lista o np array. por lo tanto, el transpose no está haciendo lo que todos esperaríamos. \n",
    "\n",
    "### tercer problema\n",
    "El problema con la función transpose es que funciona como lo estas pensando en los objetos de dos dimensiones. en este caso `T` es un objeto de una dimensión (un tupple de np arrays), por lo que transpose no le hace nada. fijate el ejemplo en clase de introducción para el caso de 1D.\n",
    "La forma correcta de hacerlo es con `reshape`.\n",
    "\n",
    "Si tenes "
   ]
  },
  {
   "cell_type": "code",
   "execution_count": 6,
   "metadata": {},
   "outputs": [],
   "source": [
    "# arrancamos con definir bien la T\n",
    "# T = [a, b, c, d]\n",
    "P = np.vstack([a , b[:-1], c, d]).transpose()\n",
    "#MDF_COMMENT vstack te apila los vectres de 1 d a lo large de la dimensión 0 (las filas)"
   ]
  },
  {
   "cell_type": "markdown",
   "metadata": {},
   "source": [
    "Y en realidad por el código que tenes abajo no necesitas transponer"
   ]
  },
  {
   "cell_type": "code",
   "execution_count": 7,
   "metadata": {
    "colab": {
     "base_uri": "https://localhost:8080/",
     "height": 652
    },
    "id": "0K3nQMVA71IZ",
    "outputId": "e3ec343c-8fbd-4b51-f0cc-139200e79db2"
   },
   "outputs": [
    {
     "data": {
      "image/png": "[encoded data removed]",
      "text/plain": [
       "<Figure size 432x288 with 1 Axes>"
      ]
     },
     "metadata": {
      "needs_background": "light"
     },
     "output_type": "display_data"
    }
   ],
   "source": [
    "#mdf_comment print(TT)\n",
    "#mdf_comment print(P)\n",
    "\n",
    "for i in range (n-1):\n",
    "    x = np.linspace(Z[i],Z[i+1],100)\n",
    "    y = np.polyval(P[i] , x - Z[i])\n",
    "    plt.plot(x,y)\n",
    "\n",
    "\n",
    "plt.scatter(Z,T)\n",
    "plt.show()  "
   ]
  },
  {
   "cell_type": "code",
   "execution_count": 8,
   "metadata": {
    "colab": {
     "base_uri": "https://localhost:8080/"
    },
    "id": "BtSnIFON8bVI",
    "outputId": "de550ad0-edbe-4805-db44-ad80ca99acae"
   },
   "outputs": [
    {
     "name": "stdout",
     "output_type": "stream",
     "text": [
      "[[1 0]\n",
      " [3 4]]\n",
      "[[1 3]\n",
      " [0 4]]\n"
     ]
    }
   ],
   "source": [
    "A = np.array([[1,0],[3,4]])\n",
    "print(A)\n",
    "L = np.transpose(A)\n",
    "print(L)"
   ]
  },
  {
   "cell_type": "code",
   "execution_count": null,
   "metadata": {
    "id": "A5PWikMIhL4b"
   },
   "outputs": [],
   "source": []
  }
 ],
 "metadata": {
  "colab": {
   "collapsed_sections": [],
   "name": "Spline3.ipynb",
   "provenance": []
  },
  "kernelspec": {
   "display_name": "Python 3",
   "language": "python",
   "name": "python3"
  },
  "language_info": {
   "codemirror_mode": {
    "name": "ipython",
    "version": 3
   },
   "file_extension": ".py",
   "mimetype": "text/x-python",
   "name": "python",
   "nbconvert_exporter": "python",
   "pygments_lexer": "ipython3",
   "version": "3.6.10"
  }
 },
 "nbformat": 4,
 "nbformat_minor": 4
}
