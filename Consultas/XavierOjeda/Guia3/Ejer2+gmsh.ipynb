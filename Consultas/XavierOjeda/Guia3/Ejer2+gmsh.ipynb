{
 "cells": [
  {
   "cell_type": "code",
   "execution_count": 1,
   "id": "naval-asbestos",
   "metadata": {},
   "outputs": [],
   "source": [
    "import numpy as np\n",
    "import gmsh\n",
    "\n",
    "gmsh.initialize() #inicia Gmsh\n",
    "gmsh.model.add('PROBLEMA2') #genera el modelo\n",
    "\n",
    "\n",
    "# Generado de la figura\n",
    "L1 = 10\n",
    "L2 = 5\n",
    "r = 1\n",
    "#Lc = 20 #caso del ejercicio\n",
    "Lc = 1\n",
    "Lcr = 1  #Refina aun mas el mallado cerca del circulo\n",
    "\n",
    "#chapa\n",
    "p1 = gmsh.model.geo.addPoint(0, 0, 0, Lc)\n",
    "p2 = gmsh.model.geo.addPoint(0, L2, 0, Lc) \n",
    "p3 = gmsh.model.geo.addPoint(L1, L2, 0, Lc) \n",
    "p4 = gmsh.model.geo.addPoint(L1, 0, 0, Lc)\n",
    "\n",
    "#circulo\n",
    "p5 = gmsh.model.geo.addPoint(0,r,0,Lcr)\n",
    "p6 = gmsh.model.geo.addPoint(r,0,0,Lcr)\n",
    "\n",
    "\n",
    "l1 = gmsh.model.geo.addLine(p5, p2)\n",
    "l2 = gmsh.model.geo.addLine(p2, p3)\n",
    "l3 = gmsh.model.geo.addLine(p3, p4)\n",
    "l4 = gmsh.model.geo.addLine(p4, p6)\n",
    "\n",
    "semi1 = gmsh.model.geo.addCircleArc(p5,p1 ,p6) \n",
    "\n",
    "\n",
    "C1 = gmsh.model.geo.addCurveLoop([l1, l2, l3, l4])\n",
    "C2 = gmsh.model.geo.addCurveLoop([semi1])\n",
    "\n",
    "S1 = gmsh.model.geo.addPlaneSurface([C1,C2]) #asi se genera la superifice descontando el circulo\n",
    "\n",
    "\n",
    "#Generado de las condiciones de contorno\n",
    "\n",
    "Empotradox = gmsh.model.addPhysicalGroup(1, [l1]) #1 es para curva o linea!\n",
    "gmsh.model.setPhysicalName(1,Empotradox,'Empotradox')\n",
    "\n",
    "\n",
    "Empotradoy = gmsh.model.addPhysicalGroup(1, [l4]) #1 es para curva o linea!\n",
    "gmsh.model.setPhysicalName(1,Empotradoy,'Empotradoy')\n",
    "\n",
    "\n",
    "Traccionado = gmsh.model.addPhysicalGroup(1, [l3])\n",
    "gmsh.model.setPhysicalName(1,Traccionado,'Traccionado') #esta funcion le pone nombre a todos los nodos aca\n",
    "\n",
    "\n",
    "Superficie = gmsh.model.addPhysicalGroup(2,[S1]) #2 es para superficies!\n",
    "gmsh.model.setPhysicalName(2,Superficie, 'Superficie')\n",
    "\n",
    "\n",
    "gmsh.model.geo.synchronize() #sincroniza lo que creamos con el modelo que creamos arriba\n",
    "gmsh.model.mesh.generate(2)"
   ]
  },
  {
   "cell_type": "code",
   "execution_count": 2,
   "id": "studied-prison",
   "metadata": {},
   "outputs": [],
   "source": [
    "NodeInfo = gmsh.model.mesh.get_nodes()\n",
    "NodeInfo[1].shape\n",
    "NumeroNodos = NodeInfo[0].shape[0]\n",
    "MN = NodeInfo[1].reshape(NumeroNodos , 3)\n",
    "\n",
    "\n",
    "ElementInfo = gmsh.model.mesh.get_elements()\n",
    "ETAGS, ELEMENTS = gmsh.model.mesh.get_elements_by_type(2)\n",
    "MC = ELEMENTS.reshape([ETAGS.shape[0],3])\n",
    "\n",
    "#Empotrados\n",
    "NodosIzquierda = gmsh.model.mesh.get_nodes_for_physical_group(1,Empotradox)\n",
    "A = NodosIzquierda[0].reshape(-1,1)\n",
    "B = np.zeros((len(A),1))\n",
    "MNEx = np.concatenate((A,B) , axis = 1)\n",
    "\n",
    "NodosAbajo = gmsh.model.mesh.get_nodes_for_physical_group(1,Empotradoy)\n",
    "J = NodosAbajo[0].reshape(-1,1)\n",
    "T = np.zeros((len(J),1))\n",
    "MNEy = np.concatenate((J,T) , axis = 1)\n",
    "\n",
    "\n",
    "MNE = np.concatenate((MNEx,MNEy) , axis = 0)\n",
    "\n",
    "#Traccionados"
   ]
  },
  {
   "cell_type": "code",
   "execution_count": 3,
   "id": "unlike-romania",
   "metadata": {},
   "outputs": [],
   "source": [
    "'''ya de entrada aca hay algo mal, la ultima longitud pese a ser un mallado sietrico es de 3 y no de 1 por lo tanto las fuerzas estan mal'''\n",
    "\n",
    "entityTraccionada = gmsh.model.getEntitiesForPhysicalGroup(1, Traccionado)\n",
    "Tgroup, Ttraccionada, Ltraccionada = gmsh.model.mesh.getElements(1, entityTraccionada[0])\n",
    "Ltraccionada = Ltraccionada[0].reshape(Ttraccionada[0].shape[0],2)"
   ]
  },
  {
   "cell_type": "code",
   "execution_count": 4,
   "id": "split-strip",
   "metadata": {},
   "outputs": [
    {
     "data": {
      "text/plain": [
       "array([[ 2, 18],\n",
       "       [18, 19],\n",
       "       [19, 20],\n",
       "       [20, 21],\n",
       "       [21,  3]], dtype=uint64)"
      ]
     },
     "execution_count": 4,
     "metadata": {},
     "output_type": "execute_result"
    }
   ],
   "source": [
    "Ltraccionada"
   ]
  },
  {
   "cell_type": "code",
   "execution_count": 5,
   "id": "featured-buyer",
   "metadata": {},
   "outputs": [
    {
     "data": {
      "text/plain": [
       "[array([5, 6, 7, 8, 9], dtype=uint64)]"
      ]
     },
     "execution_count": 5,
     "metadata": {},
     "output_type": "execute_result"
    }
   ],
   "source": [
    "Ttraccionada"
   ]
  },
  {
   "cell_type": "code",
   "execution_count": 6,
   "id": "severe-interaction",
   "metadata": {},
   "outputs": [],
   "source": [
    "gmsh.fltk.run()"
   ]
  },
  {
   "cell_type": "code",
   "execution_count": 7,
   "id": "valuable-vacation",
   "metadata": {},
   "outputs": [],
   "source": [
    "Longitudes = np.abs( MN[Ltraccionada[:,0],1] - MN[Ltraccionada[:,1],1] )"
   ]
  },
  {
   "cell_type": "code",
   "execution_count": 8,
   "id": "different-substance",
   "metadata": {},
   "outputs": [
    {
     "data": {
      "text/plain": [
       "array([80,  1,  2,  3,  4,  5,  6,  7,  8,  9, 10, 11, 12, 13, 14, 15, 16,\n",
       "       17, 18, 19, 20, 21, 22, 23, 24, 25, 26, 27, 28, 29, 30, 31, 32, 33,\n",
       "       34, 35, 36, 37, 38, 39, 40, 41, 42, 43, 44, 45, 46, 47, 48, 49, 50,\n",
       "       51, 52, 53, 54, 55, 56, 57, 58, 59, 60, 61, 62, 63, 64, 65, 66, 67,\n",
       "       68, 69, 70, 71, 72, 73, 74, 75, 76, 77, 78, 79], dtype=uint64)"
      ]
     },
     "execution_count": 8,
     "metadata": {},
     "output_type": "execute_result"
    }
   ],
   "source": [
    "NodeInfo[0]"
   ]
  },
  {
   "cell_type": "code",
   "execution_count": 9,
   "id": "postal-fabric",
   "metadata": {},
   "outputs": [
    {
     "data": {
      "text/plain": [
       "array([1., 1., 1., 1., 1.])"
      ]
     },
     "execution_count": 9,
     "metadata": {},
     "output_type": "execute_result"
    }
   ],
   "source": [
    "Longitudes"
   ]
  },
  {
   "cell_type": "code",
   "execution_count": 10,
   "id": "extra-beauty",
   "metadata": {},
   "outputs": [],
   "source": [
    "Longitudesesor = 1\n",
    "tension = 1000 #Pa\n",
    "\n",
    "NodosTraccionados = gmsh.model.mesh.get_nodes_for_physical_group(1, Traccionado)\n",
    "# MDF_COMMENT fijate que ya los tenes en Ltraccionada !"
   ]
  },
  {
   "cell_type": "code",
   "execution_count": 11,
   "id": "matched-cambodia",
   "metadata": {},
   "outputs": [
    {
     "data": {
      "text/plain": [
       "array([[ 2, 18],\n",
       "       [18, 19],\n",
       "       [19, 20],\n",
       "       [20, 21],\n",
       "       [21,  3]], dtype=uint64)"
      ]
     },
     "execution_count": 11,
     "metadata": {},
     "output_type": "execute_result"
    }
   ],
   "source": [
    "Ltraccionada"
   ]
  },
  {
   "cell_type": "code",
   "execution_count": 12,
   "id": "civic-participant",
   "metadata": {},
   "outputs": [],
   "source": [
    "MDFFuerzas = np.zeros((2*NumeroNodos,1))"
   ]
  },
  {
   "cell_type": "code",
   "execution_count": 13,
   "id": "alert-fashion",
   "metadata": {},
   "outputs": [],
   "source": [
    "MDFDeslaza = np.zeros((2*NumeroNodos,1))"
   ]
  },
  {
   "cell_type": "code",
   "execution_count": 14,
   "id": "thrown-fabric",
   "metadata": {},
   "outputs": [],
   "source": [
    "espesor = 1"
   ]
  },
  {
   "cell_type": "code",
   "execution_count": 15,
   "id": "atmospheric-chicago",
   "metadata": {},
   "outputs": [
    {
     "data": {
      "text/plain": [
       "80"
      ]
     },
     "execution_count": 15,
     "metadata": {},
     "output_type": "execute_result"
    }
   ],
   "source": [
    "NumeroNodos"
   ]
  },
  {
   "cell_type": "code",
   "execution_count": 16,
   "id": "seventh-shade",
   "metadata": {},
   "outputs": [],
   "source": [
    "for l, linea in enumerate(Ltraccionada):\n",
    "    n1, n2 = linea\n",
    "#    longitud = np.abs( MN[n1,1] - MN[n2,1])\n",
    "#    Flocal = tension*espesor*longitud*1/2 \n",
    "    Flocal = Longitudes[l]*tension*espesor/2\n",
    "    MDFFuerzas[int(2*n1),0] += Flocal\n",
    "    MDFFuerzas[int(2*n2),0] += Flocal"
   ]
  },
  {
   "cell_type": "code",
   "execution_count": 17,
   "id": "corporate-pearl",
   "metadata": {},
   "outputs": [],
   "source": [
    "Fx = MDFFuerzas[:-1:2]\n",
    "Fy = MDFFuerzas[1::2]"
   ]
  },
  {
   "cell_type": "code",
   "execution_count": 18,
   "id": "regulation-domestic",
   "metadata": {},
   "outputs": [],
   "source": [
    "Fxyz = np.hstack([Fx,Fy,np.zeros_like(Fy)])"
   ]
  },
  {
   "cell_type": "code",
   "execution_count": 20,
   "id": "discrete-minneapolis",
   "metadata": {},
   "outputs": [],
   "source": [
    "FEx = gmsh.view.add(\"Fuerzas Externas\")\n",
    "Fexterna = gmsh.view.addModelData(\n",
    "    FEx,\n",
    "    0,\n",
    "    'PROBLEMA2',\n",
    "    'NodeData', NodeInfo[0],\n",
    "    Fxyz , numComponents=3)\n",
    "#agrega todos los datos , el 0 viene de dependencias temporarles aca es 0 no varia con t\n",
    "\n"
   ]
  },
  {
   "cell_type": "code",
   "execution_count": 24,
   "id": "talented-hawaiian",
   "metadata": {},
   "outputs": [],
   "source": [
    "gmsh.fltk.run()"
   ]
  },
  {
   "cell_type": "code",
   "execution_count": 29,
   "id": "union-explorer",
   "metadata": {},
   "outputs": [],
   "source": [
    "MEx = gmsh.model.mesh.get_nodes_for_physical_group(1, Empotradox)[0]\n",
    "MEy = gmsh.model.mesh.get_nodes_for_physical_group(1, Empotradoy)[0]"
   ]
  },
  {
   "cell_type": "code",
   "execution_count": 30,
   "id": "controversial-ceramic",
   "metadata": {},
   "outputs": [
    {
     "data": {
      "text/plain": [
       "array([ 3,  5, 22, 23, 24, 25, 26, 27, 28, 29], dtype=uint64)"
      ]
     },
     "execution_count": 30,
     "metadata": {},
     "output_type": "execute_result"
    }
   ],
   "source": [
    "MEy"
   ]
  },
  {
   "cell_type": "code",
   "execution_count": 31,
   "id": "polished-graphic",
   "metadata": {},
   "outputs": [
    {
     "data": {
      "text/plain": [
       "array([ 2,  8, 12, 14, 16], dtype=uint64)"
      ]
     },
     "execution_count": 31,
     "metadata": {},
     "output_type": "execute_result"
    }
   ],
   "source": [
    "2*MEx"
   ]
  },
  {
   "cell_type": "code",
   "execution_count": 33,
   "id": "strategic-consultancy",
   "metadata": {},
   "outputs": [
    {
     "data": {
      "text/plain": [
       "array([ 7, 11, 45, 47, 49, 51, 53, 55, 57, 59], dtype=uint64)"
      ]
     },
     "execution_count": 33,
     "metadata": {},
     "output_type": "execute_result"
    }
   ],
   "source": [
    "2*MEy + 1"
   ]
  },
  {
   "cell_type": "code",
   "execution_count": 35,
   "id": "challenging-bouquet",
   "metadata": {},
   "outputs": [],
   "source": [
    "s = np.hstack([2*MEx , 2*MEy+1])"
   ]
  },
  {
   "cell_type": "code",
   "execution_count": 36,
   "id": "distinct-citizenship",
   "metadata": {},
   "outputs": [
    {
     "data": {
      "text/plain": [
       "array([ 2,  8, 12, 14, 16,  7, 11, 45, 47, 49, 51, 53, 55, 57, 59],\n",
       "      dtype=uint64)"
      ]
     },
     "execution_count": 36,
     "metadata": {},
     "output_type": "execute_result"
    }
   ],
   "source": [
    "s"
   ]
  },
  {
   "cell_type": "code",
   "execution_count": 42,
   "id": "metric-stuff",
   "metadata": {},
   "outputs": [],
   "source": [
    "r = np.delete( np.arange(2*NumeroNodos) , s) "
   ]
  },
  {
   "cell_type": "code",
   "execution_count": 43,
   "id": "unlimited-singapore",
   "metadata": {},
   "outputs": [
    {
     "data": {
      "text/plain": [
       "array([  0,   1,   3,   4,   5,   6,   9,  10,  13,  15,  17,  18,  19,\n",
       "        20,  21,  22,  23,  24,  25,  26,  27,  28,  29,  30,  31,  32,\n",
       "        33,  34,  35,  36,  37,  38,  39,  40,  41,  42,  43,  44,  46,\n",
       "        48,  50,  52,  54,  56,  58,  60,  61,  62,  63,  64,  65,  66,\n",
       "        67,  68,  69,  70,  71,  72,  73,  74,  75,  76,  77,  78,  79,\n",
       "        80,  81,  82,  83,  84,  85,  86,  87,  88,  89,  90,  91,  92,\n",
       "        93,  94,  95,  96,  97,  98,  99, 100, 101, 102, 103, 104, 105,\n",
       "       106, 107, 108, 109, 110, 111, 112, 113, 114, 115, 116, 117, 118,\n",
       "       119, 120, 121, 122, 123, 124, 125, 126, 127, 128, 129, 130, 131,\n",
       "       132, 133, 134, 135, 136, 137, 138, 139, 140, 141, 142, 143, 144,\n",
       "       145, 146, 147, 148, 149, 150, 151, 152, 153, 154, 155, 156, 157,\n",
       "       158, 159])"
      ]
     },
     "execution_count": 43,
     "metadata": {},
     "output_type": "execute_result"
    }
   ],
   "source": [
    "r"
   ]
  },
  {
   "cell_type": "code",
   "execution_count": 40,
   "id": "functional-peace",
   "metadata": {},
   "outputs": [],
   "source": [
    "r = []\n",
    "for i in range(2*NumeroNodos):\n",
    "    if i not in s:\n",
    "        r.append(i)\n",
    "r = np.array(r, dtype = int)"
   ]
  },
  {
   "cell_type": "code",
   "execution_count": 41,
   "id": "vertical-robert",
   "metadata": {},
   "outputs": [
    {
     "data": {
      "text/plain": [
       "array([  0,   1,   3,   4,   5,   6,   9,  10,  13,  15,  17,  18,  19,\n",
       "        20,  21,  22,  23,  24,  25,  26,  27,  28,  29,  30,  31,  32,\n",
       "        33,  34,  35,  36,  37,  38,  39,  40,  41,  42,  43,  44,  46,\n",
       "        48,  50,  52,  54,  56,  58,  60,  61,  62,  63,  64,  65,  66,\n",
       "        67,  68,  69,  70,  71,  72,  73,  74,  75,  76,  77,  78,  79,\n",
       "        80,  81,  82,  83,  84,  85,  86,  87,  88,  89,  90,  91,  92,\n",
       "        93,  94,  95,  96,  97,  98,  99, 100, 101, 102, 103, 104, 105,\n",
       "       106, 107, 108, 109, 110, 111, 112, 113, 114, 115, 116, 117, 118,\n",
       "       119, 120, 121, 122, 123, 124, 125, 126, 127, 128, 129, 130, 131,\n",
       "       132, 133, 134, 135, 136, 137, 138, 139, 140, 141, 142, 143, 144,\n",
       "       145, 146, 147, 148, 149, 150, 151, 152, 153, 154, 155, 156, 157,\n",
       "       158, 159])"
      ]
     },
     "execution_count": 41,
     "metadata": {},
     "output_type": "execute_result"
    }
   ],
   "source": [
    "r"
   ]
  },
  {
   "cell_type": "code",
   "execution_count": 21,
   "id": "stainless-honey",
   "metadata": {},
   "outputs": [
    {
     "name": "stdout",
     "output_type": "stream",
     "text": [
      "[[   2.  500.    0.]\n",
      " [   3. 1000.    0.]\n",
      " [  18. 1000.    0.]\n",
      " [  19. 1000.    0.]\n",
      " [  20. 1000.    0.]\n",
      " [  21.  500.    0.]]\n"
     ]
    }
   ],
   "source": [
    "C = NodosTraccionados[0].reshape(-1,1)\n",
    "D = np.zeros((len(C),2))\n",
    "MNT = np.concatenate((C,D) , axis = 1)\n",
    "for l in range(len(Longitudes)):\n",
    "    MNT[l,1] = tension*espesor*Longitudes[l]\n",
    "    \n",
    "MNT[0,1] = tension*espesor*Longitudes[1]*1/2\n",
    "MNT[len(C)-1,1] = tension*espesor*Longitudes[len(Longitudes)-1]*1/2\n",
    "print(MNT)\n",
    "\n",
    "Nodoslibres = []\n",
    "\n",
    "\n",
    "'''la idea aca es tomar todos los nodos del centro asignarles fuerza 0 y agregegarlos a MNT incluidos los nodos empotrados ya que luego los discriminare cuando arme el vector fuerzas'''\n",
    "Nodos = gmsh.model.mesh.get_nodes_for_physical_group(2, Superficie)\n",
    "for i in Nodos[0]:\n",
    "    if i in NodosTraccionados[0]:\n",
    "        l = 0\n",
    "    else:\n",
    "        Nodoslibres.append(i)\n",
    "        \n",
    "E = np.array(Nodoslibres).reshape(-1,1)\n",
    "D = np.zeros((len(E),2))\n",
    "Interior = np.concatenate((E,D) , axis = 1)\n",
    "MNT = np.concatenate((Interior,MNT) , axis = 0)"
   ]
  },
  {
   "cell_type": "code",
   "execution_count": 22,
   "id": "paperback-extent",
   "metadata": {},
   "outputs": [],
   "source": [
    "gmsh.model.geo.synchronize()"
   ]
  },
  {
   "cell_type": "code",
   "execution_count": 23,
   "id": "exciting-noise",
   "metadata": {},
   "outputs": [],
   "source": [
    "gmsh.fltk.run()"
   ]
  },
  {
   "cell_type": "code",
   "execution_count": 12,
   "id": "aggressive-lighting",
   "metadata": {},
   "outputs": [],
   "source": [
    "E = 30E6\n",
    "v = 0.3\n",
    "\n",
    "D = (E/(1-v**2))*np.array([[1,v,0],[v,1,0],[0,0,(0.5*(1-v))]])\n",
    "Matriz_coordenadas = np.ones((3,3))\n",
    "Matriz_global = np.zeros([2*len(MN),2*len(MN)])\n",
    "Matrices_Bloc = []\n",
    "Areas = []"
   ]
  },
  {
   "cell_type": "code",
   "execution_count": 13,
   "id": "willing-appraisal",
   "metadata": {},
   "outputs": [],
   "source": [
    "for l in range (len(MC)):\n",
    "    \n",
    "    I,M,J = MC[l]  \n",
    "    \n",
    "    i = int(I - 1) ; m = int(M - 1) ; j = int(J - 1)\n",
    "    \n",
    "    x = np.array([MN[i,0],MN[m,0],MN[j,0]])\n",
    "    y = np.array([MN[i,1],MN[m,1],MN[j,1]])\n",
    "\n",
    "    Bi = y[1] - y[2] ;   Bm = y[2] - y[0] ;    Bj = y[0] - y[1]\n",
    "    Gi = x[2] - x[1] ;   Gm = x[0] - x[2] ;    Gj = x[1] - x[0]      \n",
    "    Matriz_coordenadas[:,0] = x\n",
    "    Matriz_coordenadas[:,1] = y\n",
    "    \n",
    "    \n",
    "    Area = np.linalg.det(Matriz_coordenadas)/2\n",
    "    \n",
    "    Matriz1 = (1/(2*Area)) * np.array([[Bi,0,Bm,0,Bj,0],[0,Gi,0,Gm,0,Gj],[Gi,Bi,Gm,Bm,Gj,Bj]])\n",
    "    Matrices_Bloc.append(Matriz1)\n",
    "    Matriz_local = espesor * abs(Area) * (np.dot(np.transpose(Matriz1), np.dot(D,Matriz1)))\n",
    "\n",
    "    A_G = np.array([i*2,i*2+1,m*2,m*2+1,j*2,j*2+1]) #aca pasa algo raro\n",
    "    Matriz_global[np.ix_(A_G,A_G)] += Matriz_local\n",
    "    "
   ]
  },
  {
   "cell_type": "code",
   "execution_count": 15,
   "id": "aggregate-reduction",
   "metadata": {},
   "outputs": [],
   "source": [
    "Desplazamientos_f = np.zeros(len(MN)*2)\n",
    "Fuerza = []\n",
    "Nodos = []\n",
    "\n",
    "for i in MNE:\n",
    "    \n",
    "    Nodo,valor = i \n",
    "    nodo = int(Nodo-1)\n",
    "    \n",
    "    if Nodo in NodosIzquierda[0]:\n",
    "        Desplazamientos_f[2*nodo] = valor # '''valor en x es nulo'''\n",
    "\n",
    "    elif Nodo in NodosAbajo[0]:\n",
    "        Desplazamientos_f[2*nodo+1] = valor #'''valor en y es nulo'''\n",
    "\n",
    "#'''Aca armo el vector fuerzas, si el nodo es alguno empotrado solo tomo el valor x o y respectivamente y le asigno un valor igual a 0'''\n",
    "for i in MNT:\n",
    "    Nodo,valorx,valory = i\n",
    "    nodo = int(Nodo-1)\n",
    "    \n",
    "    if Nodo in NodosIzquierda[0]:\n",
    "        Fuerza.append(0)\n",
    "        Nodos.append(2*nodo+1) # para los nodos a la izquierda la fuerza en y es 0\n",
    "    elif Nodo in NodosAbajo[0]:\n",
    "        Fuerza.append(0)\n",
    "        Nodos.append(2*nodo)   # para los nodos abajo la fuerza en x es nula\n",
    "    else:\n",
    "        Fuerza.append(valorx)\n",
    "        Fuerza.append(valory)\n",
    "        Nodos.append(2*nodo)\n",
    "        Nodos.append(2*nodo+1) \n",
    "\n",
    "    \n",
    "Fuerza = np.array(Fuerza).reshape(-1,1)\n",
    "\n",
    "Matriz_res = Matriz_global[np.ix_(Nodos,Nodos)]\n",
    "\n",
    "Desplazamientos_parcial = np.linalg.solve(Matriz_res,Fuerza)\n",
    "\n",
    "\n",
    "o = 0\n",
    "for i in Nodos:\n",
    "        Desplazamientos_f[i] = Desplazamientos_parcial [o]\n",
    "        o += 1\n",
    "\n",
    "\n",
    "Fuerzas_ = np.dot(Matriz_global,Desplazamientos_f)\n",
    "#print(Fuerzas_.round(4))\n",
    "#print()\n",
    "#\n",
    "#print(Desplazamientos_f)"
   ]
  },
  {
   "cell_type": "markdown",
   "id": "pleasant-onion",
   "metadata": {},
   "source": [
    "Me cuesta seguir que cosa es cada cosa pero me parece que te hiciste lio. vos tenes los nodos traccionados, "
   ]
  },
  {
   "cell_type": "code",
   "execution_count": 20,
   "id": "binary-discrimination",
   "metadata": {},
   "outputs": [
    {
     "data": {
      "text/plain": [
       "array([[ 2, 18],\n",
       "       [18, 19],\n",
       "       [19, 20],\n",
       "       [20, 21],\n",
       "       [21,  3]], dtype=uint64)"
      ]
     },
     "execution_count": 20,
     "metadata": {},
     "output_type": "execute_result"
    }
   ],
   "source": [
    "Ltraccionada"
   ]
  },
  {
   "cell_type": "code",
   "execution_count": 16,
   "id": "professional-blood",
   "metadata": {},
   "outputs": [],
   "source": [
    "#Esfuerzos\n",
    "\n",
    "Tensiones = []\n",
    "\n",
    "for p in range(len(MC)):\n",
    "    \n",
    "    I,M,J = MC[p]    \n",
    "    \n",
    "    i = int(I - 1) ; m = int(M - 1) ; j = int(J - 1)\n",
    "\n",
    "    \n",
    "    nodos = [2*i,2*i+1,2*m,2*m+1,2*j,2*j+1]\n",
    "    \n",
    "    \n",
    "    A = np.dot(Matrices_Bloc[p],Desplazamientos_f[nodos])\n",
    "    \n",
    "    B = np.dot(D,A)\n",
    "\n",
    "   \n",
    "    Tensiones.append(B)\n",
    "\n",
    "Tensiones_ = np.array(Tensiones)\n",
    "\n",
    "# for i in range (len(Tensiones)):\n",
    "#    print(Tensiones[i])\n",
    "#    print()"
   ]
  },
  {
   "cell_type": "code",
   "execution_count": 17,
   "id": "organizational-polish",
   "metadata": {},
   "outputs": [],
   "source": [
    "Problema2 = gmsh.view.add(\"Problema2\")\n",
    "\n",
    "problema2 = gmsh.view.addModelData(Problema2, 0, 'PROBLEMA2', 'ElementData', ETAGS, Tensiones_[:,0].reshape(-1,1) , numComponents=1)\n",
    "#agrega todos los datos , el 0 viene de dependencias temporarles aca es 0 no varia con t\n",
    "\n"
   ]
  },
  {
   "cell_type": "code",
   "execution_count": 18,
   "id": "willing-entrepreneur",
   "metadata": {},
   "outputs": [],
   "source": [
    "gmsh.fltk.run()"
   ]
  },
  {
   "cell_type": "code",
   "execution_count": 8,
   "id": "attached-geography",
   "metadata": {},
   "outputs": [],
   "source": [
    "Desplazamientos = np.zeros((len(MN),3))\n",
    "\n",
    "for i in range(len(MN)):\n",
    "    Desplazamientos[i] = [Desplazamientos_f[i*2],Desplazamientos_f[i*2+1],0]\n",
    "\n",
    "Problema12 = gmsh.view.add(\"Problema2\")\n",
    "\n",
    "problema12 = gmsh.view.addModelData(Problema12, 0, 'PROBLEMA2', 'NodeData', NodeInfo[0], Desplazamientos  , numComponents=3)\n",
    "#agrega todos los datos , el 0 viene de dependencias temporarles aca es 0 no varia con t\n",
    "\n"
   ]
  },
  {
   "cell_type": "code",
   "execution_count": null,
   "id": "requested-bleeding",
   "metadata": {},
   "outputs": [],
   "source": [
    "gmsh.fltk.run() "
   ]
  },
  {
   "cell_type": "code",
   "execution_count": null,
   "id": "clean-overview",
   "metadata": {},
   "outputs": [],
   "source": []
  }
 ],
 "metadata": {
  "kernelspec": {
   "display_name": "Python 3",
   "language": "python",
   "name": "python3"
  },
  "language_info": {
   "codemirror_mode": {
    "name": "ipython",
    "version": 3
   },
   "file_extension": ".py",
   "mimetype": "text/x-python",
   "name": "python",
   "nbconvert_exporter": "python",
   "pygments_lexer": "ipython3",
   "version": "3.9.2"
  }
 },
 "nbformat": 4,
 "nbformat_minor": 5
}
