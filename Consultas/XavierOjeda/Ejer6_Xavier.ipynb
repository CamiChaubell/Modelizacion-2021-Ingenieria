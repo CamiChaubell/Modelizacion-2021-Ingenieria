{
 "cells": [
  {
   "cell_type": "code",
   "execution_count": 73,
   "id": "refined-rescue",
   "metadata": {},
   "outputs": [
    {
     "name": "stdout",
     "output_type": "stream",
     "text": [
      "3594.2472614641233\n"
     ]
    }
   ],
   "source": [
    "import numpy as np\n",
    "\n",
    "rdi = [0,30]\n",
    "# rdi = rango de integracion\n",
    "f = lambda z: 200 * (z/(5+z)) * np.exp((-2*z)/300)\n",
    "\n",
    "def trapecios (rdi,f):\n",
    "    #x = np.linspace (int(rdi[0]),int(rdi[1]),300)\n",
    "    x = np.arange(0,30.5,0.5)\n",
    "    n = len(x)\n",
    "    alfa = f(rdi[0])\n",
    "    for i in range (1,n):    \n",
    "        alfa += 2 * f(x[i])\n",
    "    \n",
    "    I = ((rdi[1]-rdi[0])/(n))*((f(rdi[0])+alfa)/2)\n",
    "\n",
    "    return I\n",
    "\n",
    "print(trapecios(rdi,f))"
   ]
  },
  {
   "cell_type": "code",
   "execution_count": 74,
   "id": "comfortable-entrance",
   "metadata": {},
   "outputs": [
    {
     "name": "stdout",
     "output_type": "stream",
     "text": [
      "3643.2899084427304\n"
     ]
    }
   ],
   "source": [
    "\n",
    "def Simpson (rdi,f):\n",
    "    #x = np.linspace (int(rdi[0]),int(rdi[1]),300)\n",
    "    x = np.arange(0,30.5,0.5)\n",
    "    n = len(x)\n",
    "    alfa = f(rdi[0])\n",
    "\n",
    "    for i in range (1,n):    \n",
    "        if (i % 2 == 0):  #verifico si el x esta en una posicion par \n",
    "             alfa += 2 * f(x[i])\n",
    "        else:\n",
    "             alfa += 4 * f(x[i])\n",
    "    \n",
    "    I = ((rdi[1]-rdi[0])/(n-1))*((f(rdi[0])+alfa)/3)\n",
    "    \n",
    "    return I\n",
    "\n",
    "print(Simpson(rdi,f))"
   ]
  },
  {
   "cell_type": "code",
   "execution_count": 30,
   "id": "noticed-cattle",
   "metadata": {},
   "outputs": [
    {
     "name": "stdout",
     "output_type": "stream",
     "text": [
      "17.13456938387357\n"
     ]
    }
   ],
   "source": [
    "# punto efectivo \n",
    "\n",
    "J = lambda z: (1/I) * z * 200 * (z/(5+z)) * np.exp((-2*z)/300)\n",
    "Fuerza = Simpson(rdi,J)\n",
    "print(Fuerza)"
   ]
  }
 ],
 "metadata": {
  "kernelspec": {
   "display_name": "Python 3",
   "language": "python",
   "name": "python3"
  },
  "language_info": {
   "codemirror_mode": {
    "name": "ipython",
    "version": 3
   },
   "file_extension": ".py",
   "mimetype": "text/x-python",
   "name": "python",
   "nbconvert_exporter": "python",
   "pygments_lexer": "ipython3",
   "version": "3.9.2"
  }
 },
 "nbformat": 4,
 "nbformat_minor": 5
}
