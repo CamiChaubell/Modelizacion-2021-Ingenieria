{
 "cells": [
  {
   "cell_type": "code",
   "execution_count": 1,
   "id": "checked-direction",
   "metadata": {},
   "outputs": [],
   "source": [
    "import numpy as np\n",
    "import gmsh\n",
    "from scipy.linalg import eigh \n",
    "import matplotlib.pyplot as plt"
   ]
  },
  {
   "cell_type": "code",
   "execution_count": 2,
   "id": "judicial-citizen",
   "metadata": {},
   "outputs": [],
   "source": [
    "Largo = 1\n",
    "Area = 10e-4 \n",
    "Inercia = 10e-8\n",
    "densidad = 7850\n",
    "Modulo_E = 210e9\n",
    "\n",
    "Numero_de_elementos = 100\n",
    "Largo_elemento = Largo/Numero_de_elementos \n",
    "\n",
    "n = (Numero_de_elementos*2) + 2 \n",
    "Matriz_rigidez = np.zeros((n,n)) \n",
    "Matriz_masa = np.zeros((n,n)) "
   ]
  },
  {
   "cell_type": "code",
   "execution_count": 3,
   "id": "figured-coverage",
   "metadata": {},
   "outputs": [],
   "source": [
    "for i in range(Numero_de_elementos):\n",
    "    \n",
    "    p = i\n",
    "    j = i+1\n",
    "    \n",
    "    #matriz de masa concentrada\n",
    "#     Matriz_m = ((densidad*Largo_elemento*Area)/24) * np.array([\n",
    "#                                                               [12,0,0,0],\n",
    "#                                                               [0,Largo_elemento**2,0,0],\n",
    "#                                                               [0,0,12,0],\n",
    "#                                                               [0,0,0,Largo_elemento**2]\n",
    "#                                                               ])\n",
    "    \n",
    "    #matriz de masa consistente\n",
    "    \n",
    "    Matriz_m = ((densidad*Largo_elemento*Area)/420) * np.array([\n",
    "                                                              [156,22*Largo_elemento,54,-13*Largo_elemento],\n",
    "                                                              [22*Largo_elemento,4*Largo_elemento**2,13*Largo_elemento,-3*Largo_elemento**2],\n",
    "                                                              [54,13*Largo_elemento,156,-22*Largo_elemento],\n",
    "                                                              [-13*Largo_elemento,-3*Largo_elemento**2,-22*Largo_elemento,4*Largo_elemento**2]\n",
    "                                                              ])\n",
    "    \n",
    "    #Matriz de rigidez\n",
    "    Matriz_local = ((Modulo_E*Inercia)/(Largo_elemento**3)) * np.array([\n",
    "                                                                [12,  6*Largo_elemento,  -12,   6*Largo_elemento],\n",
    "                                                                [6*Largo_elemento,   4*Largo_elemento**2,   -6*Largo_elemento,   2*Largo_elemento**2],\n",
    "                                                                [-12,    -6*Largo_elemento,   12,   -6*Largo_elemento],\n",
    "                                                                [6*Largo_elemento,  2*Largo_elemento**2,   -6*Largo_elemento,   4*Largo_elemento**2]\n",
    "                                                               ])\n",
    "    \n",
    "\n",
    "    A_G = np.array([p*2,p*2+1],dtype = int)\n",
    "    B_G = np.array([j*2,j*2+1],dtype = int) \n",
    "    A_L = np.array([0,1],dtype = int)\n",
    "    B_L = np.array([2,3],dtype = int)\n",
    "\n",
    "    \n",
    "    Matriz_rigidez[np.ix_(A_G,A_G)] +=  Matriz_local [np.ix_(A_L,A_L)]\n",
    "    Matriz_rigidez[np.ix_(B_G,B_G)] +=  Matriz_local [np.ix_(B_L,B_L)]\n",
    "    Matriz_rigidez[np.ix_(A_G,B_G)] +=  Matriz_local [np.ix_(A_L,B_L)]\n",
    "    Matriz_rigidez[np.ix_(B_G,A_G)] +=  Matriz_local [np.ix_(B_L,A_L)]\n",
    "    \n",
    "    Matriz_masa[np.ix_(A_G,A_G)] +=  Matriz_m [np.ix_(A_L,A_L)]\n",
    "    Matriz_masa[np.ix_(B_G,B_G)] +=  Matriz_m [np.ix_(B_L,B_L)]\n",
    "    Matriz_masa[np.ix_(A_G,B_G)] +=  Matriz_m [np.ix_(A_L,B_L)]\n",
    "    Matriz_masa[np.ix_(B_G,A_G)] +=  Matriz_m [np.ix_(B_L,A_L)]"
   ]
  },
  {
   "cell_type": "code",
   "execution_count": 4,
   "id": "departmental-twins",
   "metadata": {},
   "outputs": [],
   "source": [
    "R = np.arange(2,n)\n",
    "Matriz_rigidez_reducida = Matriz_rigidez[np.ix_(R,R)]\n",
    "Matriz_masa_reducida = Matriz_masa[np.ix_(R,R)]\n",
    "w, vl = eigh(Matriz_rigidez_reducida, Matriz_masa_reducida)\n",
    "vl_normalizado=vl/vl[2*(Numero_de_elementos)-2,:]"
   ]
  },
  {
   "cell_type": "code",
   "execution_count": 6,
   "id": "entertaining-bennett",
   "metadata": {},
   "outputs": [],
   "source": [
    "Modos = np.zeros((Numero_de_elementos,Numero_de_elementos*2))\n",
    "o = 0\n",
    "for i in range(len(vl_normalizado[0,:])):\n",
    "    if i%2 == 0:\n",
    "        Modos[o] = vl_normalizado[i]\n",
    "        o += 1\n"
   ]
  },
  {
   "cell_type": "code",
   "execution_count": 17,
   "id": "established-apparel",
   "metadata": {
    "tags": []
   },
   "outputs": [
    {
     "data": {
      "image/png": "[encoded data removed]",
      "text/plain": [
       "<Figure size 432x288 with 1 Axes>"
      ]
     },
     "metadata": {
      "needs_background": "light"
     },
     "output_type": "display_data"
    }
   ],
   "source": [
    "distancias = np.linspace(0,Largo,(len(Modos[:,0])+1))\n",
    "for i in range(3): #en(vl[:,0])):\n",
    "        VL = Modos[:,i].reshape(-1,1)\n",
    "        modo = np.append(np.array([0]),VL)\n",
    "        plt.plot(distancias,modo,'o',label = i)  \n",
    "        \n",
    "plt.show()"
   ]
  },
  {
   "cell_type": "code",
   "execution_count": null,
   "id": "another-andrew",
   "metadata": {},
   "outputs": [],
   "source": []
  }
 ],
 "metadata": {
  "kernelspec": {
   "display_name": "Python 3",
   "language": "python",
   "name": "python3"
  },
  "language_info": {
   "codemirror_mode": {
    "name": "ipython",
    "version": 3
   },
   "file_extension": ".py",
   "mimetype": "text/x-python",
   "name": "python",
   "nbconvert_exporter": "python",
   "pygments_lexer": "ipython3",
   "version": "3.9.2"
  }
 },
 "nbformat": 4,
 "nbformat_minor": 5
}
