{
 "cells": [
  {
   "cell_type": "code",
   "execution_count": 24,
   "id": "vertical-platinum",
   "metadata": {},
   "outputs": [],
   "source": [
    "import numpy as np\n",
    "import matplotlib.pyplot as plt\n",
    "\n",
    "   \n",
    "f = lambda x,y: 4*np.exp(0.8*x)-0.5*y\n",
    "sol = lambda x: 4/1.3*(np.exp(0.8*x)-np.exp(-0.5*x))+2*np.exp(-0.5*x)\n",
    "ci = 2\n",
    "paso = 10 \n",
    "intervalo = [0,4]\n"
   ]
  },
  {
   "cell_type": "code",
   "execution_count": 34,
   "id": "southern-debut",
   "metadata": {},
   "outputs": [],
   "source": [
    "def Euler (f,paso,ci,intervalo):\n",
    "    \n",
    "    y = [ci]\n",
    "    t = np.linspace (intervalo[0],intervalo[1],paso+1)\n",
    "    h = (intervalo[1]-intervalo[0])/paso\n",
    "    \n",
    "    for i in range (paso):       \n",
    "        y.append(y[i] + f(t[i],y[i]) * h)\n",
    "        \n",
    "    return y"
   ]
  },
  {
   "cell_type": "code",
   "execution_count": 38,
   "id": "younger-extra",
   "metadata": {},
   "outputs": [],
   "source": [
    "def Heun (f,paso,ci,intervalo):\n",
    "    \n",
    "    y = [ci]\n",
    "    t = np.linspace (intervalo[0],intervalo[1],paso+1)\n",
    "    h = (intervalo[1]-intervalo[0])/paso\n",
    "    \n",
    "    for i in range (paso):\n",
    "        a1 =  f(t[i],y[i])\n",
    "        y0 = y[i] + f(t[i],y[i]) * h\n",
    "        a2 = f(t[i]+h,y0)\n",
    "        y.append(y[i]+(a1 + a2)*h/2)\n",
    "        \n",
    "    return y\n",
    "    "
   ]
  },
  {
   "cell_type": "code",
   "execution_count": 39,
   "id": "initial-portsmouth",
   "metadata": {},
   "outputs": [],
   "source": [
    "def runge_kutta(f,ci,paso,intervalo):\n",
    "    \n",
    "    y = [ci]\n",
    "    #t = intervalo[0] '''cuando defino t asi y voy sumando h en el for se aleja mas que si defino el intervalo como esta aca ¿porque sera?'''\n",
    "    t = np.linspace (intervalo[0],intervalo[1],paso+1)\n",
    "    h = (intervalo[1]-intervalo[0])/paso\n",
    "    \n",
    "    for i in range (paso):\n",
    "        #t += h '''Al hacer esto da peor'''\n",
    "        k1 = f(t[i],y[i])\n",
    "        k2 = f(t[i]+1/2*h,y[i]+1/2*h*k1)\n",
    "        k3 = f(t[i]+1/2*h,y[i]+1/2*h*k2)\n",
    "        k4 = f(t[i]+h,y[i]+h*k2)\n",
    "        y.append (y[i]+1/6*(k1+2*k2+2*k3+k4)*h)\n",
    "                \n",
    "    return y\n"
   ]
  },
  {
   "cell_type": "code",
   "execution_count": 73,
   "id": "naked-married",
   "metadata": {},
   "outputs": [
    {
     "data": {
      "image/png": "[encoded data removed]",
      "text/plain": [
       "<Figure size 432x288 with 1 Axes>"
      ]
     },
     "metadata": {
      "needs_background": "light"
     },
     "output_type": "display_data"
    }
   ],
   "source": [
    "error1 = []; error2 = []; error3 = []\n",
    "Paso = []\n",
    "t = np.linspace (intervalo[0],intervalo[1],paso+1)\n",
    "sol1 = sol(t)\n",
    "\n",
    "for paso in range(1,11):\n",
    "    \n",
    "    y1 = runge_kutta(f,ci,paso,intervalo)\n",
    "    y2 = Heun (f,paso,ci,intervalo)\n",
    "    y3 = Euler (f,paso,ci,intervalo)   \n",
    "    \n",
    "    error1.append(abs((y1[-1] - sol1[-1])/sol1[-1]))\n",
    "    error2.append(abs((y2[-1] - sol1[-1])/sol1[-1]))\n",
    "    error3.append(abs((y3[-1] - sol1[-1])/sol1[-1]))    \n",
    "    Paso.append(paso)\n",
    "    \n",
    "\n",
    "plt.plot(Paso,error1,'r',label ='Runge_Kutta')\n",
    "plt.plot(Paso,error2,'b', label = 'Heun')\n",
    "plt.plot(Paso,error3,'g', label = 'Euler')\n",
    "plt.legend(loc = 'center right')\n",
    "plt.show()"
   ]
  }
 ],
 "metadata": {
  "kernelspec": {
   "display_name": "Python 3",
   "language": "python",
   "name": "python3"
  },
  "language_info": {
   "codemirror_mode": {
    "name": "ipython",
    "version": 3
   },
   "file_extension": ".py",
   "mimetype": "text/x-python",
   "name": "python",
   "nbconvert_exporter": "python",
   "pygments_lexer": "ipython3",
   "version": "3.9.2"
  }
 },
 "nbformat": 4,
 "nbformat_minor": 5
}
