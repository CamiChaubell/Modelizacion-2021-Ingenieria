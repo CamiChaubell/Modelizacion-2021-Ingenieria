{
  "nbformat": 4,
  "nbformat_minor": 0,
  "metadata": {
    "colab": {
      "name": "Ejer1.ipynb",
      "provenance": [],
      "collapsed_sections": []
    },
    "kernelspec": {
      "name": "python3",
      "display_name": "Python 3"
    },
    "language_info": {
      "name": "python"
    }
  },
  "cells": [
    {
      "cell_type": "code",
      "metadata": {
        "colab": {
          "base_uri": "https://localhost:8080/"
        },
        "id": "blLnTQju_xN9",
        "outputId": "47e091a0-a90a-42de-9bf9-e76de1efd44f"
      },
      "source": [
        "A = [20,50,30,5,7,1,90,120,110]\n",
        "\n",
        "\n",
        "def ordenar(A):\n",
        "  print(A)\n",
        "  for i in A:\n",
        "    for i in range(0,len(A)-1):\n",
        "      if A[i]>A[i+1]:\n",
        "       Aux = A[i+1]\n",
        "       A[i+1]=A[i]\n",
        "       A[i] = Aux\n",
        "  \n",
        "  return A\n",
        "\n",
        "\n",
        "B = ordenar (A)\n",
        "print(B)\n"
      ],
      "execution_count": null,
      "outputs": [
        {
          "output_type": "stream",
          "text": [
            "[20, 50, 30, 5, 7, 1, 90, 120, 110]\n",
            "[1, 5, 7, 20, 30, 50, 90, 110, 120]\n"
          ],
          "name": "stdout"
        }
      ]
    },
    {
      "cell_type": "code",
      "metadata": {
        "id": "-iqDSG8jKIhE"
      },
      "source": [
        ""
      ],
      "execution_count": null,
      "outputs": []
    }
  ]
}