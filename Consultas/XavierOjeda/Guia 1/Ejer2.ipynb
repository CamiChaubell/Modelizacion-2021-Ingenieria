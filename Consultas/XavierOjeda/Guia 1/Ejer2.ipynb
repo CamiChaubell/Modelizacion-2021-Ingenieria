{
 "cells": [
  {
   "cell_type": "code",
   "execution_count": 21,
   "id": "intelligent-banks",
   "metadata": {},
   "outputs": [
    {
     "ename": "ModuleNotFoundError",
     "evalue": "No module named 'Spline3'",
     "output_type": "error",
     "traceback": [
      "\u001b[1;31m---------------------------------------------------------------------------\u001b[0m",
      "\u001b[1;31mModuleNotFoundError\u001b[0m                       Traceback (most recent call last)",
      "\u001b[1;32m<ipython-input-21-5c50bd870674>\u001b[0m in \u001b[0;36m<module>\u001b[1;34m\u001b[0m\n\u001b[0;32m      1\u001b[0m \u001b[1;32mimport\u001b[0m \u001b[0mnumpy\u001b[0m \u001b[1;32mas\u001b[0m \u001b[0mnp\u001b[0m\u001b[1;33m\u001b[0m\u001b[1;33m\u001b[0m\u001b[0m\n\u001b[0;32m      2\u001b[0m \u001b[1;32mimport\u001b[0m \u001b[0mmatplotlib\u001b[0m\u001b[1;33m.\u001b[0m\u001b[0mpyplot\u001b[0m \u001b[1;32mas\u001b[0m \u001b[0mplt\u001b[0m\u001b[1;33m\u001b[0m\u001b[1;33m\u001b[0m\u001b[0m\n\u001b[1;32m----> 3\u001b[1;33m \u001b[1;32mimport\u001b[0m \u001b[0mSpline3\u001b[0m \u001b[1;32mas\u001b[0m \u001b[0mSp\u001b[0m\u001b[1;33m\u001b[0m\u001b[1;33m\u001b[0m\u001b[0m\n\u001b[0m\u001b[0;32m      4\u001b[0m \u001b[1;33m\u001b[0m\u001b[0m\n\u001b[0;32m      5\u001b[0m \u001b[1;33m\u001b[0m\u001b[0m\n",
      "\u001b[1;31mModuleNotFoundError\u001b[0m: No module named 'Spline3'"
     ]
    }
   ],
   "source": [
    "import numpy as np\n",
    "import matplotlib.pyplot as plt\n",
    "import Spline3 as Sp\n",
    "\n",
    "\n",
    "Largo = 10 #En centimetros\n",
    "Temp_inicial = 0\n",
    "Temp_extremos = [100, 50]\n",
    "k = 0.835 #cm^2/s\n",
    "tiempo_limite = 10 #segundos\n",
    "\n",
    "\n",
    "deltax = 2 #cm\n",
    "deltat = 1 #s\n",
    "Coeficiente = (k*deltat)/(deltax**2)\n"
   ]
  },
  {
   "cell_type": "code",
   "execution_count": 18,
   "id": "welcome-optimum",
   "metadata": {},
   "outputs": [],
   "source": [
    "puntos_pos = np.arange(0,Largo+deltax,deltax)\n",
    "puntos_tiempo = np.arange(0,tiempo_limite+deltat,deltat)"
   ]
  },
  {
   "cell_type": "code",
   "execution_count": 15,
   "id": "peaceful-trance",
   "metadata": {},
   "outputs": [],
   "source": [
    "\n",
    "#cargo el primer momento de la barra \n",
    "T = np.ones(len(puntos_pos))*Temp_inicial \n",
    "T[0] = Temp_extremos[0] ; T[-1] = Temp_extremos[1] \n",
    "\n",
    "#Necesito un vector que vaya almacenando los datos del siguiente punto\n",
    "T_almacenar = []\n",
    "Temp_sig = T.copy()\n",
    "\n",
    "for tiempo in puntos_tiempo:\n",
    "  l = 1\n",
    "  for posicion in puntos_pos:   \n",
    "    if posicion == 0:\n",
    "      Temp_sig[0] = Temp_extremos[0]\n",
    "    elif posicion == Largo:\n",
    "      Temp_sig[-1] = Temp_extremos[1]\n",
    "    else:\n",
    "      Temp_sig[l] = T[l]+ ((Coeficiente)*(T[l+1]-2*T[l]+T[l-1]))\n",
    "      l += 1\n",
    "\n",
    "  T_almacenar.append(T)\n",
    "  T = Temp_sig.copy()"
   ]
  },
  {
   "cell_type": "code",
   "execution_count": 16,
   "id": "according-serial",
   "metadata": {},
   "outputs": [
    {
     "ename": "NameError",
     "evalue": "name 'Spline3' is not defined",
     "output_type": "error",
     "traceback": [
      "\u001b[1;31m---------------------------------------------------------------------------\u001b[0m",
      "\u001b[1;31mNameError\u001b[0m                                 Traceback (most recent call last)",
      "\u001b[1;32m<ipython-input-16-53c27c68f9bc>\u001b[0m in \u001b[0;36m<module>\u001b[1;34m\u001b[0m\n\u001b[0;32m      1\u001b[0m \u001b[1;32mfor\u001b[0m \u001b[0msolucion\u001b[0m \u001b[1;32min\u001b[0m \u001b[0mT_almacenar\u001b[0m\u001b[1;33m:\u001b[0m\u001b[1;33m\u001b[0m\u001b[1;33m\u001b[0m\u001b[0m\n\u001b[1;32m----> 2\u001b[1;33m     \u001b[0mSpline3\u001b[0m\u001b[1;33m(\u001b[0m\u001b[0mpuntos_pos\u001b[0m\u001b[1;33m,\u001b[0m\u001b[0msolucion\u001b[0m\u001b[1;33m)\u001b[0m\u001b[1;33m\u001b[0m\u001b[1;33m\u001b[0m\u001b[0m\n\u001b[0m\u001b[0;32m      3\u001b[0m \u001b[1;33m\u001b[0m\u001b[0m\n\u001b[0;32m      4\u001b[0m \u001b[0mplt\u001b[0m\u001b[1;33m.\u001b[0m\u001b[0mshow\u001b[0m\u001b[1;33m(\u001b[0m\u001b[1;33m)\u001b[0m\u001b[1;33m\u001b[0m\u001b[1;33m\u001b[0m\u001b[0m\n",
      "\u001b[1;31mNameError\u001b[0m: name 'Spline3' is not defined"
     ]
    }
   ],
   "source": [
    "for solucion in T_almacenar:\n",
    "    Spline3(puntos_pos,solucion)\n",
    "    \n",
    "plt.show()"
   ]
  },
  {
   "cell_type": "code",
   "execution_count": null,
   "id": "italian-coating",
   "metadata": {},
   "outputs": [],
   "source": []
  },
  {
   "cell_type": "code",
   "execution_count": null,
   "id": "removable-asset",
   "metadata": {},
   "outputs": [],
   "source": []
  },
  {
   "cell_type": "code",
   "execution_count": null,
   "id": "continent-scholarship",
   "metadata": {},
   "outputs": [],
   "source": []
  }
 ],
 "metadata": {
  "kernelspec": {
   "display_name": "Python 3",
   "language": "python",
   "name": "python3"
  },
  "language_info": {
   "codemirror_mode": {
    "name": "ipython",
    "version": 3
   },
   "file_extension": ".py",
   "mimetype": "text/x-python",
   "name": "python",
   "nbconvert_exporter": "python",
   "pygments_lexer": "ipython3",
   "version": "3.9.2"
  }
 },
 "nbformat": 4,
 "nbformat_minor": 5
}
