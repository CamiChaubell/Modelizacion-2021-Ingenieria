{
 "cells": [
  {
   "cell_type": "code",
   "execution_count": 54,
   "id": "alpine-theory",
   "metadata": {},
   "outputs": [],
   "source": [
    "#! pip install gmsh\n",
    "import numpy as np\n",
    "#import gmsh\n",
    "import matplotlib.pyplot as plt"
   ]
  },
  {
   "cell_type": "code",
   "execution_count": 55,
   "id": "opposed-people",
   "metadata": {},
   "outputs": [],
   "source": [
    "C=-20\n",
    "E=210e9\n",
    "A=10\n",
    "L=150\n",
    "extremo_empotrado=1 #0=izq 1=der"
   ]
  },
  {
   "cell_type": "code",
   "execution_count": 56,
   "id": "civil-baseball",
   "metadata": {},
   "outputs": [],
   "source": [
    "func=lambda x,C,L,A,E: (np.abs(C)/(6*A*E))*(x**3-L**3)\n"
   ]
  },
  {
   "cell_type": "code",
   "execution_count": 57,
   "id": "under-syntax",
   "metadata": {},
   "outputs": [],
   "source": [
    "elementos=3\n",
    "x=np.linspace(0,L,elementos+1)"
   ]
  },
  {
   "cell_type": "code",
   "execution_count": 58,
   "id": "opened-generator",
   "metadata": {},
   "outputs": [],
   "source": [
    "F=np.zeros(len(x))\n",
    "f=np.zeros((2)) \n",
    "Ftot=(C/2)*(L/elementos)**2\n",
    "for i in range (len(x)-1):\n",
    "    f[0]= Ftot/3 + (C/2)*(x[i+1]-x[i])*x[i]\n",
    "    f[1]= Ftot *(2/3)+ (C/2)*(x[i+1]-x[i])*x[i]\n",
    "    F[i]+=f[0]\n",
    "    F[i+1]=f[1]"
   ]
  },
  {
   "cell_type": "code",
   "execution_count": 59,
   "id": "nonprofit-shaft",
   "metadata": {},
   "outputs": [],
   "source": [
    "k=np.array([[1,-1],[-1,1]])\n",
    "K=np.zeros([len(x),len(x)])\n",
    "#print(K)\n",
    "for i in range(len(x)-1):\n",
    "    (K[i:(i+2),i:(i+2)])+=(k [0:2,0:2])\n",
    "    i+=1\n",
    "\n",
    "K=np.dot((A*E/(L/elementos)),K)\n",
    "Kred=K[0:(len(x)-1),0:(len(x)-1)]\n"
   ]
  },
  {
   "cell_type": "code",
   "execution_count": 60,
   "id": "organizational-evanescence",
   "metadata": {},
   "outputs": [],
   "source": [
    "F_=F[0:len(x)-1]"
   ]
  },
  {
   "cell_type": "code",
   "execution_count": 61,
   "id": "ahead-transition",
   "metadata": {},
   "outputs": [],
   "source": [
    "#print(F_)"
   ]
  },
  {
   "cell_type": "code",
   "execution_count": 62,
   "id": "fitted-combat",
   "metadata": {},
   "outputs": [
    {
     "name": "stdout",
     "output_type": "stream",
     "text": [
      "[  -8333.3333  -50000.     -100000.      158333.3333]\n",
      "[-5.3571e-06 -5.1587e-06 -3.7698e-06  0.0000e+00]\n"
     ]
    }
   ],
   "source": [
    "d=np.linalg.solve(Kred,F_)\n",
    "#print(d)\n",
    "R=-F[-1]-d[-1]*(A*E/(L/elementos))\n",
    "#print(R)\n",
    "F[-1]=R+F[-1]\n",
    "print(F)\n",
    "if extremo_empotrado ==1:\n",
    "    d=np.insert(d,len(d),0)\n",
    "else:\n",
    "     d=np.insert(d,0,0)\n",
    "print(d)\n",
    "#El array F representa las fuerzas de cada elemento; el array d, los desplazamientos"
   ]
  },
  {
   "cell_type": "code",
   "execution_count": 63,
   "id": "external-cologne",
   "metadata": {},
   "outputs": [
    {
     "data": {
      "image/png": "[encoded data removed]",
      "text/plain": [
       "<Figure size 432x288 with 1 Axes>"
      ]
     },
     "metadata": {
      "needs_background": "light"
     },
     "output_type": "display_data"
    }
   ],
   "source": [
    "plt.plot(x,d)\n",
    "plt.plot(np.linspace(0, Largo, 100), func(np.linspace(0, Largo, 100),C,Largo,A,E),'r')\n",
    "plt.show()\n"
   ]
  },
  {
   "cell_type": "code",
   "execution_count": null,
   "id": "professional-villa",
   "metadata": {},
   "outputs": [],
   "source": []
  },
  {
   "cell_type": "code",
   "execution_count": null,
   "id": "valued-democracy",
   "metadata": {},
   "outputs": [],
   "source": []
  }
 ],
 "metadata": {
  "kernelspec": {
   "display_name": "Python 3",
   "language": "python",
   "name": "python3"
  },
  "language_info": {
   "codemirror_mode": {
    "name": "ipython",
    "version": 3
   },
   "file_extension": ".py",
   "mimetype": "text/x-python",
   "name": "python",
   "nbconvert_exporter": "python",
   "pygments_lexer": "ipython3",
   "version": "3.9.2"
  }
 },
 "nbformat": 4,
 "nbformat_minor": 5
}
