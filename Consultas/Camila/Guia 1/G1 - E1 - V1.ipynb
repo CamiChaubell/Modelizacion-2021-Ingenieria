{
 "cells": [
  {
   "cell_type": "markdown",
   "id": "norman-amendment",
   "metadata": {},
   "source": [
    "## Guía 1 - Ejercicio 01 - Versión 01"
   ]
  },
  {
   "cell_type": "markdown",
   "id": "union-security",
   "metadata": {},
   "source": [
    "Se tiene una placa cuadrada de aluminio cuyos bordes están en las condiciones que se indican en la\n",
    "figura: tres lados a temperaturas fijas y otro, el inferior, aislado térmicamente (flujo de calor igual a\n",
    "cero). Encuentre, utilizando el método de diferencias finitas, los valores de temperatura y flujo de\n",
    "calor para cada punto. Utilice primero la grilla señalada y luego generalice el problema a un número\n",
    "variable de nodos en cada eje de coordenadas. Haga un estudio del tiempo de cálculo en función del\n",
    "tamaño del sistema"
   ]
  },
  {
   "cell_type": "markdown",
   "id": "egyptian-chess",
   "metadata": {},
   "source": [
    "Primero hago el programa con condiciones de contorno de temperaturas FIJAS. "
   ]
  },
  {
   "cell_type": "markdown",
   "id": "atlantic-hypothesis",
   "metadata": {},
   "source": [
    "#### Temperaturas Fijas ####"
   ]
  },
  {
   "cell_type": "code",
   "execution_count": 1,
   "id": "second-revolution",
   "metadata": {},
   "outputs": [],
   "source": [
    "import numpy as np\n",
    "import matplotlib.pyplot as plt\n",
    "# import copy\n",
    "# import random\n",
    "# import matplotlib.pyplot as plt\n",
    "\n",
    "np.set_printoptions(linewidth=100)"
   ]
  },
  {
   "cell_type": "code",
   "execution_count": 2,
   "id": "satisfactory-geneva",
   "metadata": {},
   "outputs": [],
   "source": [
    "Nx = 50\n",
    "Ny = 50\n",
    "\n",
    "Tleft = 75\n",
    "Tright = 50\n",
    "Tup = 100\n",
    "Tdown = 0\n",
    "\n",
    "initialT = [Tleft, Tright, Tup, Tdown]\n",
    "\n",
    "matrix = np.eye(Nx*Ny, Nx*Ny)\n",
    "vectorB = np.zeros(Nx*Ny)\n",
    "beta = Nx / Ny"
   ]
  },
  {
   "cell_type": "code",
   "execution_count": 3,
   "id": "steady-baptist",
   "metadata": {},
   "outputs": [],
   "source": [
    "for i in range(1, Nx - 1):\n",
    "    for j in range(1, Ny - 1):\n",
    "        k = i + j * Nx\n",
    "        # print(k)\n",
    "        matrix[k, k - Nx] = beta ** 2\n",
    "        matrix[k, k - 1] = 1\n",
    "        matrix[k, k] = - 2 * (1 + beta ** 2)\n",
    "        matrix[k, k + 1] = 1\n",
    "        matrix[k, k + Nx] = beta ** 2"
   ]
  },
  {
   "cell_type": "markdown",
   "id": "operational-science",
   "metadata": {},
   "source": [
    "> plt.rc('figure', figsize=(10, 10))\n",
    "plt.imshow(matrix)\n",
    "plt.colorbar()\n",
    "\n",
    "> Agregar lineas de contorno\n",
    "> contourf(matrizdetemperaturas)"
   ]
  },
  {
   "cell_type": "markdown",
   "id": "buried-moral",
   "metadata": {},
   "source": [
    "Hay que hacerlo de una manera más automática"
   ]
  },
  {
   "cell_type": "markdown",
   "id": "powerful-participant",
   "metadata": {},
   "source": [
    "Hay que poner las temperaturas en los bordes"
   ]
  },
  {
   "cell_type": "markdown",
   "id": "spread-evolution",
   "metadata": {},
   "source": [
    "Consideor que en las esquinas tengo la temperatura promedio de ambos lados"
   ]
  },
  {
   "cell_type": "code",
   "execution_count": 4,
   "id": "forbidden-uruguay",
   "metadata": {},
   "outputs": [],
   "source": [
    "for i in range(0, Nx):\n",
    "    for j in range(0, Ny):\n",
    "        k = i + j * Nx\n",
    "        # print(k)\n",
    "        # initialT = [Tleft, Tright, Tup, Tdown]\n",
    "        if i == 0:        # Borde izquierdo\n",
    "            if j == 0:\n",
    "                vectorB[k] = (initialT[0] + initialT[2]) / 2\n",
    "            elif j == Ny - 1:\n",
    "                vectorB[k] = (initialT[0] + initialT[3]) / 2\n",
    "            else:\n",
    "                vectorB[k] = initialT[0]\n",
    "\n",
    "        elif i == Nx - 1:  # Borde derecho\n",
    "            if j == 0:\n",
    "                vectorB[k] = (initialT[1] + initialT[2]) / 2\n",
    "            elif j == Ny - 1:\n",
    "                vectorB[k] = (initialT[1] + initialT[3]) / 2\n",
    "            else:\n",
    "                vectorB[k] = initialT[1]\n",
    "\n",
    "        elif j == 0:       # Borde superior\n",
    "            vectorB[k] = initialT[2]\n",
    "\n",
    "        elif j == Ny:      # Borde inferior\n",
    "            vectorB[k] = initialT[3]"
   ]
  },
  {
   "cell_type": "code",
   "execution_count": 5,
   "id": "owned-world",
   "metadata": {},
   "outputs": [],
   "source": [
    "T = np.linalg.solve(matrix, vectorB)"
   ]
  },
  {
   "cell_type": "code",
   "execution_count": 6,
   "id": "assured-bolivia",
   "metadata": {},
   "outputs": [],
   "source": [
    "tempMatrix = np.zeros([Nx, Ny])\n",
    "for i in range(0, Nx):\n",
    "    for j in range(0, Ny):\n",
    "        k = i + j * Nx\n",
    "        tempMatrix[j, i] = T[k]"
   ]
  },
  {
   "cell_type": "markdown",
   "id": "elementary-tower",
   "metadata": {},
   "source": [
    "Ojo que las matrices en Python quedan definidos como `matrix[filas, columnas]`"
   ]
  },
  {
   "cell_type": "code",
   "execution_count": 9,
   "id": "attached-bones",
   "metadata": {},
   "outputs": [
    {
     "data": {
      "text/plain": [
       "<matplotlib.colorbar.Colorbar at 0x1ab3bd13190>"
      ]
     },
     "execution_count": 9,
     "metadata": {},
     "output_type": "execute_result"
    },
    {
     "data": {
      "image/png": "[encoded data removed]",
      "text/plain": [
       "<Figure size 432x288 with 2 Axes>"
      ]
     },
     "metadata": {
      "needs_background": "light"
     },
     "output_type": "display_data"
    }
   ],
   "source": [
    "# plt.imshow(tempMatrix)\n",
    "plt.contourf(tempMatrix, origin='upper')\n",
    "plt.colorbar()"
   ]
  },
  {
   "cell_type": "markdown",
   "id": "inside-prompt",
   "metadata": {},
   "source": [
    "### Con flujos ###"
   ]
  },
  {
   "cell_type": "code",
   "execution_count": null,
   "id": "bacterial-stuart",
   "metadata": {},
   "outputs": [],
   "source": []
  },
  {
   "cell_type": "code",
   "execution_count": null,
   "id": "welsh-waters",
   "metadata": {},
   "outputs": [],
   "source": []
  },
  {
   "cell_type": "code",
   "execution_count": null,
   "id": "herbal-surprise",
   "metadata": {},
   "outputs": [],
   "source": []
  }
 ],
 "metadata": {
  "kernelspec": {
   "display_name": "Python 3",
   "language": "python",
   "name": "python3"
  },
  "language_info": {
   "codemirror_mode": {
    "name": "ipython",
    "version": 3
   },
   "file_extension": ".py",
   "mimetype": "text/x-python",
   "name": "python",
   "nbconvert_exporter": "python",
   "pygments_lexer": "ipython3",
   "version": "3.9.2"
  }
 },
 "nbformat": 4,
 "nbformat_minor": 5
}
