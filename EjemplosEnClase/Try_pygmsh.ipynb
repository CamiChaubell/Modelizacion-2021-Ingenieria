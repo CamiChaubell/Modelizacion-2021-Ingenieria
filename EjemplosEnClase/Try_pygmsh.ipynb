{
 "cells": [
  {
   "cell_type": "code",
   "execution_count": 1,
   "id": "dangerous-causing",
   "metadata": {},
   "outputs": [],
   "source": [
    "import gmsh"
   ]
  },
  {
   "cell_type": "code",
   "execution_count": 2,
   "id": "conservative-extraction",
   "metadata": {},
   "outputs": [],
   "source": [
    "gmsh.initialize()"
   ]
  },
  {
   "cell_type": "code",
   "execution_count": 3,
   "id": "published-accent",
   "metadata": {},
   "outputs": [],
   "source": [
    "gmsh.model.add('test')"
   ]
  },
  {
   "cell_type": "code",
   "execution_count": 3,
   "id": "sized-battle",
   "metadata": {},
   "outputs": [],
   "source": [
    "lc = 1e-2\n",
    "L = 10 ;\n",
    "R = 1;\n",
    "\n",
    "p1 = gmsh.model.geo.addPoint(0,0,0,lc)\n",
    "P2 = gmsh.model.geo.addPoint(-L,-L/2,0,lc)\n",
    "p3 = gmsh.model.geo.addPoint(L,-L/2,0,lc)\n",
    "p4 = gmsh.model.geo.addPoint(L,L/2,0,lc)\n",
    "p5 = gmsh.model.geo.addPoint(-L,L/2,0,lc)"
   ]
  },
  {
   "cell_type": "code",
   "execution_count": 9,
   "id": "lonely-honolulu",
   "metadata": {},
   "outputs": [
    {
     "data": {
      "text/plain": [
       "[]"
      ]
     },
     "execution_count": 9,
     "metadata": {},
     "output_type": "execute_result"
    }
   ],
   "source": [
    "gmsh.model."
   ]
  },
  {
   "cell_type": "code",
   "execution_count": 5,
   "id": "german-prison",
   "metadata": {},
   "outputs": [
    {
     "name": "stdout",
     "output_type": "stream",
     "text": [
      "Requirement already satisfied: gmsh in /data/Anaconda/JupyterLab/lib/python3.9/site-packages (4.8.4)\n"
     ]
    }
   ],
   "source": [
    "! pip install gmsh"
   ]
  },
  {
   "cell_type": "code",
   "execution_count": 6,
   "id": "rural-wedding",
   "metadata": {},
   "outputs": [
    {
     "data": {
      "text/plain": [
       "<gmsh.view at 0x7fe2e3533850>"
      ]
     },
     "execution_count": 6,
     "metadata": {},
     "output_type": "execute_result"
    }
   ],
   "source": []
  },
  {
   "cell_type": "code",
   "execution_count": null,
   "id": "recent-brazil",
   "metadata": {},
   "outputs": [],
   "source": []
  }
 ],
 "metadata": {
  "kernelspec": {
   "display_name": "Python 3",
   "language": "python",
   "name": "python3"
  },
  "language_info": {
   "codemirror_mode": {
    "name": "ipython",
    "version": 3
   },
   "file_extension": ".py",
   "mimetype": "text/x-python",
   "name": "python",
   "nbconvert_exporter": "python",
   "pygments_lexer": "ipython3",
   "version": "3.9.2"
  }
 },
 "nbformat": 4,
 "nbformat_minor": 5
}
