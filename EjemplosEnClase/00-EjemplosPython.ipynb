{
 "cells": [
  {
   "cell_type": "markdown",
   "metadata": {},
   "source": [
    "# Introducción a Python\n",
    "\n",
    "Lo primero que hacemos siempre es improtar las librerís que vamos a necesitar"
   ]
  },
  {
   "cell_type": "code",
   "execution_count": 1,
   "metadata": {},
   "outputs": [],
   "source": [
    "# Importo las librerías Necesarias \n",
    "import numpy as np  # Importo algebra Lineal\n",
    "import matplotlib.pyplot as plt # Importo librería de gráficos"
   ]
  },
  {
   "cell_type": "markdown",
   "metadata": {},
   "source": [
    "# Tipos de Variables"
   ]
  },
  {
   "cell_type": "markdown",
   "metadata": {},
   "source": [
    " En __python__ las variables no necesitan ser decalaradas. Pueden usarse  variables de varios tipos:\n",
    " \n",
    " - punto flotante, \n",
    " - números enteros,\n",
    " - texto o cadenas de caracteres.\n",
    " \n",
    " __Python__ es un lenguaje no compilable orientado a objetos. Por el momento nos concentramos en los aspectos básicos y retomaremos el concepto más tarde. \n",
    "\n",
    "Cualquier objeto puede asignarse con el operador de asignación `=`. "
   ]
  },
  {
   "cell_type": "code",
   "execution_count": 2,
   "metadata": {},
   "outputs": [],
   "source": [
    "A = 1"
   ]
  },
  {
   "cell_type": "code",
   "execution_count": 3,
   "metadata": {},
   "outputs": [],
   "source": [
    "B ='Mi Variable'"
   ]
  },
  {
   "cell_type": "code",
   "execution_count": 4,
   "metadata": {},
   "outputs": [],
   "source": [
    "C = np.pi"
   ]
  },
  {
   "cell_type": "code",
   "execution_count": 5,
   "metadata": {},
   "outputs": [
    {
     "name": "stdout",
     "output_type": "stream",
     "text": [
      "Mi Variable 3.141592653589793 !=  1\n"
     ]
    }
   ],
   "source": [
    "print(B, C , '!= ', A)"
   ]
  },
  {
   "cell_type": "markdown",
   "metadata": {},
   "source": [
    "vemos así la sentencia `print` que nos permite imprimir una o mas variables. "
   ]
  },
  {
   "cell_type": "markdown",
   "metadata": {},
   "source": [
    "## Iterables"
   ]
  },
  {
   "cell_type": "markdown",
   "metadata": {},
   "source": [
    "Los objetoa **iterables**  son los que tienen varios elementos y se los puede ciclar. El primer ejemplo son las _listas_:"
   ]
  },
  {
   "cell_type": "code",
   "execution_count": 8,
   "metadata": {},
   "outputs": [],
   "source": [
    "L = [1,2,3,np.pi, A, B, C,  [ A, B, C]]"
   ]
  },
  {
   "cell_type": "markdown",
   "metadata": {},
   "source": [
    "Vemos que las listas pueden tener objetos de distintos tipos, incluso otras listas. La manera de acceder a sus objetos es indexándolas. Debemos saber que el primer elemento de una liste tiene el índice 0\n"
   ]
  },
  {
   "cell_type": "code",
   "execution_count": 9,
   "metadata": {},
   "outputs": [
    {
     "data": {
      "text/plain": [
       "1"
      ]
     },
     "execution_count": 9,
     "metadata": {},
     "output_type": "execute_result"
    }
   ],
   "source": [
    "L[0]"
   ]
  },
  {
   "cell_type": "markdown",
   "metadata": {},
   "source": [
    "mientras que al último elemento se puede acceder con el índice `-1`"
   ]
  },
  {
   "cell_type": "code",
   "execution_count": 10,
   "metadata": {},
   "outputs": [
    {
     "data": {
      "text/plain": [
       "[1, 'Mi Variable', 3.141592653589793]"
      ]
     },
     "execution_count": 10,
     "metadata": {},
     "output_type": "execute_result"
    }
   ],
   "source": [
    "L[-1]"
   ]
  },
  {
   "cell_type": "markdown",
   "metadata": {},
   "source": [
    "tambíen podemos tomar un grupo de elementos mediante _slicing_:"
   ]
  },
  {
   "cell_type": "code",
   "execution_count": 13,
   "metadata": {},
   "outputs": [
    {
     "data": {
      "text/plain": [
       "[1, 2, 3]"
      ]
     },
     "execution_count": 13,
     "metadata": {},
     "output_type": "execute_result"
    }
   ],
   "source": [
    "L[0:3]"
   ]
  },
  {
   "cell_type": "markdown",
   "metadata": {},
   "source": [
    "notar qe los rangos de indices de la forma `i:j` no incluyen el límite superior."
   ]
  },
  {
   "cell_type": "markdown",
   "metadata": {},
   "source": [
    "hay otros iterables que puede investigar: los tuples y las cadenas de caracteres se comportan de esta manera. "
   ]
  },
  {
   "cell_type": "markdown",
   "metadata": {},
   "source": [
    "## Matrices"
   ]
  },
  {
   "cell_type": "markdown",
   "metadata": {},
   "source": [
    "Los elementos numéricos como las matrices necesitan de la librería de álgebra lineal `numpy` para serdefinidos:"
   ]
  },
  {
   "cell_type": "code",
   "execution_count": 14,
   "metadata": {},
   "outputs": [],
   "source": [
    "I = np.array(\n",
    "    [\n",
    "        [1, 0, 0],\n",
    "        [0, 1, 0],\n",
    "        [0, 0, 1]\n",
    "    ]\n",
    ")"
   ]
  },
  {
   "cell_type": "markdown",
   "metadata": {},
   "source": [
    "notar que una matriz de dos dimensiones es una lista , que contene una lista por cada fila, cada una de los cuales contiene tantos elementos como columnas. "
   ]
  },
  {
   "cell_type": "markdown",
   "metadata": {},
   "source": [
    "Para generar un vector columna:"
   ]
  },
  {
   "cell_type": "code",
   "execution_count": 19,
   "metadata": {},
   "outputs": [],
   "source": [
    "col = np.array([[1],[2],[3]])"
   ]
  },
  {
   "cell_type": "code",
   "execution_count": 20,
   "metadata": {},
   "outputs": [
    {
     "data": {
      "text/plain": [
       "array([[1],\n",
       "       [2],\n",
       "       [3]])"
      ]
     },
     "execution_count": 20,
     "metadata": {},
     "output_type": "execute_result"
    }
   ],
   "source": [
    "col"
   ]
  },
  {
   "cell_type": "markdown",
   "metadata": {},
   "source": [
    "La multiplicación de matrices se realiza con el método dot, que tienen todos los elementos np.array:"
   ]
  },
  {
   "cell_type": "code",
   "execution_count": 21,
   "metadata": {},
   "outputs": [
    {
     "data": {
      "text/plain": [
       "array([[1],\n",
       "       [2],\n",
       "       [3]])"
      ]
     },
     "execution_count": 21,
     "metadata": {},
     "output_type": "execute_result"
    }
   ],
   "source": [
    "I.dot(col)"
   ]
  },
  {
   "cell_type": "code",
   "execution_count": 22,
   "metadata": {},
   "outputs": [
    {
     "data": {
      "text/plain": [
       "array([[1, 0, 0],\n",
       "       [0, 1, 0],\n",
       "       [0, 0, 1]])"
      ]
     },
     "execution_count": 22,
     "metadata": {},
     "output_type": "execute_result"
    }
   ],
   "source": [
    "I.dot(I)"
   ]
  },
  {
   "cell_type": "code",
   "execution_count": 25,
   "metadata": {},
   "outputs": [
    {
     "data": {
      "text/plain": [
       "array([[1],\n",
       "       [4],\n",
       "       [9]])"
      ]
     },
     "execution_count": 25,
     "metadata": {},
     "output_type": "execute_result"
    }
   ],
   "source": [
    "col*col"
   ]
  },
  {
   "cell_type": "markdown",
   "metadata": {},
   "source": [
    "## Control de Flujo"
   ]
  },
  {
   "cell_type": "markdown",
   "metadata": {},
   "source": [
    "En las celdas`Markdown` es posible insertar texto con formato. podemos usar comandos al estilo latex para insertar ecuaciones. ¡No se asuste!, dice la guía, es realmente muy fácil:"
   ]
  },
  {
   "cell_type": "markdown",
   "metadata": {},
   "source": [
    "$ S = \\sum_{1}^{\\infty} \\frac{1}{n^2} $\n",
    "\n",
    "\n",
    "$ S = 1 + \\frac{1}{4} + \\frac{1}{9} + ...  $"
   ]
  },
  {
   "cell_type": "code",
   "execution_count": null,
   "metadata": {},
   "outputs": [],
   "source": [
    "Tomemos esta serie para practicar un poco:"
   ]
  },
  {
   "cell_type": "code",
   "execution_count": 26,
   "metadata": {},
   "outputs": [],
   "source": [
    "# 1/n**2\n",
    "S = 1 + 1/4 + 1/9 + 1/16 + 1/25 + 1/36 + 1/7**2 + 1/8**2"
   ]
  },
  {
   "cell_type": "code",
   "execution_count": 27,
   "metadata": {},
   "outputs": [
    {
     "data": {
      "text/plain": [
       "1.527422052154195"
      ]
     },
     "execution_count": 27,
     "metadata": {},
     "output_type": "execute_result"
    }
   ],
   "source": [
    "S"
   ]
  },
  {
   "cell_type": "markdown",
   "metadata": {},
   "source": [
    "Tratemos de tomas en forma automática tantos términos en la seria como sea necesario:"
   ]
  },
  {
   "cell_type": "code",
   "execution_count": 28,
   "metadata": {},
   "outputs": [
    {
     "name": "stdout",
     "output_type": "stream",
     "text": [
      "el valor de e es:  1.0 en el paso  1\n",
      "el valor de e es:  0.2 en el paso  2\n",
      "el valor de e es:  0.08163265306122452 en el paso  3\n",
      "el valor de e es:  0.04390243902439024 en el paso  4\n",
      "el valor de e es:  0.027329664072879126 en el paso  5\n",
      "el valor de e es:  0.018625442354255846 en el paso  6\n",
      "el valor de e es:  0.013499274414000263 en el paso  7\n",
      "el valor de e es:  0.01022965458562244 en el paso  8\n",
      "el valor de e es:  0.008017883972014757 en el paso  9\n",
      "el valor de e es:  0.006452579827864148 en el paso  10\n",
      "el valor de e es:  0.005304423645332071 en el paso  11\n",
      "el valor de e es:  0.0044374109325053725 en el paso  12\n",
      "el valor de e es:  0.003766747166583278 en el paso  13\n",
      "el valor de e es:  0.0032373440906811454 en el paso  14\n",
      "el valor de e es:  0.0028121558852933263 en el paso  15\n",
      "el valor de e es:  0.0024655275329862904 en el paso  16\n",
      "el valor de e es:  0.002179237260418972 en el paso  17\n",
      "el valor de e es:  0.0019400546995336633 en el paso  18\n",
      "el valor de e es:  0.0017381859769140975 en el paso  19\n",
      "el valor de e es:  0.0015662558385138297 en el paso  20\n",
      "el valor de e es:  0.001418624860809895 en el paso  21\n",
      "el valor de e es:  0.0012909213754032003 en el paso  22\n",
      "el valor de e es:  0.0011797142782606711 en el paso  23\n",
      "el valor de e es:  0.0010822802704733882 en el paso  24\n",
      "el valor de e es:  0.0009964356229857799 en el paso  25\n",
      "la serie conver(gj)e en  25 pasos\n",
      "el valor final de S es: 1.6057234035910009\n"
     ]
    }
   ],
   "source": [
    "S = 0\n",
    "\n",
    "for i in range(1,100):\n",
    "    Sout = S\n",
    "    S += 1/i**2\n",
    "    e = np.abs((Sout-S)/S)\n",
    "    print('el valor de e es: ', e , 'en el paso ', i)\n",
    "    if e < 1e-3:\n",
    "        print('la serie conver(gj)e en ', i, 'pasos')\n",
    "        break\n",
    "\n",
    "print('el valor final de S es:', S)"
   ]
  },
  {
   "cell_type": "markdown",
   "metadata": {},
   "source": [
    "como vimos, la sentencia `for` nos permite iterar en un contador en un rango. la sentencia `range` nos gerena un objeto iterador que toma valores entre el límite inferior y sin incluir el límite superior. Si el límite inferior no se da explícitamente, se usa el cero. "
   ]
  },
  {
   "cell_type": "markdown",
   "metadata": {},
   "source": [
    "Boremos las variables generadas:"
   ]
  },
  {
   "cell_type": "code",
   "execution_count": 29,
   "metadata": {},
   "outputs": [],
   "source": [
    "del e, S, Sout"
   ]
  },
  {
   "cell_type": "markdown",
   "metadata": {},
   "source": [
    "Y reinventemos el mundo:"
   ]
  },
  {
   "cell_type": "code",
   "execution_count": 30,
   "metadata": {},
   "outputs": [
    {
     "name": "stdout",
     "output_type": "stream",
     "text": [
      "la serie no converge\n"
     ]
    }
   ],
   "source": [
    "e = [1]\n",
    "S = [1]\n",
    "i = 1\n",
    "while e[-1] > 1e-100:\n",
    "    i += 1\n",
    "    S.append( S[-1] + 1/i**2 )\n",
    "    e.append( np.abs((S[-2]-S[-1])/S[-1]) )\n",
    "    if i > 100:\n",
    "        print('la serie no converge')\n",
    "        break"
   ]
  },
  {
   "cell_type": "markdown",
   "metadata": {},
   "source": [
    "lo que hicimos con el código anterior es lo mismo de antes , pero la sentencia `while` itera el código hasta que la condición lógica que la condiciona retorna `False`. \n",
    "\n",
    "En el ejemplpo definimos las listas `e` t `S` y manipulamos sus elementos para almacenar  los errores y las sumas parciales en cada paso. La iteración se realiza solo si el error es más grande que una tolerancia (en este caso ridículamente exigente) y se pone el condicional if que rompe la iteración (`break`) si se han realizado más de 100 vueltas"
   ]
  },
  {
   "cell_type": "markdown",
   "metadata": {},
   "source": []
  },
  {
   "cell_type": "code",
   "execution_count": 31,
   "metadata": {
    "scrolled": true
   },
   "outputs": [
    {
     "data": {
      "text/plain": [
       "[1,\n",
       " 1.25,\n",
       " 1.3611111111111112,\n",
       " 1.4236111111111112,\n",
       " 1.4636111111111112,\n",
       " 1.4913888888888889,\n",
       " 1.511797052154195,\n",
       " 1.527422052154195,\n",
       " 1.5397677311665408,\n",
       " 1.5497677311665408,\n",
       " 1.558032193976458,\n",
       " 1.5649766384209025,\n",
       " 1.5708937981842162,\n",
       " 1.5759958390005426,\n",
       " 1.580440283444987,\n",
       " 1.584346533444987,\n",
       " 1.587806741057444,\n",
       " 1.5908931608105303,\n",
       " 1.5936632439130234,\n",
       " 1.5961632439130233,\n",
       " 1.5984308176091684,\n",
       " 1.6004969333116477,\n",
       " 1.6023872924798896,\n",
       " 1.6041234035910008,\n",
       " 1.6057234035910009,\n",
       " 1.6072026935318293,\n",
       " 1.6085744356443121,\n",
       " 1.6098499458483937,\n",
       " 1.6110390064904865,\n",
       " 1.6121501176015975,\n",
       " 1.6131907003279242,\n",
       " 1.6141672628279242,\n",
       " 1.6150855364734706,\n",
       " 1.6159505883765848,\n",
       " 1.616766914907197,\n",
       " 1.6175385198454686,\n",
       " 1.6182689800353882,\n",
       " 1.6189615008110114,\n",
       " 1.619618963006935,\n",
       " 1.6202439630069352,\n",
       " 1.6208388470045556,\n",
       " 1.621405740428592,\n",
       " 1.6219465733112313,\n",
       " 1.6224631022368512,\n",
       " 1.622956929397345,\n",
       " 1.6234295191894055,\n",
       " 1.623882212715888,\n",
       " 1.6243162404936657,\n",
       " 1.6247327336215291,\n",
       " 1.625132733621529,\n",
       " 1.6255172011340242,\n",
       " 1.6258870236192313,\n",
       " 1.626243022195237,\n",
       " 1.626585957723358,\n",
       " 1.6269165362357545,\n",
       " 1.6272354137867748,\n",
       " 1.627543200798163,\n",
       " 1.627840465958686,\n",
       " 1.6281277397305907,\n",
       " 1.6284055175083685,\n",
       " 1.6286742624694004,\n",
       " 1.628934408150982,\n",
       " 1.629186360783887,\n",
       " 1.629430501408887,\n",
       " 1.6296671877994195,\n",
       " 1.6298967562108062,\n",
       " 1.630119522974005,\n",
       " 1.6303357859497836,\n",
       " 1.630545825857366,\n",
       " 1.630749907490019,\n",
       " 1.6309482808286422,\n",
       " 1.63114118206321,\n",
       " 1.6313288345308399,\n",
       " 1.6315114495783198,\n",
       " 1.6316892273560977,\n",
       " 1.6318623575500035,\n",
       " 1.6320310200563284,\n",
       " 1.6321953856053093,\n",
       " 1.6323556163375637,\n",
       " 1.6325118663375637,\n",
       " 1.6326642821278397,\n",
       " 1.6328130031272448,\n",
       " 1.632958162076294,\n",
       " 1.6330998854323031,\n",
       " 1.6332382937368013,\n",
       " 1.6333735019574611,\n",
       " 1.6335056198065825,\n",
       " 1.6336347520379875,\n",
       " 1.633760998724012,\n",
       " 1.6338844555141354,\n",
       " 1.634005213876652,\n",
       " 1.6341233613246673,\n",
       " 1.6342389816275924,\n",
       " 1.634352155009213,\n",
       " 1.6344629583333128,\n",
       " 1.6345714652777572,\n",
       " 1.6346777464978657,\n",
       " 1.6347818697798315,\n",
       " 1.6348839001848923,\n",
       " 1.6349839001848923,\n",
       " 1.635081929789833]"
      ]
     },
     "execution_count": 31,
     "metadata": {},
     "output_type": "execute_result"
    }
   ],
   "source": [
    "S"
   ]
  },
  {
   "cell_type": "code",
   "execution_count": 42,
   "metadata": {},
   "outputs": [],
   "source": [
    "plt.rc('figure', figsize=(15,15))\n",
    "plt.rc('axes',labelsize=28)\n",
    "plt.rc('xtick',labelsize=28)\n",
    "plt.rc('ytick',labelsize=28)"
   ]
  },
  {
   "cell_type": "code",
   "execution_count": 72,
   "metadata": {},
   "outputs": [
    {
     "data": {
      "image/png": "[encoded data removed]",
      "text/plain": [
       "<Figure size 1080x1080 with 1 Axes>"
      ]
     },
     "metadata": {
      "needs_background": "light"
     },
     "output_type": "display_data"
    }
   ],
   "source": [
    "plt.plot(S)\n",
    "plt.xlabel('i')\n",
    "plt.ylabel('S')\n",
    "plt.axhline(S[-1], ls='--',c='k', lw=5)\n",
    "t=plt.annotate('S = {:.5f} $\\pm$ {:.0e}'.format(S[-1], e[-1]), xy = (0.5, 0.97), xycoords='axes fraction' , fontsize='18')"
   ]
  },
  {
   "cell_type": "code",
   "execution_count": 47,
   "metadata": {},
   "outputs": [
    {
     "data": {
      "image/png": "[encoded data removed]",
      "text/plain": [
       "<Figure size 1080x1080 with 1 Axes>"
      ]
     },
     "metadata": {
      "needs_background": "light"
     },
     "output_type": "display_data"
    }
   ],
   "source": [
    "plt.semilogy(e)\n",
    "plt.ylabel('e')\n",
    "plt.xlabel('i')\n",
    "plt.grid()"
   ]
  },
  {
   "cell_type": "markdown",
   "metadata": {},
   "source": [
    "El comando `plot` de la librería `numpy` nos permite graficar listas o array, o mas en gerenal cualquier iterable que contenga números reales. El error lo graficamos en escala semilogarítmica para comparar escalas discímiles."
   ]
  },
  {
   "cell_type": "code",
   "execution_count": null,
   "metadata": {},
   "outputs": [],
   "source": []
  }
 ],
 "metadata": {
  "kernelspec": {
   "display_name": "Python 3",
   "language": "python",
   "name": "python3"
  },
  "language_info": {
   "codemirror_mode": {
    "name": "ipython",
    "version": 3
   },
   "file_extension": ".py",
   "mimetype": "text/x-python",
   "name": "python",
   "nbconvert_exporter": "python",
   "pygments_lexer": "ipython3",
   "version": "3.6.10"
  }
 },
 "nbformat": 4,
 "nbformat_minor": 4
}
