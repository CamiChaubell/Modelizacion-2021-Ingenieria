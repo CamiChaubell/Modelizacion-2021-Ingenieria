{
 "cells": [
  {
   "cell_type": "code",
   "execution_count": 20,
   "id": "laughing-divide",
   "metadata": {},
   "outputs": [],
   "source": [
    "import numpy as np\n",
    "np.set_printoptions(precision=2, linewidth=100)"
   ]
  },
  {
   "cell_type": "code",
   "execution_count": 21,
   "id": "joint-effort",
   "metadata": {},
   "outputs": [],
   "source": [
    "M = np.random.rand(6,6)"
   ]
  },
  {
   "cell_type": "code",
   "execution_count": 22,
   "id": "settled-nylon",
   "metadata": {},
   "outputs": [
    {
     "data": {
      "text/plain": [
       "array([[0.36, 0.51, 0.51, 0.78, 0.08, 0.54],\n",
       "       [0.81, 0.01, 0.63, 0.52, 0.04, 0.04],\n",
       "       [0.29, 0.7 , 0.21, 0.71, 0.71, 0.94],\n",
       "       [0.51, 0.33, 0.63, 0.34, 0.98, 0.18],\n",
       "       [0.38, 0.39, 0.51, 0.35, 0.48, 0.31],\n",
       "       [0.64, 0.8 , 0.86, 0.38, 0.72, 0.73]])"
      ]
     },
     "execution_count": 22,
     "metadata": {},
     "output_type": "execute_result"
    }
   ],
   "source": [
    "M"
   ]
  },
  {
   "cell_type": "code",
   "execution_count": 6,
   "id": "advanced-touch",
   "metadata": {},
   "outputs": [
    {
     "data": {
      "text/plain": [
       "array([[0.4554924]])"
      ]
     },
     "execution_count": 6,
     "metadata": {},
     "output_type": "execute_result"
    }
   ],
   "source": [
    "M[0:1,2:3]"
   ]
  },
  {
   "cell_type": "code",
   "execution_count": 24,
   "id": "attractive-runner",
   "metadata": {},
   "outputs": [
    {
     "name": "stdout",
     "output_type": "stream",
     "text": [
      "I :  [0, 1] J:  [0, 1]\n",
      "[[0.36 0.51]\n",
      " [0.81 0.01]]\n",
      "-------------------\n",
      "I :  [0, 1] J:  [2, 3]\n",
      "[[0.51 0.78]\n",
      " [0.63 0.52]]\n",
      "-------------------\n",
      "I :  [0, 1] J:  [4, 5]\n",
      "[[0.08 0.54]\n",
      " [0.04 0.04]]\n",
      "-------------------\n",
      "I :  [2, 3] J:  [0, 1]\n",
      "[[0.29 0.7 ]\n",
      " [0.51 0.33]]\n",
      "-------------------\n",
      "I :  [2, 3] J:  [2, 3]\n",
      "[[0.21 0.71]\n",
      " [0.63 0.34]]\n",
      "-------------------\n",
      "I :  [2, 3] J:  [4, 5]\n",
      "[[0.71 0.94]\n",
      " [0.98 0.18]]\n",
      "-------------------\n",
      "I :  [4, 5] J:  [0, 1]\n",
      "[[0.38 0.39]\n",
      " [0.64 0.8 ]]\n",
      "-------------------\n",
      "I :  [4, 5] J:  [2, 3]\n",
      "[[0.51 0.35]\n",
      " [0.86 0.38]]\n",
      "-------------------\n",
      "I :  [4, 5] J:  [4, 5]\n",
      "[[0.48 0.31]\n",
      " [0.72 0.73]]\n",
      "-------------------\n"
     ]
    }
   ],
   "source": [
    "for i in [0,1,2]:\n",
    "    for j in [0,1,2]:\n",
    "        I  = [2*i, 2*i+1] #np.linspace(2*i, 2*i+1, 2)#[0,1]\n",
    "        J  = [2*j, 2*j+1]\n",
    "        print('I : ', I, 'J: ', J)\n",
    "        print( M [np.ix_(I, J)] )\n",
    "        print('-------------------')"
   ]
  },
  {
   "cell_type": "code",
   "execution_count": 15,
   "id": "prerequisite-multiple",
   "metadata": {},
   "outputs": [
    {
     "data": {
      "text/plain": [
       "array([[0.4554924 , 0.54306003],\n",
       "       [0.38067492, 0.55509906]])"
      ]
     },
     "execution_count": 15,
     "metadata": {},
     "output_type": "execute_result"
    }
   ],
   "source": [
    "M[np.ix_([0,1],[2,3])]"
   ]
  },
  {
   "cell_type": "code",
   "execution_count": 25,
   "id": "developmental-cholesterol",
   "metadata": {},
   "outputs": [],
   "source": [
    "M3 = np.random.rand(8,8)"
   ]
  },
  {
   "cell_type": "code",
   "execution_count": 26,
   "id": "victorian-military",
   "metadata": {},
   "outputs": [
    {
     "data": {
      "text/plain": [
       "array([[0.81, 0.1 , 0.97, 0.16, 0.83, 0.73, 0.21, 0.5 ],\n",
       "       [0.3 , 0.16, 0.34, 0.5 , 0.65, 0.83, 0.68, 0.06],\n",
       "       [0.77, 0.36, 0.69, 0.01, 0.15, 0.08, 0.92, 0.27],\n",
       "       [0.42, 0.17, 0.31, 0.88, 0.82, 0.05, 0.67, 0.56],\n",
       "       [0.24, 0.94, 0.68, 0.24, 0.51, 0.91, 0.3 , 0.74],\n",
       "       [0.8 , 0.75, 0.41, 0.15, 0.71, 0.69, 0.56, 0.8 ],\n",
       "       [0.52, 0.49, 0.15, 0.11, 0.34, 0.8 , 0.39, 0.37],\n",
       "       [0.02, 0.12, 0.62, 0.  , 0.82, 0.98, 0.94, 0.93]])"
      ]
     },
     "execution_count": 26,
     "metadata": {},
     "output_type": "execute_result"
    }
   ],
   "source": [
    "M3"
   ]
  },
  {
   "cell_type": "code",
   "execution_count": 33,
   "id": "approximate-heaven",
   "metadata": {},
   "outputs": [
    {
     "name": "stdout",
     "output_type": "stream",
     "text": [
      "I :  [0 1 2 3] ; J:  [0 1 2 3]\n",
      "[[0.81 0.1  0.97 0.16]\n",
      " [0.3  0.16 0.34 0.5 ]\n",
      " [0.77 0.36 0.69 0.01]\n",
      " [0.42 0.17 0.31 0.88]]\n",
      "-------------------\n",
      "I :  [0 1 2 3] ; J:  [4 5 6 7]\n",
      "[[0.83 0.73 0.21 0.5 ]\n",
      " [0.65 0.83 0.68 0.06]\n",
      " [0.15 0.08 0.92 0.27]\n",
      " [0.82 0.05 0.67 0.56]]\n",
      "-------------------\n",
      "I :  [4 5 6 7] ; J:  [0 1 2 3]\n",
      "[[0.24 0.94 0.68 0.24]\n",
      " [0.8  0.75 0.41 0.15]\n",
      " [0.52 0.49 0.15 0.11]\n",
      " [0.02 0.12 0.62 0.  ]]\n",
      "-------------------\n",
      "I :  [4 5 6 7] ; J:  [4 5 6 7]\n",
      "[[0.51 0.91 0.3  0.74]\n",
      " [0.71 0.69 0.56 0.8 ]\n",
      " [0.34 0.8  0.39 0.37]\n",
      " [0.82 0.98 0.94 0.93]]\n",
      "-------------------\n"
     ]
    }
   ],
   "source": [
    "for i in [0,1]:\n",
    "    for j in [0,1]:\n",
    "        I  = np.linspace(4*i, 4*(i+1)-1, 4).astype(int) #np.linspace(2*i, 2*i+1, 2)#[0,1]\n",
    "        J  = np.linspace(4*j, 4*(j+1)-1, 4).astype(int) #[2*j, 2*j+1]\n",
    "        print('I : ', I, '; J: ', J)\n",
    "        print( M3 [np.ix_(I, J)] )\n",
    "        print('-------------------')"
   ]
  },
  {
   "cell_type": "markdown",
   "id": "numeric-azerbaijan",
   "metadata": {},
   "source": [
    "# Lectura de datos de un archivo\n",
    " y escritura"
   ]
  },
  {
   "cell_type": "code",
   "execution_count": 37,
   "id": "eight-volunteer",
   "metadata": {},
   "outputs": [],
   "source": [
    "np.savetxt('M3_randdom.dat', M3, fmt='%8.3f')"
   ]
  },
  {
   "cell_type": "code",
   "execution_count": 38,
   "id": "fantastic-president",
   "metadata": {},
   "outputs": [],
   "source": [
    "M3R = np.loadtxt('M3_randdom.dat')"
   ]
  },
  {
   "cell_type": "code",
   "execution_count": 39,
   "id": "forced-breathing",
   "metadata": {},
   "outputs": [
    {
     "data": {
      "text/plain": [
       "array([[0.81, 0.1 , 0.97, 0.16, 0.83, 0.73, 0.21, 0.5 ],\n",
       "       [0.3 , 0.16, 0.34, 0.5 , 0.65, 0.83, 0.68, 0.06],\n",
       "       [0.77, 0.36, 0.69, 0.01, 0.15, 0.08, 0.92, 0.27],\n",
       "       [0.42, 0.17, 0.31, 0.88, 0.82, 0.05, 0.67, 0.56],\n",
       "       [0.24, 0.94, 0.68, 0.24, 0.51, 0.91, 0.3 , 0.74],\n",
       "       [0.8 , 0.75, 0.41, 0.15, 0.71, 0.69, 0.56, 0.8 ],\n",
       "       [0.52, 0.49, 0.15, 0.12, 0.34, 0.8 , 0.39, 0.37],\n",
       "       [0.02, 0.12, 0.62, 0.  , 0.82, 0.97, 0.94, 0.93]])"
      ]
     },
     "execution_count": 39,
     "metadata": {},
     "output_type": "execute_result"
    }
   ],
   "source": [
    "M3R"
   ]
  },
  {
   "cell_type": "code",
   "execution_count": null,
   "id": "black-retention",
   "metadata": {},
   "outputs": [],
   "source": []
  }
 ],
 "metadata": {
  "kernelspec": {
   "display_name": "Python 3",
   "language": "python",
   "name": "python3"
  },
  "language_info": {
   "codemirror_mode": {
    "name": "ipython",
    "version": 3
   },
   "file_extension": ".py",
   "mimetype": "text/x-python",
   "name": "python",
   "nbconvert_exporter": "python",
   "pygments_lexer": "ipython3",
   "version": "3.9.2"
  }
 },
 "nbformat": 4,
 "nbformat_minor": 5
}
